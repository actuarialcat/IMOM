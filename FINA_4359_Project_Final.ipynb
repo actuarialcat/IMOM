{
 "cells": [
  {
   "cell_type": "markdown",
   "metadata": {},
   "source": [
    "# Paper Replication\n",
    "### “Eureka, a version of Momentum that Works in Japan\" by Denis Chaves"
   ]
  },
  {
   "cell_type": "markdown",
   "metadata": {},
   "source": [
    "## Content Table\n",
    "\n",
    "1. [Build the signal](#bullet_1)\n",
    "1. [Build Portfolios](#bullet_2)\n",
    "1. [Summary](#bullet_3)\n",
    "1. [Size Analysis](#bullet_4)\n",
    "1. [IUMD Factor](#bullet_5)\n",
    "1. [Performence After Formation](#bullet_6)\n",
    "1. [5 Factor Idiosyncratic Momentum](#bullet_7)\n",
    "\n"
   ]
  },
  {
   "cell_type": "markdown",
   "metadata": {},
   "source": [
    "## Bookmarks\n",
    "\n",
    "* [Table 1: WML Portfolios](#table_1)\n",
    "* [Table 2: WML Portfolios Factor Regressions](#table_2)\n",
    "* [Table 3: WML Portfolios in Size Groups](#table_3)\n",
    "* [Table 5: Excess Returns and Factor Loadings](#table_5)\n",
    "* [Table 6: Spanning Tests](#table_6)\n",
    "* [Table 7: UMD Extreme Months](#table_7)\n",
    "* [Table 8.1: Five-factor IMOM Summary](#table_8.1)\n",
    "* [Table 8.2: Five-factor IMOM Factor Regressions](#table_8.2)\n",
    "\n",
    "\n",
    "* [Figure 1: Average returns](#figure_1)\n",
    "* [Figure 2: Four factor alphas](#figure_2)\n",
    "* [Figure 2.1: Five-factor alphas](#figure_2.1)\n",
    "* [Figure 3: Cumulative performance](#figure_3)\n",
    "* [Figure 4.1: Five-factor IMOM P/L Curve](#figure_4.1)\n",
    "* [Figure 4.2: Five-factor IMOM Cumulative performance](#figure_4.2)\n",
    "\n"
   ]
  },
  {
   "cell_type": "markdown",
   "metadata": {},
   "source": [
    "# 1. Build the signal <a class=\"anchor\" id=\"bullet_1\"></a>"
   ]
  },
  {
   "cell_type": "code",
   "execution_count": 1,
   "metadata": {},
   "outputs": [],
   "source": [
    "options(repr.plot.width=15, repr.plot.height=10)"
   ]
  },
  {
   "cell_type": "code",
   "execution_count": 2,
   "metadata": {},
   "outputs": [
    {
     "name": "stderr",
     "output_type": "stream",
     "text": [
      "Loading required package: RMySQL\n",
      "\n",
      "Loading required package: DBI\n",
      "\n",
      "Loading required package: data.table\n",
      "\n",
      "Loading required package: dplyr\n",
      "\n",
      "\n",
      "Attaching package: 'dplyr'\n",
      "\n",
      "\n",
      "The following objects are masked from 'package:data.table':\n",
      "\n",
      "    between, first, last\n",
      "\n",
      "\n",
      "The following objects are masked from 'package:stats':\n",
      "\n",
      "    filter, lag\n",
      "\n",
      "\n",
      "The following objects are masked from 'package:base':\n",
      "\n",
      "    intersect, setdiff, setequal, union\n",
      "\n",
      "\n",
      "Loading required package: feather\n",
      "\n",
      "Loading required package: ggplot2\n",
      "\n",
      "Loading required package: RcppRoll\n",
      "\n",
      "Loading required package: lubridate\n",
      "\n",
      "\n",
      "Attaching package: 'lubridate'\n",
      "\n",
      "\n",
      "The following objects are masked from 'package:dplyr':\n",
      "\n",
      "    intersect, setdiff, union\n",
      "\n",
      "\n",
      "The following objects are masked from 'package:data.table':\n",
      "\n",
      "    hour, isoweek, mday, minute, month, quarter, second, wday, week,\n",
      "    yday, year\n",
      "\n",
      "\n",
      "The following objects are masked from 'package:base':\n",
      "\n",
      "    date, intersect, setdiff, union\n",
      "\n",
      "\n",
      "Loading required package: rollRegres\n",
      "\n",
      "Loading required package: stargazer\n",
      "\n",
      "\n",
      "Please cite as: \n",
      "\n",
      "\n",
      " Hlavac, Marek (2018). stargazer: Well-Formatted Regression and Summary Statistics Tables.\n",
      "\n",
      " R package version 5.2.2. https://CRAN.R-project.org/package=stargazer \n",
      "\n",
      "\n"
     ]
    }
   ],
   "source": [
    "options(warn=-1)\n",
    "\n",
    "require(RMySQL)  # for retreiving data\n",
    "require(data.table)  # read in pandas-type data frame\n",
    "require(dplyr)  # for syntax\n",
    "require(feather) # to read in feather files\n",
    "require(ggplot2) # for making pretty graphs\n",
    "require(RcppRoll) # for creating lag/rolling\n",
    "require(lubridate) # for manipulating dates\n",
    "require(rollRegres) # for rolling regression\n",
    "require(stargazer) # for fancy tables\n",
    "\n",
    "options(warn=0)"
   ]
  },
  {
   "cell_type": "markdown",
   "metadata": {},
   "source": [
    "## 1.1 Load Data"
   ]
  },
  {
   "cell_type": "code",
   "execution_count": 3,
   "metadata": {},
   "outputs": [
    {
     "name": "stderr",
     "output_type": "stream",
     "text": [
      "Warning message in .local(conn, statement, ...):\n",
      "\"Decimal MySQL column 1 imported as numeric\"\n",
      "Warning message in .local(conn, statement, ...):\n",
      "\"Decimal MySQL column 2 imported as numeric\"\n",
      "Warning message in .local(conn, statement, ...):\n",
      "\"Decimal MySQL column 3 imported as numeric\"\n",
      "Warning message in .local(conn, statement, ...):\n",
      "\"Decimal MySQL column 4 imported as numeric\"\n",
      "Warning message in .local(conn, statement, ...):\n",
      "\"Decimal MySQL column 5 imported as numeric\"\n",
      "Warning message in .local(conn, statement, ...):\n",
      "\"Decimal MySQL column 6 imported as numeric\"\n"
     ]
    },
    {
     "data": {
      "text/html": [
       "TRUE"
      ],
      "text/latex": [
       "TRUE"
      ],
      "text/markdown": [
       "TRUE"
      ],
      "text/plain": [
       "[1] TRUE"
      ]
     },
     "metadata": {},
     "output_type": "display_data"
    }
   ],
   "source": [
    "#Load Data\n",
    "con_server = dbConnect(\n",
    "    MySQL(),\n",
    "    host = \"apkwan.cqs7w8sr4z03.ap-east-1.rds.amazonaws.com\",\n",
    "    user = \"leung_chak\",\n",
    "    password = \"ac06ec\",\n",
    "    dbname = \"temp_leung_chak\"\n",
    ")\n",
    "\n",
    "data.path = \"G:/My Drive/Archive/Data/data_for_quant_trading/feather/\"\n",
    "\n",
    "crsp_msf = read_feather(paste0(data.path,\"crsp_msf.feather\"))\n",
    "dsenames = read_feather(paste0(data.path,\"dsenames.feather\"))\n",
    "\n",
    "msf = read_feather(paste0(data.path,'msf_delisting_adjusted.feather'))\n",
    "chaves_betas = read_feather(paste0(data.path,\"chaves_betas.feather\"))\n",
    "\n",
    "ff_four = read_feather(paste0(data.path,\"ff_four_factor_monthly.feather\"))\n",
    "ff_five = dbGetQuery(con_server, \"SELECT * from ff.five_factor_monthly\")\n",
    "\n",
    "setDT(crsp_msf)\n",
    "setkey(crsp_msf, permno, date)\n",
    "\n",
    "setDT(dsenames)\n",
    "setkey(crsp_msf, permno)\n",
    "\n",
    "setDT(msf)\n",
    "\n",
    "setDT(chaves_betas)\n",
    "setkey(chaves_betas, permno, end_of_estimation_window)\n",
    "\n",
    "setDT(ff_four)\n",
    "setDT(ff_five)\n",
    "\n",
    "\n",
    "dbDisconnect(con_server)"
   ]
  },
  {
   "cell_type": "markdown",
   "metadata": {},
   "source": [
    "## 1.2 Misc Functions"
   ]
  },
  {
   "cell_type": "code",
   "execution_count": 4,
   "metadata": {},
   "outputs": [],
   "source": [
    "end_of_month=function(x){\n",
    "    x=as.Date(x)\n",
    "    day(x)=lubridate::days_in_month(x)        \n",
    "    x %>% as.character\n",
    "}\n",
    "\n",
    "max_vector = function(x, limit) {\n",
    "    return(ifelse(x < limit, limit, x))\n",
    "}"
   ]
  },
  {
   "cell_type": "markdown",
   "metadata": {},
   "source": [
    "## 1.3 Data Pre-Processing"
   ]
  },
  {
   "cell_type": "code",
   "execution_count": 5,
   "metadata": {},
   "outputs": [],
   "source": [
    "#Filter stock \n",
    "msf = msf[shrcd %in% c(10,11),]     #common stock\n",
    "msf = msf[hexcd %in% c(1,2,3),]     #stock exchange\n",
    "\n",
    "#Check for gaps\n",
    "msf = data.table(msf, key=c('permno','date'))\n",
    "\n",
    "unique_dates = msf[, list(date,dummy = 1)] %>% unique\n",
    "start_end_every_stock = msf[, list(start = min(date), end = max(date), dummy = 1), by = list(permno)]\n",
    "\n",
    "msf_no_gaps = merge(start_end_every_stock, unique_dates,\n",
    "                    by = 'dummy', allow.cartesian = TRUE) %>%\n",
    "    subset(date>=start & date<=end)\n",
    "\n",
    "msf = merge(msf, msf_no_gaps[, list(permno,date)], all.y = TRUE, by = c('permno','date'))\n",
    "\n",
    "\n",
    "#End of month date\n",
    "msf = msf[, list(date)] %>% unique %>% .[, end_of_month := end_of_month(date)] %>%\n",
    "    merge(msf, by = 'date')\n",
    "\n",
    "ff_four = ff_four[, list(date)] %>% unique %>% .[, end_of_month := end_of_month(date)] %>%\n",
    "    merge(ff_four, by = 'date')\n",
    "\n",
    "ff_five = ff_five[, list(dt)] %>% unique %>% .[, end_of_month := end_of_month(dt)] %>%\n",
    "    merge(ff_five, by = 'dt')\n",
    "\n",
    "\n",
    "#Merge data\n",
    "signal = merge(msf, ff_four, all.x = TRUE, by = 'end_of_month')\n",
    "\n",
    "\n",
    "#Calculate\n",
    "signal[, ret_rf := ret - rf]\n",
    "signal[, mcap := abs(prc*shrout)]"
   ]
  },
  {
   "cell_type": "markdown",
   "metadata": {},
   "source": [
    "## 1.4 Calculate idiosyncratic return"
   ]
  },
  {
   "cell_type": "code",
   "execution_count": 6,
   "metadata": {},
   "outputs": [],
   "source": [
    "#Create idiosyncratic return by regression\n",
    "idiosyncratic_return_CAPM = function(ret_rf, mkt_rf){\n",
    "    roll_width = 36  #12 for 1-year, 36 for 3-year\n",
    "    \n",
    "    if(length(ret_rf) < roll_width){\n",
    "        return(NA)\n",
    "    }\n",
    "    \n",
    "    ret_rf = ifelse(is.na(ret_rf), 0, ret_rf)\n",
    "    \n",
    "    fit_lm = roll_regres(ret_rf ~ mkt_rf, width = roll_width)\n",
    "    \n",
    "    idio_ret = ret_rf - fit_lm$coefs[,1] - fit_lm$coefs[,2] * mkt_rf\n",
    "    \n",
    "    idio_ret = ifelse(idio_ret < -0.99, -0.99, idio_ret)\n",
    "    \n",
    "    return(idio_ret)\n",
    "}\n",
    "\n",
    "signal = na.omit(signal, cols = \"ret_rf\")\n",
    "\n",
    "signal[, idio_ret := -1, by = permno]\n",
    "signal[, idio_ret := idiosyncratic_return_CAPM(ret_rf, mkt_rf), by = permno]"
   ]
  },
  {
   "cell_type": "markdown",
   "metadata": {},
   "source": [
    "## 1.5 Create lag variables"
   ]
  },
  {
   "cell_type": "code",
   "execution_count": 7,
   "metadata": {},
   "outputs": [],
   "source": [
    "setkey(signal, permno, end_of_month)\n",
    "\n",
    "#Misc\n",
    "signal[, prc_lag1 := shift(prc, n = 1, fill = NA, type = 'lag'), by = list(permno)]\n",
    "signal[, mcap_lag1 := shift(mcap, n = 1, fill = NA, type = 'lag'), by = list(permno)]\n",
    "signal[, ret_lag1 := shift(ret, n = 1, fill = NA, type = 'lag'), by = list(permno)]\n",
    "\n",
    "#Rolling Sum\n",
    "signal[, rollret_11 := (roll_prod(1 + coalesce(ret, 0), n = 11, fill = NA, align = 'right')) - 1,\n",
    "       by=list(permno)]\n",
    "\n",
    "signal[, roll_idioret_11 := (roll_prod(1 + coalesce(idio_ret, 0), n = 11, fill = NA, align = 'right')) - 1,\n",
    "       by=list(permno)]\n",
    "\n",
    "#Valid Observation\n",
    "signal[, rollvalidobs := (roll_sum( !is.na(idio_ret), n = 12, fill = NA, align = 'right')), by = list(permno)]\n",
    "signal[, rollvalidret := (roll_sum( !is.na(ret_rf), n = 48, fill = NA, align = 'right')), by = list(permno)] \n",
    "\n",
    "signal[, rollvalidobs_lag1 := shift(rollvalidobs, n = 1, fill = NA, type = 'lag'), by = list(permno)]\n",
    "signal[, rollvalidret_lag1 := shift(rollvalidret, n = 1, fill = NA, type = 'lag'), by = list(permno)]\n",
    "\n",
    "#Signal\n",
    "signal[, momentum := shift(rollret_11, n = 2, fill = NA, type = 'lag'), by = list(permno)]\n",
    "signal[, idio_momentum := shift(roll_idioret_11, n = 2, fill = NA, type = 'lag'), by = list(permno)]\n",
    "\n",
    "\n",
    "#MOM2\n",
    "signal[, rollret_6 := (roll_prod(1 + coalesce(ret, 0), n = 6, fill = NA, align = 'right')) - 1,\n",
    "       by=list(permno)]\n",
    "signal[, MOM2 := shift(rollret_6, n = 7, fill = NA, type = 'lag'), by = list(permno)]"
   ]
  },
  {
   "cell_type": "markdown",
   "metadata": {},
   "source": [
    "# 2. Build Portfolios <a class=\"anchor\" id=\"bullet_2\"></a>"
   ]
  },
  {
   "cell_type": "code",
   "execution_count": 8,
   "metadata": {},
   "outputs": [],
   "source": [
    "#In-Sample 1965-01-01 to 2011-09-30\n",
    "#Out-of-Sample 2012-01-01 to 2019-12-31\n",
    "\n",
    "SAMPLE_START_DATE = \"1965-01-01\"\n",
    "SAMPLE_END_DATE = \"2011-09-30\""
   ]
  },
  {
   "cell_type": "markdown",
   "metadata": {},
   "source": [
    "## 2.1 Apply Filters"
   ]
  },
  {
   "cell_type": "code",
   "execution_count": 9,
   "metadata": {},
   "outputs": [],
   "source": [
    "signal_filtered = copy(signal) %>% \n",
    "    subset( !is.na(idio_momentum) & \n",
    "            !is.na(ret_rf) &               # has return this month\n",
    "            !is.na(mcap_lag1) &            # non missing market cap\n",
    "            !is.na(prc_lag1)  &            # non missing price \n",
    "            rollvalidobs_lag1 >= 12 &      # full year of data\n",
    "            #rollvalidret_lag1 >= 48 &      # full set of data for regression\n",
    "            end_of_month >= SAMPLE_START_DATE &  \n",
    "            end_of_month <= SAMPLE_END_DATE\n",
    "    )"
   ]
  },
  {
   "cell_type": "markdown",
   "metadata": {},
   "source": [
    "## 2.2 Apply Quantile Bins"
   ]
  },
  {
   "cell_type": "code",
   "execution_count": 10,
   "metadata": {},
   "outputs": [],
   "source": [
    "signal_2 = copy(signal_filtered)"
   ]
  },
  {
   "cell_type": "code",
   "execution_count": 11,
   "metadata": {},
   "outputs": [],
   "source": [
    "apply_quantiles = function(x, include_in_quantiles = NULL, bins = 10){\n",
    "    \n",
    "    # if the argument is specified, we only include some data in hte calculate of breakpoints\n",
    "    if(is.null(include_in_quantiles)){\n",
    "        include_in_quantiles = rep(TRUE,length(x))\n",
    "    }\n",
    "    \n",
    "    # calculate quantiles (breakpoints)\n",
    "    quantiles = quantile(\n",
    "        ifelse(include_in_quantiles,x,NA),\n",
    "        probs = seq(0, 1, length.out = bins + 1),\n",
    "        na.rm = TRUE\n",
    "    )\n",
    "    \n",
    "    quantiles['0%'] = min(x, na.rm = TRUE) - 1\n",
    "    quantiles['100%'] = max(x, na.rm = TRUE) + 1\n",
    "    \n",
    "    # cut the data a bit more \n",
    "    return(cut(x, breaks = quantiles, labels = FALSE))\n",
    "}\n",
    "\n",
    "#Apply bins\n",
    "signal_2[, idio_bin := apply_quantiles(idio_momentum, bins = 5), by = end_of_month]\n",
    "signal_2[, mom_bin := apply_quantiles(momentum, bins = 5), by = end_of_month]"
   ]
  },
  {
   "cell_type": "markdown",
   "metadata": {},
   "source": [
    "## 2.3 Create profolio"
   ]
  },
  {
   "cell_type": "code",
   "execution_count": 12,
   "metadata": {},
   "outputs": [],
   "source": [
    "idio_portfolios = signal_2[, .(\n",
    "    ew = mean(ret_rf),\n",
    "    vw = sum(ret_rf * mcap_lag1) / sum(mcap_lag1)\n",
    "), by = .(end_of_month, idio_bin)]\n",
    "\n",
    "\n",
    "mom_portfolios = signal_2[, .(\n",
    "    ew = mean(ret_rf),\n",
    "    vw = sum(ret_rf * mcap_lag1) / sum(mcap_lag1)\n",
    "), by = .(end_of_month, mom_bin)]"
   ]
  },
  {
   "cell_type": "markdown",
   "metadata": {},
   "source": [
    "# 3. Summary <a class=\"anchor\" id=\"bullet_3\"></a>"
   ]
  },
  {
   "cell_type": "markdown",
   "metadata": {},
   "source": [
    "## 3.1 Functions"
   ]
  },
  {
   "cell_type": "code",
   "execution_count": 13,
   "metadata": {},
   "outputs": [],
   "source": [
    "annualize_ret = function(x) {\n",
    "    return(((1 + x)^12 - 1) * 100)\n",
    "}"
   ]
  },
  {
   "cell_type": "markdown",
   "metadata": {},
   "source": [
    "## 3.2 WML Portfolios (Table 1)"
   ]
  },
  {
   "cell_type": "code",
   "execution_count": 14,
   "metadata": {},
   "outputs": [
    {
     "data": {
      "text/html": [
       "<table>\n",
       "<caption>A data.table: 5 × 9</caption>\n",
       "<thead>\n",
       "\t<tr><th scope=col>idio_bin</th><th scope=col>ew</th><th scope=col>vw</th><th scope=col>ew_annual</th><th scope=col>vw_annual</th><th scope=col>sharpe_ew</th><th scope=col>sharpe_vw</th><th scope=col>ew_t</th><th scope=col>vw_t</th></tr>\n",
       "\t<tr><th scope=col>&lt;int&gt;</th><th scope=col>&lt;dbl&gt;</th><th scope=col>&lt;dbl&gt;</th><th scope=col>&lt;dbl&gt;</th><th scope=col>&lt;dbl&gt;</th><th scope=col>&lt;dbl&gt;</th><th scope=col>&lt;dbl&gt;</th><th scope=col>&lt;dbl&gt;</th><th scope=col>&lt;dbl&gt;</th></tr>\n",
       "</thead>\n",
       "<tbody>\n",
       "\t<tr><td>1</td><td>0.003817244</td><td>-0.002283407</td><td> 4.678097</td><td>-2.705937</td><td>0.1670437</td><td>-0.1109765</td><td>1.142144</td><td>-0.7587905</td></tr>\n",
       "\t<tr><td>2</td><td>0.006457001</td><td> 0.003060819</td><td> 8.029583</td><td> 3.735451</td><td>0.3886618</td><td> 0.2106610</td><td>2.657435</td><td> 1.4403727</td></tr>\n",
       "\t<tr><td>3</td><td>0.008043106</td><td> 0.003991831</td><td>10.090349</td><td> 4.896778</td><td>0.5535098</td><td> 0.3210318</td><td>3.784566</td><td> 2.1950217</td></tr>\n",
       "\t<tr><td>4</td><td>0.010353124</td><td> 0.005512503</td><td>13.156176</td><td> 6.819294</td><td>0.7018006</td><td> 0.4372856</td><td>4.798489</td><td> 2.9898951</td></tr>\n",
       "\t<tr><td>5</td><td>0.013825787</td><td> 0.009336950</td><td>17.912542</td><td>11.798008</td><td>0.7418739</td><td> 0.5806325</td><td>5.072487</td><td> 3.9700153</td></tr>\n",
       "</tbody>\n",
       "</table>\n"
      ],
      "text/latex": [
       "A data.table: 5 × 9\n",
       "\\begin{tabular}{lllllllll}\n",
       " idio\\_bin & ew & vw & ew\\_annual & vw\\_annual & sharpe\\_ew & sharpe\\_vw & ew\\_t & vw\\_t\\\\\n",
       " <int> & <dbl> & <dbl> & <dbl> & <dbl> & <dbl> & <dbl> & <dbl> & <dbl>\\\\\n",
       "\\hline\n",
       "\t 1 & 0.003817244 & -0.002283407 &  4.678097 & -2.705937 & 0.1670437 & -0.1109765 & 1.142144 & -0.7587905\\\\\n",
       "\t 2 & 0.006457001 &  0.003060819 &  8.029583 &  3.735451 & 0.3886618 &  0.2106610 & 2.657435 &  1.4403727\\\\\n",
       "\t 3 & 0.008043106 &  0.003991831 & 10.090349 &  4.896778 & 0.5535098 &  0.3210318 & 3.784566 &  2.1950217\\\\\n",
       "\t 4 & 0.010353124 &  0.005512503 & 13.156176 &  6.819294 & 0.7018006 &  0.4372856 & 4.798489 &  2.9898951\\\\\n",
       "\t 5 & 0.013825787 &  0.009336950 & 17.912542 & 11.798008 & 0.7418739 &  0.5806325 & 5.072487 &  3.9700153\\\\\n",
       "\\end{tabular}\n"
      ],
      "text/markdown": [
       "\n",
       "A data.table: 5 × 9\n",
       "\n",
       "| idio_bin &lt;int&gt; | ew &lt;dbl&gt; | vw &lt;dbl&gt; | ew_annual &lt;dbl&gt; | vw_annual &lt;dbl&gt; | sharpe_ew &lt;dbl&gt; | sharpe_vw &lt;dbl&gt; | ew_t &lt;dbl&gt; | vw_t &lt;dbl&gt; |\n",
       "|---|---|---|---|---|---|---|---|---|\n",
       "| 1 | 0.003817244 | -0.002283407 |  4.678097 | -2.705937 | 0.1670437 | -0.1109765 | 1.142144 | -0.7587905 |\n",
       "| 2 | 0.006457001 |  0.003060819 |  8.029583 |  3.735451 | 0.3886618 |  0.2106610 | 2.657435 |  1.4403727 |\n",
       "| 3 | 0.008043106 |  0.003991831 | 10.090349 |  4.896778 | 0.5535098 |  0.3210318 | 3.784566 |  2.1950217 |\n",
       "| 4 | 0.010353124 |  0.005512503 | 13.156176 |  6.819294 | 0.7018006 |  0.4372856 | 4.798489 |  2.9898951 |\n",
       "| 5 | 0.013825787 |  0.009336950 | 17.912542 | 11.798008 | 0.7418739 |  0.5806325 | 5.072487 |  3.9700153 |\n",
       "\n"
      ],
      "text/plain": [
       "  idio_bin ew          vw           ew_annual vw_annual sharpe_ew sharpe_vw \n",
       "1 1        0.003817244 -0.002283407  4.678097 -2.705937 0.1670437 -0.1109765\n",
       "2 2        0.006457001  0.003060819  8.029583  3.735451 0.3886618  0.2106610\n",
       "3 3        0.008043106  0.003991831 10.090349  4.896778 0.5535098  0.3210318\n",
       "4 4        0.010353124  0.005512503 13.156176  6.819294 0.7018006  0.4372856\n",
       "5 5        0.013825787  0.009336950 17.912542 11.798008 0.7418739  0.5806325\n",
       "  ew_t     vw_t      \n",
       "1 1.142144 -0.7587905\n",
       "2 2.657435  1.4403727\n",
       "3 3.784566  2.1950217\n",
       "4 4.798489  2.9898951\n",
       "5 5.072487  3.9700153"
      ]
     },
     "metadata": {},
     "output_type": "display_data"
    },
    {
     "data": {
      "text/html": [
       "<table>\n",
       "<caption>A data.table: 1 × 6</caption>\n",
       "<thead>\n",
       "\t<tr><th scope=col>ew_mean</th><th scope=col>ew_sharpe</th><th scope=col>vw_mean</th><th scope=col>vw_sharpe</th><th scope=col>ew_t</th><th scope=col>vw_t</th></tr>\n",
       "\t<tr><th scope=col>&lt;dbl&gt;</th><th scope=col>&lt;dbl&gt;</th><th scope=col>&lt;dbl&gt;</th><th scope=col>&lt;dbl&gt;</th><th scope=col>&lt;dbl&gt;</th><th scope=col>&lt;dbl&gt;</th></tr>\n",
       "</thead>\n",
       "<tbody>\n",
       "\t<tr><td>12.69394</td><td>0.796203</td><td>14.87108</td><td>0.7609462</td><td>5.443956</td><td>5.202892</td></tr>\n",
       "</tbody>\n",
       "</table>\n"
      ],
      "text/latex": [
       "A data.table: 1 × 6\n",
       "\\begin{tabular}{llllll}\n",
       " ew\\_mean & ew\\_sharpe & vw\\_mean & vw\\_sharpe & ew\\_t & vw\\_t\\\\\n",
       " <dbl> & <dbl> & <dbl> & <dbl> & <dbl> & <dbl>\\\\\n",
       "\\hline\n",
       "\t 12.69394 & 0.796203 & 14.87108 & 0.7609462 & 5.443956 & 5.202892\\\\\n",
       "\\end{tabular}\n"
      ],
      "text/markdown": [
       "\n",
       "A data.table: 1 × 6\n",
       "\n",
       "| ew_mean &lt;dbl&gt; | ew_sharpe &lt;dbl&gt; | vw_mean &lt;dbl&gt; | vw_sharpe &lt;dbl&gt; | ew_t &lt;dbl&gt; | vw_t &lt;dbl&gt; |\n",
       "|---|---|---|---|---|---|\n",
       "| 12.69394 | 0.796203 | 14.87108 | 0.7609462 | 5.443956 | 5.202892 |\n",
       "\n"
      ],
      "text/plain": [
       "  ew_mean  ew_sharpe vw_mean  vw_sharpe ew_t     vw_t    \n",
       "1 12.69394 0.796203  14.87108 0.7609462 5.443956 5.202892"
      ]
     },
     "metadata": {},
     "output_type": "display_data"
    }
   ],
   "source": [
    "n = nrow(idio_portfolios[, .N, by = end_of_month])\n",
    "\n",
    "mean_ret = idio_portfolios[, \n",
    "    list(ew = mean(ew), \n",
    "        vw = mean(vw),\n",
    "        ew_annual = annualize_ret(mean(ew)),\n",
    "        vw_annual = annualize_ret(mean(vw)),\n",
    "        sharpe_ew = mean(ew)/sd(ew) * sqrt(12),\n",
    "        sharpe_vw = mean(vw)/sd(vw) * sqrt(12),\n",
    "        ew_t = mean(ew)/sd(ew) * sqrt(n),\n",
    "        vw_t = mean(vw)/sd(vw) * sqrt(n)\n",
    "    ), \n",
    "    by = idio_bin]\n",
    "\n",
    "setkey(mean_ret, idio_bin)\n",
    "\n",
    "mean_ret\n",
    " \n",
    "\n",
    "\n",
    "strategy_wml = merge(\n",
    "    idio_portfolios[idio_bin==5,], idio_portfolios[idio_bin==1,], \n",
    "    suffixes=c('_long','_short'), \n",
    "    by = c('end_of_month')\n",
    ")\n",
    "\n",
    "strategy_wml[, ew := (ew_long - ew_short)]\n",
    "strategy_wml[, vw := (vw_long - vw_short)]\n",
    "\n",
    "\n",
    "sharpe = function(x) {\n",
    "    mean(x, na.rm = TRUE) / sd(x, na.rm = TRUE)   \n",
    "}\n",
    "\n",
    "strategy_wml_summary = data.table(\n",
    "    ew_mean = annualize_ret(mean(strategy_wml$ew)),\n",
    "    ew_sharpe = sharpe(strategy_wml$ew) * sqrt(12),\n",
    "    vw_mean = annualize_ret(mean(strategy_wml$vw)),\n",
    "    vw_sharpe = sharpe(strategy_wml$vw) * sqrt(12),\n",
    "    ew_t = sharpe(strategy_wml$ew) * sqrt(n),\n",
    "    vw_t = sharpe(strategy_wml$vw) * sqrt(n)\n",
    ")\n",
    "strategy_wml_summary"
   ]
  },
  {
   "cell_type": "code",
   "execution_count": 15,
   "metadata": {},
   "outputs": [],
   "source": [
    "#Summary\n",
    "x = data.table(portfolio = \"ew\", dcast(mean_ret, 1 ~ idio_bin, value.var = \"ew_annual\"))\n",
    "x = rbind(x,data.table(portfolio = \"vw\", dcast(mean_ret, 1 ~ idio_bin, value.var = \"vw_annual\")))\n",
    "\n",
    "y = data.table(portfolio = \"ew\", dcast(mean_ret, 1 ~ idio_bin, value.var = \"ew_t\"))\n",
    "y = rbind(y,data.table(portfolio = \"vw\", dcast(mean_ret, 1 ~ idio_bin, value.var = \"vw_t\")))\n",
    "names(y)[3:7] = paste0(names(y)[3:7], \"_t\")\n",
    "\n",
    "z = data.table(portfolio = \"ew\", strategy_wml_summary[, .(wml = ew_mean, wml_t = ew_t)])\n",
    "z = rbind(z, data.table(portfolio = \"vw\", strategy_wml_summary[, .(wml = vw_mean, wml_t = vw_t)]))\n",
    "\n",
    "wml_summary = merge(x[,-2], y[,-2], keyby = c(\"portfolio\"))\n",
    "wml_summary = merge(wml_summary, z, keyby = c(\"portfolio\"))"
   ]
  },
  {
   "cell_type": "code",
   "execution_count": 16,
   "metadata": {},
   "outputs": [
    {
     "data": {
      "text/html": [
       "<table>\n",
       "<caption>A data.table: 2 × 7</caption>\n",
       "<thead>\n",
       "\t<tr><th scope=col>portfolio</th><th scope=col>1</th><th scope=col>2</th><th scope=col>3</th><th scope=col>4</th><th scope=col>5</th><th scope=col>wml</th></tr>\n",
       "\t<tr><th scope=col>&lt;chr&gt;</th><th scope=col>&lt;dbl&gt;</th><th scope=col>&lt;dbl&gt;</th><th scope=col>&lt;dbl&gt;</th><th scope=col>&lt;dbl&gt;</th><th scope=col>&lt;dbl&gt;</th><th scope=col>&lt;dbl&gt;</th></tr>\n",
       "</thead>\n",
       "<tbody>\n",
       "\t<tr><td>ew</td><td> 4.678097</td><td>8.029583</td><td>10.090349</td><td>13.156176</td><td>17.91254</td><td>12.69394</td></tr>\n",
       "\t<tr><td>vw</td><td>-2.705937</td><td>3.735451</td><td> 4.896778</td><td> 6.819294</td><td>11.79801</td><td>14.87108</td></tr>\n",
       "</tbody>\n",
       "</table>\n"
      ],
      "text/latex": [
       "A data.table: 2 × 7\n",
       "\\begin{tabular}{lllllll}\n",
       " portfolio & 1 & 2 & 3 & 4 & 5 & wml\\\\\n",
       " <chr> & <dbl> & <dbl> & <dbl> & <dbl> & <dbl> & <dbl>\\\\\n",
       "\\hline\n",
       "\t ew &  4.678097 & 8.029583 & 10.090349 & 13.156176 & 17.91254 & 12.69394\\\\\n",
       "\t vw & -2.705937 & 3.735451 &  4.896778 &  6.819294 & 11.79801 & 14.87108\\\\\n",
       "\\end{tabular}\n"
      ],
      "text/markdown": [
       "\n",
       "A data.table: 2 × 7\n",
       "\n",
       "| portfolio &lt;chr&gt; | 1 &lt;dbl&gt; | 2 &lt;dbl&gt; | 3 &lt;dbl&gt; | 4 &lt;dbl&gt; | 5 &lt;dbl&gt; | wml &lt;dbl&gt; |\n",
       "|---|---|---|---|---|---|---|\n",
       "| ew |  4.678097 | 8.029583 | 10.090349 | 13.156176 | 17.91254 | 12.69394 |\n",
       "| vw | -2.705937 | 3.735451 |  4.896778 |  6.819294 | 11.79801 | 14.87108 |\n",
       "\n"
      ],
      "text/plain": [
       "  portfolio 1         2        3         4         5        wml     \n",
       "1 ew         4.678097 8.029583 10.090349 13.156176 17.91254 12.69394\n",
       "2 vw        -2.705937 3.735451  4.896778  6.819294 11.79801 14.87108"
      ]
     },
     "metadata": {},
     "output_type": "display_data"
    },
    {
     "data": {
      "text/html": [
       "<table>\n",
       "<caption>A data.table: 2 × 7</caption>\n",
       "<thead>\n",
       "\t<tr><th scope=col>portfolio</th><th scope=col>1_t</th><th scope=col>2_t</th><th scope=col>3_t</th><th scope=col>4_t</th><th scope=col>5_t</th><th scope=col>wml_t</th></tr>\n",
       "\t<tr><th scope=col>&lt;chr&gt;</th><th scope=col>&lt;dbl&gt;</th><th scope=col>&lt;dbl&gt;</th><th scope=col>&lt;dbl&gt;</th><th scope=col>&lt;dbl&gt;</th><th scope=col>&lt;dbl&gt;</th><th scope=col>&lt;dbl&gt;</th></tr>\n",
       "</thead>\n",
       "<tbody>\n",
       "\t<tr><td>ew</td><td> 1.1421438</td><td>2.657435</td><td>3.784566</td><td>4.798489</td><td>5.072487</td><td>5.443956</td></tr>\n",
       "\t<tr><td>vw</td><td>-0.7587905</td><td>1.440373</td><td>2.195022</td><td>2.989895</td><td>3.970015</td><td>5.202892</td></tr>\n",
       "</tbody>\n",
       "</table>\n"
      ],
      "text/latex": [
       "A data.table: 2 × 7\n",
       "\\begin{tabular}{lllllll}\n",
       " portfolio & 1\\_t & 2\\_t & 3\\_t & 4\\_t & 5\\_t & wml\\_t\\\\\n",
       " <chr> & <dbl> & <dbl> & <dbl> & <dbl> & <dbl> & <dbl>\\\\\n",
       "\\hline\n",
       "\t ew &  1.1421438 & 2.657435 & 3.784566 & 4.798489 & 5.072487 & 5.443956\\\\\n",
       "\t vw & -0.7587905 & 1.440373 & 2.195022 & 2.989895 & 3.970015 & 5.202892\\\\\n",
       "\\end{tabular}\n"
      ],
      "text/markdown": [
       "\n",
       "A data.table: 2 × 7\n",
       "\n",
       "| portfolio &lt;chr&gt; | 1_t &lt;dbl&gt; | 2_t &lt;dbl&gt; | 3_t &lt;dbl&gt; | 4_t &lt;dbl&gt; | 5_t &lt;dbl&gt; | wml_t &lt;dbl&gt; |\n",
       "|---|---|---|---|---|---|---|\n",
       "| ew |  1.1421438 | 2.657435 | 3.784566 | 4.798489 | 5.072487 | 5.443956 |\n",
       "| vw | -0.7587905 | 1.440373 | 2.195022 | 2.989895 | 3.970015 | 5.202892 |\n",
       "\n"
      ],
      "text/plain": [
       "  portfolio 1_t        2_t      3_t      4_t      5_t      wml_t   \n",
       "1 ew         1.1421438 2.657435 3.784566 4.798489 5.072487 5.443956\n",
       "2 vw        -0.7587905 1.440373 2.195022 2.989895 3.970015 5.202892"
      ]
     },
     "metadata": {},
     "output_type": "display_data"
    }
   ],
   "source": [
    "#value\n",
    "wml_summary[, .SD, .SDcol = -grep(\"_t\", names(wml_summary))]\n",
    "\n",
    "#T-stat\n",
    "wml_summary[, .SD, .SDcol = c(1, grep(\"_t\", names(wml_summary)))]"
   ]
  },
  {
   "cell_type": "code",
   "execution_count": 17,
   "metadata": {},
   "outputs": [],
   "source": [
    "round_num = function(x){\n",
    "    if(is.na(x)){\n",
    "        return(\"\")\n",
    "    }\n",
    "    else if(is.numeric(x)){\n",
    "        return(round(x,2))\n",
    "    } else {\n",
    "        return(x)\n",
    "    }\n",
    "}\n",
    "\n",
    "add_bracket = function(x){\n",
    "    if(is.na(x)){\n",
    "        return(\"\")\n",
    "    } else {\n",
    "        return(paste0(\"(\", round(x,2),\")\"))\n",
    "    }\n",
    "}\n",
    "\n",
    "\n",
    "wml_summary_output = data.table(t(lapply(wml_summary[1, .SD, .SDcol = -grep(\"_t\", names(wml_summary))], round_num)))\n",
    "for(i in 1:3){\n",
    "    if(i %% 2 == 0){\n",
    "        wml_summary_output = rbind(wml_summary_output, lapply(wml_summary[i%/%2+1, .SD, .SDcol = -grep(\"_t\", names(wml_summary))],round_num), use.names = FALSE)\n",
    "    } else {\n",
    "        wml_summary_output = rbind(wml_summary_output, lapply(wml_summary[i%/%2+1, .(NA, .SD), .SDcol = c(grep(\"_t\", names(wml_summary)))], add_bracket), use.names = FALSE)\n",
    "    }\n",
    "}"
   ]
  },
  {
   "cell_type": "markdown",
   "metadata": {},
   "source": [
    "## Table 1: WML Portfolios <a class=\"anchor\" id=\"table_1\"></a>"
   ]
  },
  {
   "cell_type": "code",
   "execution_count": 18,
   "metadata": {},
   "outputs": [
    {
     "data": {
      "text/html": [
       "<table style=\"text-align:center\"><tr><td colspan=\"7\" style=\"border-bottom: 1px solid black\"></td></tr><tr><td style=\"text-align:left\">portfolio</td><td>1</td><td>2</td><td>3</td><td>4</td><td>5</td><td>wml</td></tr><tr><td colspan=\"7\" style=\"border-bottom: 1px solid black\"></td></tr><tr><td style=\"text-align:left\">ew</td><td>4.68</td><td>8.03</td><td>10.09</td><td>13.16</td><td>17.91</td><td>12.69</td></tr><tr><td style=\"text-align:left\"></td><td>(1.14)</td><td>(2.66)</td><td>(3.78)</td><td>(4.8)</td><td>(5.07)</td><td>(5.44)</td></tr><tr><td style=\"text-align:left\">vw</td><td>-2.71</td><td>3.74</td><td>4.9</td><td>6.82</td><td>11.8</td><td>14.87</td></tr><tr><td style=\"text-align:left\"></td><td>(-0.76)</td><td>(1.44)</td><td>(2.2)</td><td>(2.99)</td><td>(3.97)</td><td>(5.2)</td></tr><tr><td colspan=\"7\" style=\"border-bottom: 1px solid black\"></td></tr></table>"
      ]
     },
     "metadata": {},
     "output_type": "display_data"
    }
   ],
   "source": [
    "IRdisplay::display_html(\n",
    "        paste(capture.output(\n",
    "            stargazer(wml_summary_output, type = \"html\", summary = FALSE, rownames = FALSE)\n",
    "        ),\n",
    "        collapse='', sep='')\n",
    ")"
   ]
  },
  {
   "cell_type": "code",
   "execution_count": 19,
   "metadata": {},
   "outputs": [
    {
     "name": "stdout",
     "output_type": "stream",
     "text": [
      "\n",
      "% Table created by stargazer v.5.2.2 by Marek Hlavac, Harvard University. E-mail: hlavac at fas.harvard.edu\n",
      "% Date and time: Wed, May 06, 2020 - 12:06:36 AM\n",
      "\\begin{table}[!htbp] \\centering \n",
      "  \\caption{} \n",
      "  \\label{} \n",
      "\\begin{tabular}{@{\\extracolsep{5pt}} ccccccc} \n",
      "\\\\[-1.8ex]\\hline \n",
      "\\hline \\\\[-1.8ex] \n",
      "portfolio & 1 & 2 & 3 & 4 & 5 & wml \\\\ \n",
      "\\hline \\\\[-1.8ex] \n",
      "ew & 4.68 & 8.03 & 10.09 & 13.16 & 17.91 & 12.69 \\\\ \n",
      " & (1.14) & (2.66) & (3.78) & (4.8) & (5.07) & (5.44) \\\\ \n",
      "vw & -2.71 & 3.74 & 4.9 & 6.82 & 11.8 & 14.87 \\\\ \n",
      " & (-0.76) & (1.44) & (2.2) & (2.99) & (3.97) & (5.2) \\\\ \n",
      "\\hline \\\\[-1.8ex] \n",
      "\\end{tabular} \n",
      "\\end{table} \n"
     ]
    }
   ],
   "source": [
    "stargazer(wml_summary_output, type = \"latex\", summary = FALSE, rownames = FALSE)"
   ]
  },
  {
   "cell_type": "markdown",
   "metadata": {},
   "source": [
    "## 3.2 WML Portfolios (Table 2)"
   ]
  },
  {
   "cell_type": "code",
   "execution_count": 20,
   "metadata": {},
   "outputs": [
    {
     "data": {
      "text/plain": [
       "\n",
       "Call:\n",
       "lm(formula = ew ~ mkt_rf, data = strategy_wml)\n",
       "\n",
       "Residuals:\n",
       "     Min       1Q   Median       3Q      Max \n",
       "-0.47888 -0.01529  0.00222  0.01875  0.19658 \n",
       "\n",
       "Coefficients:\n",
       "             Estimate Std. Error t value Pr(>|t|)    \n",
       "(Intercept)  0.010683   0.001818   5.876 7.23e-09 ***\n",
       "mkt_rf      -0.168391   0.039686  -4.243 2.58e-05 ***\n",
       "---\n",
       "Signif. codes:  0 '***' 0.001 '**' 0.01 '*' 0.05 '.' 0.1 ' ' 1\n",
       "\n",
       "Residual standard error: 0.0429 on 559 degrees of freedom\n",
       "Multiple R-squared:  0.0312,\tAdjusted R-squared:  0.02947 \n",
       "F-statistic:    18 on 1 and 559 DF,  p-value: 2.58e-05\n"
      ]
     },
     "metadata": {},
     "output_type": "display_data"
    },
    {
     "data": {
      "text/plain": [
       "\n",
       "Call:\n",
       "lm(formula = ew ~ mkt_rf + smb + hml, data = strategy_wml)\n",
       "\n",
       "Residuals:\n",
       "     Min       1Q   Median       3Q      Max \n",
       "-0.47772 -0.01565  0.00237  0.01862  0.19958 \n",
       "\n",
       "Coefficients:\n",
       "             Estimate Std. Error t value Pr(>|t|)    \n",
       "(Intercept)  0.010623   0.001851   5.739 1.57e-08 ***\n",
       "mkt_rf      -0.163925   0.043102  -3.803 0.000159 ***\n",
       "smb         -0.008214   0.060167  -0.137 0.891457    \n",
       "hml          0.014457   0.066079   0.219 0.826897    \n",
       "---\n",
       "Signif. codes:  0 '***' 0.001 '**' 0.01 '*' 0.05 '.' 0.1 ' ' 1\n",
       "\n",
       "Residual standard error: 0.04297 on 557 degrees of freedom\n",
       "Multiple R-squared:  0.03134,\tAdjusted R-squared:  0.02612 \n",
       "F-statistic: 6.006 on 3 and 557 DF,  p-value: 0.0004955\n"
      ]
     },
     "metadata": {},
     "output_type": "display_data"
    },
    {
     "data": {
      "text/plain": [
       "\n",
       "Call:\n",
       "lm(formula = ew ~ mkt_rf + smb + hml + mom, data = strategy_wml)\n",
       "\n",
       "Residuals:\n",
       "      Min        1Q    Median        3Q       Max \n",
       "-0.296674 -0.012302  0.000879  0.012257  0.130868 \n",
       "\n",
       "Coefficients:\n",
       "             Estimate Std. Error t value Pr(>|t|)    \n",
       "(Intercept)  0.003410   0.001221   2.793   0.0054 ** \n",
       "mkt_rf       0.001718   0.028412   0.060   0.9518    \n",
       "smb         -0.050842   0.038821  -1.310   0.1909    \n",
       "hml          0.228643   0.043284   5.282 1.83e-07 ***\n",
       "mom          0.780350   0.027870  28.000  < 2e-16 ***\n",
       "---\n",
       "Signif. codes:  0 '***' 0.001 '**' 0.01 '*' 0.05 '.' 0.1 ' ' 1\n",
       "\n",
       "Residual standard error: 0.02771 on 556 degrees of freedom\n",
       "Multiple R-squared:  0.5981,\tAdjusted R-squared:  0.5952 \n",
       "F-statistic: 206.8 on 4 and 556 DF,  p-value: < 2.2e-16\n"
      ]
     },
     "metadata": {},
     "output_type": "display_data"
    },
    {
     "data": {
      "text/plain": [
       "\n",
       "Call:\n",
       "lm(formula = vw ~ mkt_rf, data = strategy_wml)\n",
       "\n",
       "Residuals:\n",
       "     Min       1Q   Median       3Q      Max \n",
       "-0.33020 -0.02316  0.00227  0.02486  0.29258 \n",
       "\n",
       "Coefficients:\n",
       "             Estimate Std. Error t value Pr(>|t|)    \n",
       "(Intercept)  0.012764   0.002175   5.869 7.51e-09 ***\n",
       "mkt_rf      -0.285518   0.047470  -6.015 3.26e-09 ***\n",
       "---\n",
       "Signif. codes:  0 '***' 0.001 '**' 0.01 '*' 0.05 '.' 0.1 ' ' 1\n",
       "\n",
       "Residual standard error: 0.05131 on 559 degrees of freedom\n",
       "Multiple R-squared:  0.06078,\tAdjusted R-squared:  0.0591 \n",
       "F-statistic: 36.18 on 1 and 559 DF,  p-value: 3.258e-09\n"
      ]
     },
     "metadata": {},
     "output_type": "display_data"
    },
    {
     "data": {
      "text/plain": [
       "\n",
       "Call:\n",
       "lm(formula = vw ~ mkt_rf + smb + hml, data = strategy_wml)\n",
       "\n",
       "Residuals:\n",
       "     Min       1Q   Median       3Q      Max \n",
       "-0.33819 -0.02409  0.00235  0.02529  0.26235 \n",
       "\n",
       "Coefficients:\n",
       "             Estimate Std. Error t value Pr(>|t|)    \n",
       "(Intercept)  0.012677   0.002207   5.745 1.52e-08 ***\n",
       "mkt_rf      -0.317841   0.051385  -6.185 1.20e-09 ***\n",
       "smb          0.136050   0.071730   1.897   0.0584 .  \n",
       "hml         -0.012426   0.078778  -0.158   0.8747    \n",
       "---\n",
       "Signif. codes:  0 '***' 0.001 '**' 0.01 '*' 0.05 '.' 0.1 ' ' 1\n",
       "\n",
       "Residual standard error: 0.05123 on 557 degrees of freedom\n",
       "Multiple R-squared:  0.06712,\tAdjusted R-squared:  0.0621 \n",
       "F-statistic: 13.36 on 3 and 557 DF,  p-value: 1.974e-08\n"
      ]
     },
     "metadata": {},
     "output_type": "display_data"
    },
    {
     "data": {
      "text/plain": [
       "\n",
       "Call:\n",
       "lm(formula = vw ~ mkt_rf + smb + hml + mom, data = strategy_wml)\n",
       "\n",
       "Residuals:\n",
       "      Min        1Q    Median        3Q       Max \n",
       "-0.154346 -0.016088  0.000122  0.015606  0.172533 \n",
       "\n",
       "Coefficients:\n",
       "             Estimate Std. Error t value Pr(>|t|)    \n",
       "(Intercept)  0.003718   0.001365   2.724 0.006657 ** \n",
       "mkt_rf      -0.112107   0.031768  -3.529 0.000452 ***\n",
       "smb          0.083105   0.043407   1.915 0.056065 .  \n",
       "hml          0.253600   0.048397   5.240 2.28e-07 ***\n",
       "mom          0.969217   0.031162  31.102  < 2e-16 ***\n",
       "---\n",
       "Signif. codes:  0 '***' 0.001 '**' 0.01 '*' 0.05 '.' 0.1 ' ' 1\n",
       "\n",
       "Residual standard error: 0.03098 on 556 degrees of freedom\n",
       "Multiple R-squared:  0.6595,\tAdjusted R-squared:  0.6571 \n",
       "F-statistic: 269.2 on 4 and 556 DF,  p-value: < 2.2e-16\n"
      ]
     },
     "metadata": {},
     "output_type": "display_data"
    }
   ],
   "source": [
    "strategy_wml = merge(strategy_wml, ff_four, all.x = TRUE, by = c('end_of_month'))\n",
    "\n",
    "ew_lm_fit_capm = lm(ew ~ mkt_rf, data = strategy_wml)\n",
    "ew_lm_fit_3f = lm(ew ~ mkt_rf + smb + hml, data = strategy_wml)\n",
    "ew_lm_fit_4f = lm(ew ~ mkt_rf + smb + hml + mom, data = strategy_wml)\n",
    "\n",
    "summary(ew_lm_fit_capm)\n",
    "summary(ew_lm_fit_3f)\n",
    "summary(ew_lm_fit_4f)\n",
    "\n",
    "\n",
    "vw_lm_fit_capm = lm(vw ~ mkt_rf, data = strategy_wml)\n",
    "vw_lm_fit_3f = lm(vw ~ mkt_rf + smb + hml, data = strategy_wml)\n",
    "vw_lm_fit_4f = lm(vw ~ mkt_rf + smb + hml + mom, data = strategy_wml)\n",
    "\n",
    "summary(vw_lm_fit_capm)\n",
    "summary(vw_lm_fit_3f)\n",
    "summary(vw_lm_fit_4f)"
   ]
  },
  {
   "cell_type": "markdown",
   "metadata": {},
   "source": [
    "Extend to five factor benchmarking"
   ]
  },
  {
   "cell_type": "code",
   "execution_count": 21,
   "metadata": {},
   "outputs": [
    {
     "data": {
      "text/plain": [
       "\n",
       "Call:\n",
       "lm(formula = ew ~ mkt_rf_ff5 + smb_ff5 + hml_ff5 + rmw + cma, \n",
       "    data = strategy_wml)\n",
       "\n",
       "Residuals:\n",
       "     Min       1Q   Median       3Q      Max \n",
       "-0.44777 -0.01467  0.00268  0.01891  0.23116 \n",
       "\n",
       "Coefficients:\n",
       "             Estimate Std. Error t value Pr(>|t|)    \n",
       "(Intercept)  0.008561   0.001882   4.550 6.61e-06 ***\n",
       "mkt_rf_ff5  -0.093943   0.045559  -2.062 0.039671 *  \n",
       "smb_ff5      0.038809   0.061799   0.628 0.530268    \n",
       "hml_ff5     -0.160131   0.087676  -1.826 0.068329 .  \n",
       "rmw          0.325785   0.086157   3.781 0.000173 ***\n",
       "cma          0.380503   0.128252   2.967 0.003138 ** \n",
       "---\n",
       "Signif. codes:  0 '***' 0.001 '**' 0.01 '*' 0.05 '.' 0.1 ' ' 1\n",
       "\n",
       "Residual standard error: 0.0423 on 555 degrees of freedom\n",
       "Multiple R-squared:  0.06458,\tAdjusted R-squared:  0.05616 \n",
       "F-statistic: 7.664 on 5 and 555 DF,  p-value: 5.581e-07\n"
      ]
     },
     "metadata": {},
     "output_type": "display_data"
    },
    {
     "data": {
      "text/plain": [
       "\n",
       "Call:\n",
       "lm(formula = vw ~ mkt_rf_ff5 + smb_ff5 + hml_ff5 + rmw + cma, \n",
       "    data = strategy_wml)\n",
       "\n",
       "Residuals:\n",
       "      Min        1Q    Median        3Q       Max \n",
       "-0.313572 -0.024091  0.001773  0.025817  0.280524 \n",
       "\n",
       "Coefficients:\n",
       "             Estimate Std. Error t value Pr(>|t|)    \n",
       "(Intercept)  0.011220   0.002269   4.946 1.01e-06 ***\n",
       "mkt_rf_ff5  -0.261669   0.054921  -4.764 2.42e-06 ***\n",
       "smb_ff5      0.159986   0.074499   2.148   0.0322 *  \n",
       "hml_ff5     -0.206092   0.105694  -1.950   0.0517 .  \n",
       "rmw          0.185958   0.103862   1.790   0.0739 .  \n",
       "cma          0.377761   0.154608   2.443   0.0149 *  \n",
       "---\n",
       "Signif. codes:  0 '***' 0.001 '**' 0.01 '*' 0.05 '.' 0.1 ' ' 1\n",
       "\n",
       "Residual standard error: 0.051 on 555 degrees of freedom\n",
       "Multiple R-squared:  0.07891,\tAdjusted R-squared:  0.07062 \n",
       "F-statistic:  9.51 on 5 and 555 DF,  p-value: 1.024e-08\n"
      ]
     },
     "metadata": {},
     "output_type": "display_data"
    }
   ],
   "source": [
    "#Five factor benchmarking\n",
    "strategy_wml = merge(strategy_wml, ff_five, all.x = TRUE, suffixes = c(\"\", \"_ff5\"), by = c('end_of_month'))\n",
    "\n",
    "ew_lm_fit_5f = lm(ew ~ mkt_rf_ff5 + smb_ff5 + hml_ff5 + rmw + cma, data = strategy_wml)\n",
    "vw_lm_fit_5f = lm(vw ~ mkt_rf_ff5 + smb_ff5 + hml_ff5 + rmw + cma, data = strategy_wml)\n",
    "\n",
    "summary(ew_lm_fit_5f)\n",
    "summary(vw_lm_fit_5f)"
   ]
  },
  {
   "cell_type": "code",
   "execution_count": 22,
   "metadata": {},
   "outputs": [],
   "source": [
    "#Summary\n",
    "summerize_wml_factors = function(data, port){\n",
    "    output = data.frame()\n",
    "    output[1,1] = port\n",
    "    \n",
    "    summary_data = summary(data)\n",
    "    num_of_factor = nrow(summary_data[[\"coefficients\"]])\n",
    "    is_ff5 = ifelse(num_of_factor == 6, TRUE, FALSE)\n",
    "    \n",
    "    \n",
    "    #value\n",
    "    output[1, 2] = annualize_ret(summary_data[[\"coefficients\"]][1, \"Estimate\"])\n",
    "    \n",
    "    ff5_skip = 0                             \n",
    "    for (i in 2:7) {\n",
    "        if (i == 5 && is_ff5){\n",
    "            output[1, 1+i] = NA\n",
    "            ff5_skip = 1;\n",
    "        }\n",
    "        else if (i <= num_of_factor + ff5_skip){\n",
    "            output[1, 1+i] = summary_data[[\"coefficients\"]][i-ff5_skip, \"Estimate\"]\n",
    "        }\n",
    "        else {\n",
    "            output[1, 1+i] = NA\n",
    "        }\n",
    "    }\n",
    "    \n",
    "    #T-stat\n",
    "    ff5_skip = 0  \n",
    "    for (i in 1:7) {\n",
    "        if (i == 5 && is_ff5){\n",
    "            output[1, 8+i] = NA\n",
    "            ff5_skip = 1;\n",
    "        }\n",
    "        else if (i <= num_of_factor + ff5_skip){\n",
    "            output[1, 8+i] = summary_data[[\"coefficients\"]][i-ff5_skip, \"t value\"]\n",
    "        }\n",
    "        else {\n",
    "            output[1, 8+i] = NA\n",
    "        }\n",
    "    }\n",
    "    output[1, 16] = summary_data[[\"r.squared\"]]\n",
    "    \n",
    "    return(output)\n",
    "}\n",
    "\n",
    "{\n",
    "wml_factor_summary = data.table(\n",
    "    portfolio = character(), \n",
    "    alpha = numeric(), mkt = numeric(), smb = numeric(), hml = numeric(), \n",
    "    umd = numeric(), rmw = numeric(), cma = numeric(), \n",
    "    alpha_t = numeric(), mkt_t = numeric(), smb_t = numeric(), hml_t = numeric(), \n",
    "    umd_t = numeric(), rmw_t = numeric(), cma_t = numeric(), \n",
    "    r_squared = numeric()\n",
    ")\n",
    "\n",
    "wml_factor_summary = rbind(wml_factor_summary, summerize_wml_factors(ew_lm_fit_capm, \"ew\"), use.names = FALSE)\n",
    "wml_factor_summary = rbind(wml_factor_summary, summerize_wml_factors(ew_lm_fit_3f, \"ew\"), use.names = FALSE)\n",
    "wml_factor_summary = rbind(wml_factor_summary, summerize_wml_factors(ew_lm_fit_4f, \"ew\"), use.names = FALSE)\n",
    "wml_factor_summary = rbind(wml_factor_summary, summerize_wml_factors(ew_lm_fit_5f, \"ew\"), use.names = FALSE)\n",
    "wml_factor_summary = rbind(wml_factor_summary, summerize_wml_factors(vw_lm_fit_capm, \"vw\"), use.names = FALSE)\n",
    "wml_factor_summary = rbind(wml_factor_summary, summerize_wml_factors(vw_lm_fit_3f, \"vw\"), use.names = FALSE)\n",
    "wml_factor_summary = rbind(wml_factor_summary, summerize_wml_factors(vw_lm_fit_4f, \"vw\"), use.names = FALSE)\n",
    "wml_factor_summary = rbind(wml_factor_summary, summerize_wml_factors(vw_lm_fit_5f, \"vw\"), use.names = FALSE)\n",
    "}"
   ]
  },
  {
   "cell_type": "code",
   "execution_count": 23,
   "metadata": {},
   "outputs": [],
   "source": [
    "wml_factor_summary_output = data.table(t(lapply(wml_factor_summary[1, .SD, .SDcol = -grep(\"_t\", names(wml_factor_summary))], round_num)))\n",
    "for(i in 1:15){\n",
    "    if(i %% 2 == 0){\n",
    "        wml_factor_summary_output = rbind(wml_factor_summary_output, lapply(wml_factor_summary[i%/%2+1, .SD, .SDcol = -grep(\"_t\", names(wml_factor_summary))],round_num), use.names = FALSE)\n",
    "    } else {\n",
    "        wml_factor_summary_output = rbind(wml_factor_summary_output, lapply(wml_factor_summary[i%/%2+1, .(NA, .SD, NA), .SDcol = c(grep(\"_t\", names(wml_factor_summary)))], add_bracket), use.names = FALSE)\n",
    "    }\n",
    "}"
   ]
  },
  {
   "cell_type": "markdown",
   "metadata": {},
   "source": [
    "## Table 2: WML Portfolios Factor Regressions <a class=\"anchor\" id=\"table_2\"></a>"
   ]
  },
  {
   "cell_type": "code",
   "execution_count": 24,
   "metadata": {},
   "outputs": [
    {
     "data": {
      "text/html": [
       "<table style=\"text-align:center\"><tr><td colspan=\"9\" style=\"border-bottom: 1px solid black\"></td></tr><tr><td style=\"text-align:left\">portfolio</td><td>alpha</td><td>mkt</td><td>smb</td><td>hml</td><td>umd</td><td>rmw</td><td>cma</td><td>r_squared</td></tr><tr><td colspan=\"9\" style=\"border-bottom: 1px solid black\"></td></tr><tr><td style=\"text-align:left\">ew</td><td>13.6</td><td>-0.17</td><td></td><td></td><td></td><td></td><td></td><td>0.03</td></tr><tr><td style=\"text-align:left\"></td><td>(5.88)</td><td>(-4.24)</td><td></td><td></td><td></td><td></td><td></td><td></td></tr><tr><td style=\"text-align:left\">ew</td><td>13.52</td><td>-0.16</td><td>-0.01</td><td>0.01</td><td></td><td></td><td></td><td>0.03</td></tr><tr><td style=\"text-align:left\"></td><td>(5.74)</td><td>(-3.8)</td><td>(-0.14)</td><td>(0.22)</td><td></td><td></td><td></td><td></td></tr><tr><td style=\"text-align:left\">ew</td><td>4.17</td><td>0</td><td>-0.05</td><td>0.23</td><td>0.78</td><td></td><td></td><td>0.6</td></tr><tr><td style=\"text-align:left\"></td><td>(2.79)</td><td>(0.06)</td><td>(-1.31)</td><td>(5.28)</td><td>(28)</td><td></td><td></td><td></td></tr><tr><td style=\"text-align:left\">ew</td><td>10.77</td><td>-0.09</td><td>0.04</td><td>-0.16</td><td></td><td>0.33</td><td>0.38</td><td>0.06</td></tr><tr><td style=\"text-align:left\"></td><td>(4.55)</td><td>(-2.06)</td><td>(0.63)</td><td>(-1.83)</td><td></td><td>(3.78)</td><td>(2.97)</td><td></td></tr><tr><td style=\"text-align:left\">vw</td><td>16.44</td><td>-0.29</td><td></td><td></td><td></td><td></td><td></td><td>0.06</td></tr><tr><td style=\"text-align:left\"></td><td>(5.87)</td><td>(-6.01)</td><td></td><td></td><td></td><td></td><td></td><td></td></tr><tr><td style=\"text-align:left\">vw</td><td>16.32</td><td>-0.32</td><td>0.14</td><td>-0.01</td><td></td><td></td><td></td><td>0.07</td></tr><tr><td style=\"text-align:left\"></td><td>(5.74)</td><td>(-6.19)</td><td>(1.9)</td><td>(-0.16)</td><td></td><td></td><td></td><td></td></tr><tr><td style=\"text-align:left\">vw</td><td>4.55</td><td>-0.11</td><td>0.08</td><td>0.25</td><td>0.97</td><td></td><td></td><td>0.66</td></tr><tr><td style=\"text-align:left\"></td><td>(2.72)</td><td>(-3.53)</td><td>(1.91)</td><td>(5.24)</td><td>(31.1)</td><td></td><td></td><td></td></tr><tr><td style=\"text-align:left\">vw</td><td>14.33</td><td>-0.26</td><td>0.16</td><td>-0.21</td><td></td><td>0.19</td><td>0.38</td><td>0.08</td></tr><tr><td style=\"text-align:left\"></td><td>(4.95)</td><td>(-4.76)</td><td>(2.15)</td><td>(-1.95)</td><td></td><td>(1.79)</td><td>(2.44)</td><td></td></tr><tr><td colspan=\"9\" style=\"border-bottom: 1px solid black\"></td></tr></table>"
      ]
     },
     "metadata": {},
     "output_type": "display_data"
    }
   ],
   "source": [
    "IRdisplay::display_html(\n",
    "        paste(capture.output(\n",
    "            stargazer(wml_factor_summary_output, type = \"html\", summary = FALSE, rownames = FALSE)\n",
    "        ),\n",
    "        collapse='', sep='')\n",
    ")"
   ]
  },
  {
   "cell_type": "code",
   "execution_count": 25,
   "metadata": {
    "scrolled": true
   },
   "outputs": [
    {
     "name": "stdout",
     "output_type": "stream",
     "text": [
      "\n",
      "% Table created by stargazer v.5.2.2 by Marek Hlavac, Harvard University. E-mail: hlavac at fas.harvard.edu\n",
      "% Date and time: Wed, May 06, 2020 - 12:06:38 AM\n",
      "\\begin{table}[!htbp] \\centering \n",
      "  \\caption{} \n",
      "  \\label{} \n",
      "\\begin{tabular}{@{\\extracolsep{5pt}} ccccccccc} \n",
      "\\\\[-1.8ex]\\hline \n",
      "\\hline \\\\[-1.8ex] \n",
      "portfolio & alpha & mkt & smb & hml & umd & rmw & cma & r\\_squared \\\\ \n",
      "\\hline \\\\[-1.8ex] \n",
      "ew & 13.6 & -0.17 &  &  &  &  &  & 0.03 \\\\ \n",
      " & (5.88) & (-4.24) &  &  &  &  &  &  \\\\ \n",
      "ew & 13.52 & -0.16 & -0.01 & 0.01 &  &  &  & 0.03 \\\\ \n",
      " & (5.74) & (-3.8) & (-0.14) & (0.22) &  &  &  &  \\\\ \n",
      "ew & 4.17 & 0 & -0.05 & 0.23 & 0.78 &  &  & 0.6 \\\\ \n",
      " & (2.79) & (0.06) & (-1.31) & (5.28) & (28) &  &  &  \\\\ \n",
      "ew & 10.77 & -0.09 & 0.04 & -0.16 &  & 0.33 & 0.38 & 0.06 \\\\ \n",
      " & (4.55) & (-2.06) & (0.63) & (-1.83) &  & (3.78) & (2.97) &  \\\\ \n",
      "vw & 16.44 & -0.29 &  &  &  &  &  & 0.06 \\\\ \n",
      " & (5.87) & (-6.01) &  &  &  &  &  &  \\\\ \n",
      "vw & 16.32 & -0.32 & 0.14 & -0.01 &  &  &  & 0.07 \\\\ \n",
      " & (5.74) & (-6.19) & (1.9) & (-0.16) &  &  &  &  \\\\ \n",
      "vw & 4.55 & -0.11 & 0.08 & 0.25 & 0.97 &  &  & 0.66 \\\\ \n",
      " & (2.72) & (-3.53) & (1.91) & (5.24) & (31.1) &  &  &  \\\\ \n",
      "vw & 14.33 & -0.26 & 0.16 & -0.21 &  & 0.19 & 0.38 & 0.08 \\\\ \n",
      " & (4.95) & (-4.76) & (2.15) & (-1.95) &  & (1.79) & (2.44) &  \\\\ \n",
      "\\hline \\\\[-1.8ex] \n",
      "\\end{tabular} \n",
      "\\end{table} \n"
     ]
    }
   ],
   "source": [
    "stargazer(wml_factor_summary_output, type = \"latex\", summary = FALSE, rownames = FALSE)"
   ]
  },
  {
   "cell_type": "markdown",
   "metadata": {},
   "source": [
    "## 3.3 P/L Curve"
   ]
  },
  {
   "cell_type": "code",
   "execution_count": 26,
   "metadata": {},
   "outputs": [],
   "source": [
    "#P&L curve\n",
    "strategy_wml[, cum_ew := cumprod(1 + ew) - 1]\n",
    "strategy_wml[, cum_vw := cumprod(1 + vw) - 1]\n",
    "\n",
    "figure_data_1 = strategy_wml[,.(end_of_month, cum_ew, cum_vw)]\n",
    "names(figure_data_1)[2:3] = c(\"Equal Weighted\", \"Value Weighted\")\n",
    "\n",
    "figure_data_1 = melt(figure_data_1, id.vars = c(\"end_of_month\"))\n",
    "figure_data_1[, value := (value + 1)]"
   ]
  },
  {
   "cell_type": "code",
   "execution_count": 27,
   "metadata": {},
   "outputs": [
    {
     "data": {
      "image/png": "[encoded data removed]",
      "text/plain": [
       "plot without title"
      ]
     },
     "metadata": {
      "image/png": {
       "height": 600,
       "width": 900
      },
      "text/plain": {
       "height": 600,
       "width": 900
      }
     },
     "output_type": "display_data"
    }
   ],
   "source": [
    "ggplot(data = figure_data_1, aes(x = as.Date(end_of_month), y = value, color = variable, linetype = variable)) +\n",
    "    geom_line(size = 1) +\n",
    "    labs(\n",
    "        x = \"Year\",\n",
    "        y = \"Cummulative return\",\n",
    "        colour = \"\",\n",
    "        linetype = \"\"\n",
    "    ) +\n",
    "    scale_y_log10(limit = c(1e-1, 1e04), n.breaks = 6) + ggtitle(\"IMOM P/L curve\") +\n",
    "    scale_x_date(breaks = \"3 years\", labels = scales::date_format(\"%Y\")) +\n",
    "    ggthemes::theme_hc(25)\n"
   ]
  },
  {
   "cell_type": "markdown",
   "metadata": {},
   "source": [
    "## 3.4 Cumulative performance"
   ]
  },
  {
   "cell_type": "code",
   "execution_count": 28,
   "metadata": {},
   "outputs": [],
   "source": [
    "#IMOM\n",
    "strategy_wml[, cum_ew_long := cumprod(1 + ew_long + rf) - 1]\n",
    "strategy_wml[, cum_vw_long := cumprod(1 + vw_long + rf) - 1]\n",
    "strategy_wml[, cum_ew_short := cumprod(1 + ew_short + rf) - 1]\n",
    "strategy_wml[, cum_vw_short := cumprod(1 + vw_short + rf) - 1]\n",
    "strategy_wml[, cum_mkt := cumprod(1 + mkt_rf) - 1]"
   ]
  },
  {
   "cell_type": "code",
   "execution_count": 29,
   "metadata": {},
   "outputs": [],
   "source": [
    "#MOM\n",
    "strategy_MOM_wml = merge(\n",
    "    mom_portfolios[mom_bin==5,], mom_portfolios[mom_bin==1,],\n",
    "    suffixes=c('_long','_short'),\n",
    "    by = c('end_of_month')\n",
    ")\n",
    "strategy_MOM_wml = merge(strategy_MOM_wml, ff_four, all.x = TRUE, by = c('end_of_month'))\n",
    "\n",
    "strategy_MOM_wml[, ew := (ew_long - ew_short)]\n",
    "strategy_MOM_wml[, vw := (vw_long - vw_short)]\n",
    "\n",
    "strategy_MOM_wml[, cum_ew := cumprod(1 + ew + rf) - 1]\n",
    "strategy_MOM_wml[, cum_vw := cumprod(1 + vw + rf) - 1]\n",
    "strategy_MOM_wml[, cum_ew_long := cumprod(1 + ew_long + rf) - 1]\n",
    "strategy_MOM_wml[, cum_vw_long := cumprod(1 + vw_long + rf) - 1]\n",
    "strategy_MOM_wml[, cum_ew_short := cumprod(1 + ew_short + rf) - 1]\n",
    "strategy_MOM_wml[, cum_vw_short := cumprod(1 + vw_short + rf) - 1]"
   ]
  },
  {
   "cell_type": "code",
   "execution_count": 30,
   "metadata": {},
   "outputs": [],
   "source": [
    "figure_data_1.1 = merge(\n",
    "    strategy_wml, strategy_MOM_wml,\n",
    "    suffixes=c('_IMOM','_MOM'),\n",
    "    by = c('end_of_month')\n",
    ")\n",
    "setDT(figure_data_1)\n",
    "\n",
    "figure_data_1.1 = figure_data_1.1[,c(\n",
    "    \"end_of_month\",\n",
    "    \"cum_vw_long_IMOM\",\n",
    "    \"cum_vw_short_IMOM\",\n",
    "    \"cum_vw_long_MOM\",\n",
    "    \"cum_vw_short_MOM\",\n",
    "    \"cum_mkt\"\n",
    "    )]\n",
    "\n",
    "names(figure_data_1.1)[2:6] = c(\"IMOM (Long)\", \"IMOM (Short)\", \"MOM (Long)\", \"MOM (Short)\", \"Market\")\n",
    "\n",
    "figure_data_1.1 = melt(figure_data_1.1, id.vars = c(\"end_of_month\"))\n",
    "figure_data_1.1[, value := (value + 1)]"
   ]
  },
  {
   "cell_type": "markdown",
   "metadata": {},
   "source": [
    "## Figure 3: Cumulative Performance <a class=\"anchor\" id=\"figure_3\"></a>\n",
    "Cumulative performance of $1 invested in January 1965 in each of five portfolios: market, long and short legs of\n",
    "value weighted MOM, and long and short legs of value weighted IMOM."
   ]
  },
  {
   "cell_type": "code",
   "execution_count": 31,
   "metadata": {},
   "outputs": [
    {
     "data": {
      "image/png": "[encoded data removed]",
      "text/plain": [
       "plot without title"
      ]
     },
     "metadata": {
      "image/png": {
       "height": 600,
       "width": 900
      },
      "text/plain": {
       "height": 600,
       "width": 900
      }
     },
     "output_type": "display_data"
    }
   ],
   "source": [
    "ggplot(data = figure_data_1.1, aes(x = as.Date(end_of_month), y = value, color = variable, linetype = variable)) +\n",
    "    geom_line(size = 1) +\n",
    "    labs(\n",
    "        x = \"Year\",\n",
    "        y = \"Cumulative return\",\n",
    "        colour = \"\",\n",
    "        linetype = \"\"\n",
    "    ) +\n",
    "    scale_y_log10(limit = c(1e-1, 1e04), n.breaks = 6) + ggtitle(\"Cumulative Performance\") +\n",
    "    scale_x_date(breaks = \"3 years\", labels = scales::date_format(\"%Y\")) +\n",
    "    ggthemes::theme_hc(25)"
   ]
  },
  {
   "cell_type": "markdown",
   "metadata": {},
   "source": [
    "# 4. Size Analysis <a class=\"anchor\" id=\"bullet_4\"></a>"
   ]
  },
  {
   "cell_type": "markdown",
   "metadata": {},
   "source": [
    "## 4.1 Apply Quantile Bins on Signal and Size"
   ]
  },
  {
   "cell_type": "code",
   "execution_count": 32,
   "metadata": {},
   "outputs": [],
   "source": [
    "signal_3 = copy(signal_filtered)"
   ]
  },
  {
   "cell_type": "code",
   "execution_count": 33,
   "metadata": {},
   "outputs": [],
   "source": [
    "apply_cap_split = function(mcap, hexcd, breaks){\n",
    "    \n",
    "    #Use NYSE stock for breakpoint\n",
    "    include_in_quantiles = (hexcd == 1)\n",
    "    \n",
    "    # calculate quantiles (breakpoints)\n",
    "    quantiles = quantile(\n",
    "        ifelse(include_in_quantiles, mcap, NA),\n",
    "        probs = breaks,\n",
    "        na.rm = TRUE\n",
    "    )\n",
    "    \n",
    "    quantiles['0%'] = min(mcap, na.rm = TRUE) - 1\n",
    "    quantiles['100%'] = max(mcap, na.rm = TRUE) + 1\n",
    "    \n",
    "    # cut the data a bit more \n",
    "    return(cut(mcap, breaks = quantiles, labels = FALSE))\n",
    "}\n",
    "\n",
    "\n",
    "signal_3[, size_bin := apply_cap_split(mcap_lag1, hexcd, c(0, 0.2, 0.5, 1)), by = end_of_month]\n",
    "\n",
    "signal_3[, idio_bin := apply_quantiles(idio_momentum, bins = 5), by = .(end_of_month, size_bin)]\n",
    "signal_3[, mom_bin := apply_quantiles(momentum, bins = 5), by = .(end_of_month, size_bin)]\n"
   ]
  },
  {
   "cell_type": "code",
   "execution_count": 34,
   "metadata": {},
   "outputs": [
    {
     "data": {
      "text/html": [
       "<table>\n",
       "<caption>A data.table: 3 × 3</caption>\n",
       "<thead>\n",
       "\t<tr><th scope=col>size_bin</th><th scope=col>mean_mcap_perc</th><th scope=col>mean_count_perc</th></tr>\n",
       "\t<tr><th scope=col>&lt;int&gt;</th><th scope=col>&lt;dbl&gt;</th><th scope=col>&lt;dbl&gt;</th></tr>\n",
       "</thead>\n",
       "<tbody>\n",
       "\t<tr><td>1</td><td>0.01980368</td><td>0.5027919</td></tr>\n",
       "\t<tr><td>2</td><td>0.05391295</td><td>0.2258566</td></tr>\n",
       "\t<tr><td>3</td><td>0.92628337</td><td>0.2713515</td></tr>\n",
       "</tbody>\n",
       "</table>\n"
      ],
      "text/latex": [
       "A data.table: 3 × 3\n",
       "\\begin{tabular}{lll}\n",
       " size\\_bin & mean\\_mcap\\_perc & mean\\_count\\_perc\\\\\n",
       " <int> & <dbl> & <dbl>\\\\\n",
       "\\hline\n",
       "\t 1 & 0.01980368 & 0.5027919\\\\\n",
       "\t 2 & 0.05391295 & 0.2258566\\\\\n",
       "\t 3 & 0.92628337 & 0.2713515\\\\\n",
       "\\end{tabular}\n"
      ],
      "text/markdown": [
       "\n",
       "A data.table: 3 × 3\n",
       "\n",
       "| size_bin &lt;int&gt; | mean_mcap_perc &lt;dbl&gt; | mean_count_perc &lt;dbl&gt; |\n",
       "|---|---|---|\n",
       "| 1 | 0.01980368 | 0.5027919 |\n",
       "| 2 | 0.05391295 | 0.2258566 |\n",
       "| 3 | 0.92628337 | 0.2713515 |\n",
       "\n"
      ],
      "text/plain": [
       "  size_bin mean_mcap_perc mean_count_perc\n",
       "1 1        0.01980368     0.5027919      \n",
       "2 2        0.05391295     0.2258566      \n",
       "3 3        0.92628337     0.2713515      "
      ]
     },
     "metadata": {},
     "output_type": "display_data"
    }
   ],
   "source": [
    "#Check size bin split\n",
    "{\n",
    "x = signal_3[, .(sum_mcap = sum(mcap_lag1), count = .N), by = .(end_of_month, size_bin)]\n",
    "x = merge(x, x[, .(total_mcap = sum(sum_mcap), total_count = sum(count)), by = end_of_month], by = \"end_of_month\")\n",
    "x[, mcap_perc := sum_mcap / total_mcap]\n",
    "x[, count_perc := count / total_count]\n",
    "x[, .(mean_mcap_perc = mean(mcap_perc), mean_count_perc = mean(count_perc)), keyby = size_bin]\n",
    "}"
   ]
  },
  {
   "cell_type": "markdown",
   "metadata": {},
   "source": [
    "## 4.2 Create profolio"
   ]
  },
  {
   "cell_type": "code",
   "execution_count": 35,
   "metadata": {},
   "outputs": [],
   "source": [
    "idio_portfolios_size = signal_3[, .(\n",
    "    ew = mean(ret_rf),\n",
    "    vw = sum(ret_rf * mcap_lag1) / sum(mcap_lag1)\n",
    "), by = .(end_of_month, idio_bin, size_bin)]\n",
    "\n",
    "\n",
    "mom_portfolios_size = signal_3[, .(\n",
    "    ew = mean(ret_rf),\n",
    "    vw = sum(ret_rf * mcap_lag1) / sum(mcap_lag1)\n",
    "), by = .(end_of_month, mom_bin, size_bin)]"
   ]
  },
  {
   "cell_type": "markdown",
   "metadata": {},
   "source": [
    "## 4.3 Mean Retruns"
   ]
  },
  {
   "cell_type": "code",
   "execution_count": 36,
   "metadata": {},
   "outputs": [
    {
     "data": {
      "text/html": [
       "<table>\n",
       "<caption>A data.table: 15 × 6</caption>\n",
       "<thead>\n",
       "\t<tr><th scope=col>size_bin</th><th scope=col>idio_bin</th><th scope=col>ew_annual</th><th scope=col>vw_annual</th><th scope=col>t_ew</th><th scope=col>t_vw</th></tr>\n",
       "\t<tr><th scope=col>&lt;int&gt;</th><th scope=col>&lt;int&gt;</th><th scope=col>&lt;dbl&gt;</th><th scope=col>&lt;dbl&gt;</th><th scope=col>&lt;dbl&gt;</th><th scope=col>&lt;dbl&gt;</th></tr>\n",
       "</thead>\n",
       "<tbody>\n",
       "\t<tr><td>1</td><td>1</td><td> 8.277632</td><td>-2.414207</td><td>1.7187517</td><td>-0.5622360</td></tr>\n",
       "\t<tr><td>1</td><td>2</td><td> 9.698290</td><td> 5.820880</td><td>2.6703502</td><td> 1.6604360</td></tr>\n",
       "\t<tr><td>1</td><td>3</td><td>12.975468</td><td>10.443306</td><td>3.9134008</td><td> 3.3043106</td></tr>\n",
       "\t<tr><td>1</td><td>4</td><td>16.635851</td><td>14.384490</td><td>5.0732790</td><td> 4.5528483</td></tr>\n",
       "\t<tr><td>1</td><td>5</td><td>20.979380</td><td>19.382113</td><td>5.2359183</td><td> 4.8662826</td></tr>\n",
       "\t<tr><td>2</td><td>1</td><td> 1.189480</td><td> 1.369758</td><td>0.3057563</td><td> 0.3535121</td></tr>\n",
       "\t<tr><td>2</td><td>2</td><td> 7.876063</td><td> 7.641410</td><td>2.5312476</td><td> 2.4727001</td></tr>\n",
       "\t<tr><td>2</td><td>3</td><td>10.147947</td><td>10.036399</td><td>3.6195891</td><td> 3.6170671</td></tr>\n",
       "\t<tr><td>2</td><td>4</td><td>12.806271</td><td>12.503842</td><td>4.3741576</td><td> 4.3240695</td></tr>\n",
       "\t<tr><td>2</td><td>5</td><td>15.383775</td><td>15.133522</td><td>4.0769830</td><td> 4.0733148</td></tr>\n",
       "\t<tr><td>3</td><td>1</td><td> 1.724627</td><td> 1.132478</td><td>0.5341300</td><td> 0.3813043</td></tr>\n",
       "\t<tr><td>3</td><td>2</td><td> 5.971159</td><td> 3.213569</td><td>2.3243787</td><td> 1.3776732</td></tr>\n",
       "\t<tr><td>3</td><td>3</td><td> 7.485533</td><td> 4.314873</td><td>3.1696899</td><td> 1.9983392</td></tr>\n",
       "\t<tr><td>3</td><td>4</td><td> 8.447001</td><td> 6.481285</td><td>3.4992857</td><td> 2.8727679</td></tr>\n",
       "\t<tr><td>3</td><td>5</td><td>11.707505</td><td>10.490231</td><td>3.8626280</td><td> 3.6870911</td></tr>\n",
       "</tbody>\n",
       "</table>\n"
      ],
      "text/latex": [
       "A data.table: 15 × 6\n",
       "\\begin{tabular}{llllll}\n",
       " size\\_bin & idio\\_bin & ew\\_annual & vw\\_annual & t\\_ew & t\\_vw\\\\\n",
       " <int> & <int> & <dbl> & <dbl> & <dbl> & <dbl>\\\\\n",
       "\\hline\n",
       "\t 1 & 1 &  8.277632 & -2.414207 & 1.7187517 & -0.5622360\\\\\n",
       "\t 1 & 2 &  9.698290 &  5.820880 & 2.6703502 &  1.6604360\\\\\n",
       "\t 1 & 3 & 12.975468 & 10.443306 & 3.9134008 &  3.3043106\\\\\n",
       "\t 1 & 4 & 16.635851 & 14.384490 & 5.0732790 &  4.5528483\\\\\n",
       "\t 1 & 5 & 20.979380 & 19.382113 & 5.2359183 &  4.8662826\\\\\n",
       "\t 2 & 1 &  1.189480 &  1.369758 & 0.3057563 &  0.3535121\\\\\n",
       "\t 2 & 2 &  7.876063 &  7.641410 & 2.5312476 &  2.4727001\\\\\n",
       "\t 2 & 3 & 10.147947 & 10.036399 & 3.6195891 &  3.6170671\\\\\n",
       "\t 2 & 4 & 12.806271 & 12.503842 & 4.3741576 &  4.3240695\\\\\n",
       "\t 2 & 5 & 15.383775 & 15.133522 & 4.0769830 &  4.0733148\\\\\n",
       "\t 3 & 1 &  1.724627 &  1.132478 & 0.5341300 &  0.3813043\\\\\n",
       "\t 3 & 2 &  5.971159 &  3.213569 & 2.3243787 &  1.3776732\\\\\n",
       "\t 3 & 3 &  7.485533 &  4.314873 & 3.1696899 &  1.9983392\\\\\n",
       "\t 3 & 4 &  8.447001 &  6.481285 & 3.4992857 &  2.8727679\\\\\n",
       "\t 3 & 5 & 11.707505 & 10.490231 & 3.8626280 &  3.6870911\\\\\n",
       "\\end{tabular}\n"
      ],
      "text/markdown": [
       "\n",
       "A data.table: 15 × 6\n",
       "\n",
       "| size_bin &lt;int&gt; | idio_bin &lt;int&gt; | ew_annual &lt;dbl&gt; | vw_annual &lt;dbl&gt; | t_ew &lt;dbl&gt; | t_vw &lt;dbl&gt; |\n",
       "|---|---|---|---|---|---|\n",
       "| 1 | 1 |  8.277632 | -2.414207 | 1.7187517 | -0.5622360 |\n",
       "| 1 | 2 |  9.698290 |  5.820880 | 2.6703502 |  1.6604360 |\n",
       "| 1 | 3 | 12.975468 | 10.443306 | 3.9134008 |  3.3043106 |\n",
       "| 1 | 4 | 16.635851 | 14.384490 | 5.0732790 |  4.5528483 |\n",
       "| 1 | 5 | 20.979380 | 19.382113 | 5.2359183 |  4.8662826 |\n",
       "| 2 | 1 |  1.189480 |  1.369758 | 0.3057563 |  0.3535121 |\n",
       "| 2 | 2 |  7.876063 |  7.641410 | 2.5312476 |  2.4727001 |\n",
       "| 2 | 3 | 10.147947 | 10.036399 | 3.6195891 |  3.6170671 |\n",
       "| 2 | 4 | 12.806271 | 12.503842 | 4.3741576 |  4.3240695 |\n",
       "| 2 | 5 | 15.383775 | 15.133522 | 4.0769830 |  4.0733148 |\n",
       "| 3 | 1 |  1.724627 |  1.132478 | 0.5341300 |  0.3813043 |\n",
       "| 3 | 2 |  5.971159 |  3.213569 | 2.3243787 |  1.3776732 |\n",
       "| 3 | 3 |  7.485533 |  4.314873 | 3.1696899 |  1.9983392 |\n",
       "| 3 | 4 |  8.447001 |  6.481285 | 3.4992857 |  2.8727679 |\n",
       "| 3 | 5 | 11.707505 | 10.490231 | 3.8626280 |  3.6870911 |\n",
       "\n"
      ],
      "text/plain": [
       "   size_bin idio_bin ew_annual vw_annual t_ew      t_vw      \n",
       "1  1        1         8.277632 -2.414207 1.7187517 -0.5622360\n",
       "2  1        2         9.698290  5.820880 2.6703502  1.6604360\n",
       "3  1        3        12.975468 10.443306 3.9134008  3.3043106\n",
       "4  1        4        16.635851 14.384490 5.0732790  4.5528483\n",
       "5  1        5        20.979380 19.382113 5.2359183  4.8662826\n",
       "6  2        1         1.189480  1.369758 0.3057563  0.3535121\n",
       "7  2        2         7.876063  7.641410 2.5312476  2.4727001\n",
       "8  2        3        10.147947 10.036399 3.6195891  3.6170671\n",
       "9  2        4        12.806271 12.503842 4.3741576  4.3240695\n",
       "10 2        5        15.383775 15.133522 4.0769830  4.0733148\n",
       "11 3        1         1.724627  1.132478 0.5341300  0.3813043\n",
       "12 3        2         5.971159  3.213569 2.3243787  1.3776732\n",
       "13 3        3         7.485533  4.314873 3.1696899  1.9983392\n",
       "14 3        4         8.447001  6.481285 3.4992857  2.8727679\n",
       "15 3        5        11.707505 10.490231 3.8626280  3.6870911"
      ]
     },
     "metadata": {},
     "output_type": "display_data"
    }
   ],
   "source": [
    "#Mean return\n",
    "n_size = nrow(idio_portfolios_size[, .N, by = end_of_month])\n",
    "\n",
    "mean_ret_size = idio_portfolios_size[, \n",
    "    .(ew_annual = annualize_ret(mean(ew)),\n",
    "        vw_annual = annualize_ret(mean(vw)),\n",
    "        t_ew = mean(ew)/sd(ew) * sqrt(n_size),\n",
    "        t_vw = mean(vw)/sd(vw) * sqrt(n_size)\n",
    "    ), \n",
    "    keyby = .(size_bin, idio_bin)]\n",
    "\n",
    "mean_ret_size\n"
   ]
  },
  {
   "cell_type": "code",
   "execution_count": 37,
   "metadata": {},
   "outputs": [
    {
     "data": {
      "text/html": [
       "<table>\n",
       "<caption>A data.table: 3 × 5</caption>\n",
       "<thead>\n",
       "\t<tr><th scope=col>size_bin</th><th scope=col>ew_mean</th><th scope=col>vw_mean</th><th scope=col>ew_t</th><th scope=col>vw_t</th></tr>\n",
       "\t<tr><th scope=col>&lt;int&gt;</th><th scope=col>&lt;dbl&gt;</th><th scope=col>&lt;dbl&gt;</th><th scope=col>&lt;dbl&gt;</th><th scope=col>&lt;dbl&gt;</th></tr>\n",
       "</thead>\n",
       "<tbody>\n",
       "\t<tr><td>1</td><td>11.812778</td><td>22.285799</td><td>4.796489</td><td>9.051155</td></tr>\n",
       "\t<tr><td>2</td><td>14.042119</td><td>13.594099</td><td>6.065110</td><td>5.776360</td></tr>\n",
       "\t<tr><td>3</td><td> 9.828232</td><td> 9.262009</td><td>4.395237</td><td>3.905541</td></tr>\n",
       "</tbody>\n",
       "</table>\n"
      ],
      "text/latex": [
       "A data.table: 3 × 5\n",
       "\\begin{tabular}{lllll}\n",
       " size\\_bin & ew\\_mean & vw\\_mean & ew\\_t & vw\\_t\\\\\n",
       " <int> & <dbl> & <dbl> & <dbl> & <dbl>\\\\\n",
       "\\hline\n",
       "\t 1 & 11.812778 & 22.285799 & 4.796489 & 9.051155\\\\\n",
       "\t 2 & 14.042119 & 13.594099 & 6.065110 & 5.776360\\\\\n",
       "\t 3 &  9.828232 &  9.262009 & 4.395237 & 3.905541\\\\\n",
       "\\end{tabular}\n"
      ],
      "text/markdown": [
       "\n",
       "A data.table: 3 × 5\n",
       "\n",
       "| size_bin &lt;int&gt; | ew_mean &lt;dbl&gt; | vw_mean &lt;dbl&gt; | ew_t &lt;dbl&gt; | vw_t &lt;dbl&gt; |\n",
       "|---|---|---|---|---|\n",
       "| 1 | 11.812778 | 22.285799 | 4.796489 | 9.051155 |\n",
       "| 2 | 14.042119 | 13.594099 | 6.065110 | 5.776360 |\n",
       "| 3 |  9.828232 |  9.262009 | 4.395237 | 3.905541 |\n",
       "\n"
      ],
      "text/plain": [
       "  size_bin ew_mean   vw_mean   ew_t     vw_t    \n",
       "1 1        11.812778 22.285799 4.796489 9.051155\n",
       "2 2        14.042119 13.594099 6.065110 5.776360\n",
       "3 3         9.828232  9.262009 4.395237 3.905541"
      ]
     },
     "metadata": {},
     "output_type": "display_data"
    }
   ],
   "source": [
    "#WML\n",
    "strategy_wml_size = merge(\n",
    "    idio_portfolios_size[idio_bin==5,], idio_portfolios_size[idio_bin==1,], \n",
    "    suffixes=c('_long','_short'), \n",
    "    by = c('end_of_month', 'size_bin')\n",
    ")\n",
    "\n",
    "strategy_wml_size[, ew := (ew_long - ew_short)]\n",
    "strategy_wml_size[, vw := (vw_long - vw_short)]\n",
    "\n",
    "strategy_wml_size_summary = strategy_wml_size[,\n",
    "    .(\n",
    "        ew_mean = annualize_ret(mean(ew)),\n",
    "        vw_mean = annualize_ret(mean(vw)),\n",
    "        ew_t = sharpe(ew) * sqrt(n),\n",
    "        vw_t = sharpe(vw) * sqrt(n)\n",
    "    ),\n",
    "    keyby = .(size_bin)]\n",
    "\n",
    "strategy_wml_size_summary\n"
   ]
  },
  {
   "cell_type": "markdown",
   "metadata": {},
   "source": [
    "## 4.4 Alpha"
   ]
  },
  {
   "cell_type": "code",
   "execution_count": 38,
   "metadata": {},
   "outputs": [],
   "source": [
    "#Alpha\n",
    "strategy_wml_size = merge(strategy_wml_size, ff_four, all.x = TRUE, by = c(\"end_of_month\"))\n",
    "strategy_wml_size = merge(strategy_wml_size, ff_five, all.x = TRUE, suffixes = c(\"\", \"_ff5\"), by = c('end_of_month'))"
   ]
  },
  {
   "cell_type": "code",
   "execution_count": 39,
   "metadata": {},
   "outputs": [],
   "source": [
    "ff_alpha = function(inp_data, vw_flag) {\n",
    "    if (vw_flag) {\n",
    "        wml = inp_data[,vw]\n",
    "    }\n",
    "    else {\n",
    "        wml = inp_data[,ew]\n",
    "    }\n",
    "    \n",
    "    lm_fit_capm = lm(wml ~ mkt_rf, data = inp_data)\n",
    "    lm_fit_3f = lm(wml ~ mkt_rf + smb + hml, data = inp_data)\n",
    "    lm_fit_4f = lm(wml ~ mkt_rf + smb + hml + mom, data = inp_data)\n",
    "    lm_fit_5f = lm(wml ~ mkt_rf_ff5 + smb_ff5 + hml_ff5 + rmw + cma, data = inp_data)\n",
    "    \n",
    "    output = data.table(\n",
    "        capm_alpha = annualize_ret(lm_fit_capm$coefficients[1]),\n",
    "        capm_t = summary(lm_fit_capm)[[\"coefficients\"]][1, \"t value\"],\n",
    "        ff3_alpha = annualize_ret(lm_fit_3f$coefficients[1]),\n",
    "        ff3_t = summary(lm_fit_3f)[[\"coefficients\"]][1, \"t value\"],\n",
    "        ff4_alpha = annualize_ret(lm_fit_4f$coefficients[1]),\n",
    "        ff4_t = summary(lm_fit_4f)[[\"coefficients\"]][1, \"t value\"],\n",
    "        ff5_alpha = annualize_ret(lm_fit_5f$coefficients[1]),\n",
    "        ff5_t = summary(lm_fit_5f)[[\"coefficients\"]][1, \"t value\"]\n",
    "    )\n",
    "    \n",
    "    return(output)\n",
    "}"
   ]
  },
  {
   "cell_type": "code",
   "execution_count": 40,
   "metadata": {},
   "outputs": [],
   "source": [
    "alpha_size = data.table(size_bin = 1, portfolio = \"vw\", ff_alpha(strategy_wml_size[size_bin == 1], vw_flag = TRUE))\n",
    "alpha_size = rbind(alpha_size, data.table(size_bin = 2, portfolio = \"vw\", ff_alpha(strategy_wml_size[size_bin == 2], vw_flag = TRUE)))\n",
    "alpha_size = rbind(alpha_size, data.table(size_bin = 3, portfolio = \"vw\", ff_alpha(strategy_wml_size[size_bin == 3], vw_flag = TRUE)))\n",
    "\n",
    "\n",
    "for(i in 1:3){\n",
    "    alpha_size = rbind(alpha_size, data.table(size_bin = i, portfolio = \"ew\", ff_alpha(strategy_wml_size[size_bin == i], vw_flag = FALSE)))\n",
    "}"
   ]
  },
  {
   "cell_type": "code",
   "execution_count": 41,
   "metadata": {},
   "outputs": [
    {
     "data": {
      "text/html": [
       "<table>\n",
       "<caption>A data.table: 6 × 10</caption>\n",
       "<thead>\n",
       "\t<tr><th scope=col>size_bin</th><th scope=col>portfolio</th><th scope=col>capm_alpha</th><th scope=col>capm_t</th><th scope=col>ff3_alpha</th><th scope=col>ff3_t</th><th scope=col>ff4_alpha</th><th scope=col>ff4_t</th><th scope=col>ff5_alpha</th><th scope=col>ff5_t</th></tr>\n",
       "\t<tr><th scope=col>&lt;dbl&gt;</th><th scope=col>&lt;chr&gt;</th><th scope=col>&lt;dbl&gt;</th><th scope=col>&lt;dbl&gt;</th><th scope=col>&lt;dbl&gt;</th><th scope=col>&lt;dbl&gt;</th><th scope=col>&lt;dbl&gt;</th><th scope=col>&lt;dbl&gt;</th><th scope=col>&lt;dbl&gt;</th><th scope=col>&lt;dbl&gt;</th></tr>\n",
       "</thead>\n",
       "<tbody>\n",
       "\t<tr><td>1</td><td>vw</td><td>23.358421</td><td>9.578888</td><td>22.97076</td><td>9.273298</td><td>13.0664510</td><td>8.0078173</td><td>19.324063</td><td>7.849112</td></tr>\n",
       "\t<tr><td>2</td><td>vw</td><td>14.470999</td><td>6.186601</td><td>15.20932</td><td>6.469366</td><td> 5.6382475</td><td>3.8947827</td><td>14.312074</td><td>5.917852</td></tr>\n",
       "\t<tr><td>3</td><td>vw</td><td> 9.871636</td><td>4.161589</td><td>10.03812</td><td>4.236671</td><td> 0.9282214</td><td>0.6036632</td><td> 9.537323</td><td>3.917429</td></tr>\n",
       "\t<tr><td>1</td><td>ew</td><td>12.794779</td><td>5.236810</td><td>12.42096</td><td>5.013385</td><td> 3.8622599</td><td>2.1189645</td><td> 8.759679</td><td>3.573163</td></tr>\n",
       "\t<tr><td>2</td><td>ew</td><td>14.854674</td><td>6.446215</td><td>15.60976</td><td>6.738835</td><td> 6.2357402</td><td>4.3115084</td><td>14.807745</td><td>6.202836</td></tr>\n",
       "\t<tr><td>3</td><td>ew</td><td>10.530431</td><td>4.722661</td><td>10.61204</td><td>4.772290</td><td> 1.5191786</td><td>1.1499689</td><td> 9.761396</td><td>4.273489</td></tr>\n",
       "</tbody>\n",
       "</table>\n"
      ],
      "text/latex": [
       "A data.table: 6 × 10\n",
       "\\begin{tabular}{llllllllll}\n",
       " size\\_bin & portfolio & capm\\_alpha & capm\\_t & ff3\\_alpha & ff3\\_t & ff4\\_alpha & ff4\\_t & ff5\\_alpha & ff5\\_t\\\\\n",
       " <dbl> & <chr> & <dbl> & <dbl> & <dbl> & <dbl> & <dbl> & <dbl> & <dbl> & <dbl>\\\\\n",
       "\\hline\n",
       "\t 1 & vw & 23.358421 & 9.578888 & 22.97076 & 9.273298 & 13.0664510 & 8.0078173 & 19.324063 & 7.849112\\\\\n",
       "\t 2 & vw & 14.470999 & 6.186601 & 15.20932 & 6.469366 &  5.6382475 & 3.8947827 & 14.312074 & 5.917852\\\\\n",
       "\t 3 & vw &  9.871636 & 4.161589 & 10.03812 & 4.236671 &  0.9282214 & 0.6036632 &  9.537323 & 3.917429\\\\\n",
       "\t 1 & ew & 12.794779 & 5.236810 & 12.42096 & 5.013385 &  3.8622599 & 2.1189645 &  8.759679 & 3.573163\\\\\n",
       "\t 2 & ew & 14.854674 & 6.446215 & 15.60976 & 6.738835 &  6.2357402 & 4.3115084 & 14.807745 & 6.202836\\\\\n",
       "\t 3 & ew & 10.530431 & 4.722661 & 10.61204 & 4.772290 &  1.5191786 & 1.1499689 &  9.761396 & 4.273489\\\\\n",
       "\\end{tabular}\n"
      ],
      "text/markdown": [
       "\n",
       "A data.table: 6 × 10\n",
       "\n",
       "| size_bin &lt;dbl&gt; | portfolio &lt;chr&gt; | capm_alpha &lt;dbl&gt; | capm_t &lt;dbl&gt; | ff3_alpha &lt;dbl&gt; | ff3_t &lt;dbl&gt; | ff4_alpha &lt;dbl&gt; | ff4_t &lt;dbl&gt; | ff5_alpha &lt;dbl&gt; | ff5_t &lt;dbl&gt; |\n",
       "|---|---|---|---|---|---|---|---|---|---|\n",
       "| 1 | vw | 23.358421 | 9.578888 | 22.97076 | 9.273298 | 13.0664510 | 8.0078173 | 19.324063 | 7.849112 |\n",
       "| 2 | vw | 14.470999 | 6.186601 | 15.20932 | 6.469366 |  5.6382475 | 3.8947827 | 14.312074 | 5.917852 |\n",
       "| 3 | vw |  9.871636 | 4.161589 | 10.03812 | 4.236671 |  0.9282214 | 0.6036632 |  9.537323 | 3.917429 |\n",
       "| 1 | ew | 12.794779 | 5.236810 | 12.42096 | 5.013385 |  3.8622599 | 2.1189645 |  8.759679 | 3.573163 |\n",
       "| 2 | ew | 14.854674 | 6.446215 | 15.60976 | 6.738835 |  6.2357402 | 4.3115084 | 14.807745 | 6.202836 |\n",
       "| 3 | ew | 10.530431 | 4.722661 | 10.61204 | 4.772290 |  1.5191786 | 1.1499689 |  9.761396 | 4.273489 |\n",
       "\n"
      ],
      "text/plain": [
       "  size_bin portfolio capm_alpha capm_t   ff3_alpha ff3_t    ff4_alpha \n",
       "1 1        vw        23.358421  9.578888 22.97076  9.273298 13.0664510\n",
       "2 2        vw        14.470999  6.186601 15.20932  6.469366  5.6382475\n",
       "3 3        vw         9.871636  4.161589 10.03812  4.236671  0.9282214\n",
       "4 1        ew        12.794779  5.236810 12.42096  5.013385  3.8622599\n",
       "5 2        ew        14.854674  6.446215 15.60976  6.738835  6.2357402\n",
       "6 3        ew        10.530431  4.722661 10.61204  4.772290  1.5191786\n",
       "  ff4_t     ff5_alpha ff5_t   \n",
       "1 8.0078173 19.324063 7.849112\n",
       "2 3.8947827 14.312074 5.917852\n",
       "3 0.6036632  9.537323 3.917429\n",
       "4 2.1189645  8.759679 3.573163\n",
       "5 4.3115084 14.807745 6.202836\n",
       "6 1.1499689  9.761396 4.273489"
      ]
     },
     "metadata": {},
     "output_type": "display_data"
    }
   ],
   "source": [
    "alpha_size"
   ]
  },
  {
   "cell_type": "markdown",
   "metadata": {},
   "source": [
    "## 4.5 IMOM Summary"
   ]
  },
  {
   "cell_type": "code",
   "execution_count": 42,
   "metadata": {},
   "outputs": [],
   "source": [
    "x = data.table(portfolio = \"vw\", dcast(mean_ret_size, size_bin ~ idio_bin, value.var = \"vw_annual\"))\n",
    "x = rbind(x,data.table(portfolio = \"ew\", dcast(mean_ret_size, size_bin ~ idio_bin, value.var = \"ew_annual\")))\n",
    "\n",
    "y = data.table(portfolio = \"vw\", dcast(mean_ret_size, size_bin ~ idio_bin, value.var = \"t_vw\"))\n",
    "y = rbind(y,data.table(portfolio = \"ew\", dcast(mean_ret_size, size_bin ~ idio_bin, value.var = \"t_ew\")))\n",
    "names(y)[3:7] = paste0(names(y)[3:7], \"_t\")\n",
    "\n",
    "z = data.table(portfolio = \"vw\", strategy_wml_size_summary[, .(size_bin, wml = vw_mean, wml_t = vw_t)])\n",
    "z = rbind(z, data.table(portfolio = \"ew\", strategy_wml_size_summary[, .(size_bin, wml = ew_mean, wml_t = ew_t)]))\n",
    "\n",
    "\n",
    "size_summary = merge(x, y, keyby = c(\"portfolio\", \"size_bin\"))\n",
    "size_summary = merge(size_summary, z, keyby = c(\"portfolio\", \"size_bin\"))\n",
    "size_summary = merge(size_summary, alpha_size, keyby = c(\"portfolio\", \"size_bin\"))\n",
    "\n",
    "rm(x)\n",
    "rm(y)\n",
    "rm(z)"
   ]
  },
  {
   "cell_type": "code",
   "execution_count": 43,
   "metadata": {},
   "outputs": [],
   "source": [
    "size_names = c(\"Micro\", \"Small\", \"Large\")\n",
    "names(size_summary)[2] = \"Size\"\n",
    "size_summary[, Size := size_names[Size]]"
   ]
  },
  {
   "cell_type": "markdown",
   "metadata": {},
   "source": [
    "### Panel A: EW - IMOM"
   ]
  },
  {
   "cell_type": "code",
   "execution_count": 44,
   "metadata": {},
   "outputs": [],
   "source": [
    "summary_data = size_summary[portfolio == \"ew\", -1]\n",
    "\n",
    "size_summary_output_panel_A = data.table(t(lapply(summary_data[1, .SD, .SDcol = -grep(\"_t\", names(summary_data))], round_num)))\n",
    "for(i in 1:5){\n",
    "    if(i %% 2 == 0){\n",
    "        size_summary_output_panel_A = rbind(size_summary_output_panel_A, lapply(summary_data[i%/%2+1, .SD, .SDcol = -grep(\"_t\", names(summary_data))],round_num), use.names = FALSE)\n",
    "    } else {\n",
    "        size_summary_output_panel_A = rbind(size_summary_output_panel_A, lapply(summary_data[i%/%2+1, .(NA, .SD), .SDcol = c(grep(\"_t\", names(summary_data)))], add_bracket), use.names = FALSE)\n",
    "    }\n",
    "}\n",
    "\n",
    "rm(summary_data)"
   ]
  },
  {
   "cell_type": "markdown",
   "metadata": {},
   "source": [
    "### Panel B: VW - IMOM"
   ]
  },
  {
   "cell_type": "code",
   "execution_count": 45,
   "metadata": {},
   "outputs": [],
   "source": [
    "summary_data = size_summary[portfolio == \"vw\", -1]\n",
    "\n",
    "size_summary_output_panel_B = data.table(t(lapply(summary_data[1, .SD, .SDcol = -grep(\"_t\", names(summary_data))], round_num)))\n",
    "for(i in 1:5){\n",
    "    if(i %% 2 == 0){\n",
    "        size_summary_output_panel_B = rbind(size_summary_output_panel_B, lapply(summary_data[i%/%2+1, .SD, .SDcol = -grep(\"_t\", names(summary_data))],round_num), use.names = FALSE)\n",
    "    } else {\n",
    "        size_summary_output_panel_B = rbind(size_summary_output_panel_B, lapply(summary_data[i%/%2+1, .(NA, .SD), .SDcol = c(grep(\"_t\", names(summary_data)))], add_bracket), use.names = FALSE)\n",
    "    }\n",
    "}\n",
    "\n",
    "rm(summary_data)"
   ]
  },
  {
   "cell_type": "markdown",
   "metadata": {},
   "source": [
    "## 4.6 Do the same for MOM"
   ]
  },
  {
   "cell_type": "code",
   "execution_count": 46,
   "metadata": {},
   "outputs": [
    {
     "data": {
      "text/html": [
       "<table>\n",
       "<caption>A data.table: 15 × 6</caption>\n",
       "<thead>\n",
       "\t<tr><th scope=col>size_bin</th><th scope=col>mom_bin</th><th scope=col>ew_annual</th><th scope=col>vw_annual</th><th scope=col>t_ew</th><th scope=col>t_vw</th></tr>\n",
       "\t<tr><th scope=col>&lt;int&gt;</th><th scope=col>&lt;int&gt;</th><th scope=col>&lt;dbl&gt;</th><th scope=col>&lt;dbl&gt;</th><th scope=col>&lt;dbl&gt;</th><th scope=col>&lt;dbl&gt;</th></tr>\n",
       "</thead>\n",
       "<tbody>\n",
       "\t<tr><td>1</td><td>1</td><td>11.488285</td><td>-1.379002</td><td>2.1897276</td><td>-0.2912496</td></tr>\n",
       "\t<tr><td>1</td><td>2</td><td> 9.756092</td><td> 5.475104</td><td>2.5925490</td><td> 1.4938270</td></tr>\n",
       "\t<tr><td>1</td><td>3</td><td>12.001065</td><td>10.003520</td><td>3.6941898</td><td> 3.1147446</td></tr>\n",
       "\t<tr><td>1</td><td>4</td><td>15.776618</td><td>12.884380</td><td>4.8497917</td><td> 4.1060731</td></tr>\n",
       "\t<tr><td>1</td><td>5</td><td>19.350324</td><td>18.059830</td><td>5.0958967</td><td> 4.7174270</td></tr>\n",
       "\t<tr><td>2</td><td>1</td><td> 2.801114</td><td> 3.026661</td><td>0.7001889</td><td> 0.7580717</td></tr>\n",
       "\t<tr><td>2</td><td>2</td><td> 8.815842</td><td> 8.594154</td><td>2.8328281</td><td> 2.7786977</td></tr>\n",
       "\t<tr><td>2</td><td>3</td><td> 9.904706</td><td> 9.530835</td><td>3.4928804</td><td> 3.3872701</td></tr>\n",
       "\t<tr><td>2</td><td>4</td><td>11.712045</td><td>11.703424</td><td>3.9285416</td><td> 3.9806614</td></tr>\n",
       "\t<tr><td>2</td><td>5</td><td>13.959801</td><td>13.621181</td><td>3.6427098</td><td> 3.6002078</td></tr>\n",
       "\t<tr><td>3</td><td>1</td><td> 3.350845</td><td> 2.792010</td><td>1.0265813</td><td> 0.9138085</td></tr>\n",
       "\t<tr><td>3</td><td>2</td><td> 5.733879</td><td> 3.624470</td><td>2.2217553</td><td> 1.5265090</td></tr>\n",
       "\t<tr><td>3</td><td>3</td><td> 6.490014</td><td> 3.410758</td><td>2.7198672</td><td> 1.5355276</td></tr>\n",
       "\t<tr><td>3</td><td>4</td><td> 7.643553</td><td> 6.001231</td><td>3.1232011</td><td> 2.5662322</td></tr>\n",
       "\t<tr><td>3</td><td>5</td><td>12.054399</td><td> 9.743177</td><td>3.7496103</td><td> 3.2753685</td></tr>\n",
       "</tbody>\n",
       "</table>\n"
      ],
      "text/latex": [
       "A data.table: 15 × 6\n",
       "\\begin{tabular}{llllll}\n",
       " size\\_bin & mom\\_bin & ew\\_annual & vw\\_annual & t\\_ew & t\\_vw\\\\\n",
       " <int> & <int> & <dbl> & <dbl> & <dbl> & <dbl>\\\\\n",
       "\\hline\n",
       "\t 1 & 1 & 11.488285 & -1.379002 & 2.1897276 & -0.2912496\\\\\n",
       "\t 1 & 2 &  9.756092 &  5.475104 & 2.5925490 &  1.4938270\\\\\n",
       "\t 1 & 3 & 12.001065 & 10.003520 & 3.6941898 &  3.1147446\\\\\n",
       "\t 1 & 4 & 15.776618 & 12.884380 & 4.8497917 &  4.1060731\\\\\n",
       "\t 1 & 5 & 19.350324 & 18.059830 & 5.0958967 &  4.7174270\\\\\n",
       "\t 2 & 1 &  2.801114 &  3.026661 & 0.7001889 &  0.7580717\\\\\n",
       "\t 2 & 2 &  8.815842 &  8.594154 & 2.8328281 &  2.7786977\\\\\n",
       "\t 2 & 3 &  9.904706 &  9.530835 & 3.4928804 &  3.3872701\\\\\n",
       "\t 2 & 4 & 11.712045 & 11.703424 & 3.9285416 &  3.9806614\\\\\n",
       "\t 2 & 5 & 13.959801 & 13.621181 & 3.6427098 &  3.6002078\\\\\n",
       "\t 3 & 1 &  3.350845 &  2.792010 & 1.0265813 &  0.9138085\\\\\n",
       "\t 3 & 2 &  5.733879 &  3.624470 & 2.2217553 &  1.5265090\\\\\n",
       "\t 3 & 3 &  6.490014 &  3.410758 & 2.7198672 &  1.5355276\\\\\n",
       "\t 3 & 4 &  7.643553 &  6.001231 & 3.1232011 &  2.5662322\\\\\n",
       "\t 3 & 5 & 12.054399 &  9.743177 & 3.7496103 &  3.2753685\\\\\n",
       "\\end{tabular}\n"
      ],
      "text/markdown": [
       "\n",
       "A data.table: 15 × 6\n",
       "\n",
       "| size_bin &lt;int&gt; | mom_bin &lt;int&gt; | ew_annual &lt;dbl&gt; | vw_annual &lt;dbl&gt; | t_ew &lt;dbl&gt; | t_vw &lt;dbl&gt; |\n",
       "|---|---|---|---|---|---|\n",
       "| 1 | 1 | 11.488285 | -1.379002 | 2.1897276 | -0.2912496 |\n",
       "| 1 | 2 |  9.756092 |  5.475104 | 2.5925490 |  1.4938270 |\n",
       "| 1 | 3 | 12.001065 | 10.003520 | 3.6941898 |  3.1147446 |\n",
       "| 1 | 4 | 15.776618 | 12.884380 | 4.8497917 |  4.1060731 |\n",
       "| 1 | 5 | 19.350324 | 18.059830 | 5.0958967 |  4.7174270 |\n",
       "| 2 | 1 |  2.801114 |  3.026661 | 0.7001889 |  0.7580717 |\n",
       "| 2 | 2 |  8.815842 |  8.594154 | 2.8328281 |  2.7786977 |\n",
       "| 2 | 3 |  9.904706 |  9.530835 | 3.4928804 |  3.3872701 |\n",
       "| 2 | 4 | 11.712045 | 11.703424 | 3.9285416 |  3.9806614 |\n",
       "| 2 | 5 | 13.959801 | 13.621181 | 3.6427098 |  3.6002078 |\n",
       "| 3 | 1 |  3.350845 |  2.792010 | 1.0265813 |  0.9138085 |\n",
       "| 3 | 2 |  5.733879 |  3.624470 | 2.2217553 |  1.5265090 |\n",
       "| 3 | 3 |  6.490014 |  3.410758 | 2.7198672 |  1.5355276 |\n",
       "| 3 | 4 |  7.643553 |  6.001231 | 3.1232011 |  2.5662322 |\n",
       "| 3 | 5 | 12.054399 |  9.743177 | 3.7496103 |  3.2753685 |\n",
       "\n"
      ],
      "text/plain": [
       "   size_bin mom_bin ew_annual vw_annual t_ew      t_vw      \n",
       "1  1        1       11.488285 -1.379002 2.1897276 -0.2912496\n",
       "2  1        2        9.756092  5.475104 2.5925490  1.4938270\n",
       "3  1        3       12.001065 10.003520 3.6941898  3.1147446\n",
       "4  1        4       15.776618 12.884380 4.8497917  4.1060731\n",
       "5  1        5       19.350324 18.059830 5.0958967  4.7174270\n",
       "6  2        1        2.801114  3.026661 0.7001889  0.7580717\n",
       "7  2        2        8.815842  8.594154 2.8328281  2.7786977\n",
       "8  2        3        9.904706  9.530835 3.4928804  3.3872701\n",
       "9  2        4       11.712045 11.703424 3.9285416  3.9806614\n",
       "10 2        5       13.959801 13.621181 3.6427098  3.6002078\n",
       "11 3        1        3.350845  2.792010 1.0265813  0.9138085\n",
       "12 3        2        5.733879  3.624470 2.2217553  1.5265090\n",
       "13 3        3        6.490014  3.410758 2.7198672  1.5355276\n",
       "14 3        4        7.643553  6.001231 3.1232011  2.5662322\n",
       "15 3        5       12.054399  9.743177 3.7496103  3.2753685"
      ]
     },
     "metadata": {},
     "output_type": "display_data"
    }
   ],
   "source": [
    "#Mean return\n",
    "n_size_MOM = nrow(mom_portfolios_size[, .N, by = end_of_month])\n",
    "\n",
    "mean_ret_size_MOM = mom_portfolios_size[, \n",
    "    .(ew_annual = annualize_ret(mean(ew)),\n",
    "        vw_annual = annualize_ret(mean(vw)),\n",
    "        t_ew = mean(ew)/sd(ew) * sqrt(n_size_MOM),\n",
    "        t_vw = mean(vw)/sd(vw) * sqrt(n_size_MOM)\n",
    "    ), \n",
    "    keyby = .(size_bin, mom_bin)]\n",
    "\n",
    "mean_ret_size_MOM"
   ]
  },
  {
   "cell_type": "code",
   "execution_count": 47,
   "metadata": {},
   "outputs": [
    {
     "data": {
      "text/html": [
       "<table>\n",
       "<caption>A data.table: 3 × 5</caption>\n",
       "<thead>\n",
       "\t<tr><th scope=col>size_bin</th><th scope=col>ew_mean</th><th scope=col>vw_mean</th><th scope=col>ew_t</th><th scope=col>vw_t</th></tr>\n",
       "\t<tr><th scope=col>&lt;int&gt;</th><th scope=col>&lt;dbl&gt;</th><th scope=col>&lt;dbl&gt;</th><th scope=col>&lt;dbl&gt;</th><th scope=col>&lt;dbl&gt;</th></tr>\n",
       "</thead>\n",
       "<tbody>\n",
       "\t<tr><td>1</td><td> 7.118138</td><td>19.685923</td><td>2.204498</td><td>5.827928</td></tr>\n",
       "\t<tr><td>2</td><td>10.880855</td><td>10.310031</td><td>3.743641</td><td>3.485275</td></tr>\n",
       "\t<tr><td>3</td><td> 8.445400</td><td> 6.778368</td><td>3.019649</td><td>2.339147</td></tr>\n",
       "</tbody>\n",
       "</table>\n"
      ],
      "text/latex": [
       "A data.table: 3 × 5\n",
       "\\begin{tabular}{lllll}\n",
       " size\\_bin & ew\\_mean & vw\\_mean & ew\\_t & vw\\_t\\\\\n",
       " <int> & <dbl> & <dbl> & <dbl> & <dbl>\\\\\n",
       "\\hline\n",
       "\t 1 &  7.118138 & 19.685923 & 2.204498 & 5.827928\\\\\n",
       "\t 2 & 10.880855 & 10.310031 & 3.743641 & 3.485275\\\\\n",
       "\t 3 &  8.445400 &  6.778368 & 3.019649 & 2.339147\\\\\n",
       "\\end{tabular}\n"
      ],
      "text/markdown": [
       "\n",
       "A data.table: 3 × 5\n",
       "\n",
       "| size_bin &lt;int&gt; | ew_mean &lt;dbl&gt; | vw_mean &lt;dbl&gt; | ew_t &lt;dbl&gt; | vw_t &lt;dbl&gt; |\n",
       "|---|---|---|---|---|\n",
       "| 1 |  7.118138 | 19.685923 | 2.204498 | 5.827928 |\n",
       "| 2 | 10.880855 | 10.310031 | 3.743641 | 3.485275 |\n",
       "| 3 |  8.445400 |  6.778368 | 3.019649 | 2.339147 |\n",
       "\n"
      ],
      "text/plain": [
       "  size_bin ew_mean   vw_mean   ew_t     vw_t    \n",
       "1 1         7.118138 19.685923 2.204498 5.827928\n",
       "2 2        10.880855 10.310031 3.743641 3.485275\n",
       "3 3         8.445400  6.778368 3.019649 2.339147"
      ]
     },
     "metadata": {},
     "output_type": "display_data"
    }
   ],
   "source": [
    "#WML\n",
    "strategy_wml_size_MOM = merge(\n",
    "    mom_portfolios_size[mom_bin==5,], mom_portfolios_size[mom_bin==1,], \n",
    "    suffixes=c('_long','_short'), \n",
    "    by = c('end_of_month', 'size_bin')\n",
    ")\n",
    "\n",
    "strategy_wml_size_MOM[, ew := (ew_long - ew_short)]\n",
    "strategy_wml_size_MOM[, vw := (vw_long - vw_short)]\n",
    "\n",
    "strategy_wml_size_summary_MOM = strategy_wml_size_MOM[,\n",
    "    .(\n",
    "      ew_mean = annualize_ret(mean(ew)),\n",
    "      vw_mean = annualize_ret(mean(vw)),\n",
    "      ew_t = sharpe(ew) * sqrt(n),\n",
    "      vw_t = sharpe(vw) * sqrt(n)\n",
    "    ),\n",
    "    keyby = .(size_bin)]\n",
    "\n",
    "strategy_wml_size_summary_MOM"
   ]
  },
  {
   "cell_type": "code",
   "execution_count": 48,
   "metadata": {},
   "outputs": [],
   "source": [
    "#Alpha\n",
    "strategy_wml_size_MOM = merge(strategy_wml_size_MOM, ff_four, all.x = TRUE, by = c(\"end_of_month\"))\n",
    "strategy_wml_size_MOM = merge(strategy_wml_size_MOM, ff_five, all.x = TRUE, suffixes = c(\"\", \"_ff5\"), by = c('end_of_month'))\n",
    "\n",
    "\n",
    "alpha_size_MOM = data.table(size_bin = 1, portfolio = \"vw\", ff_alpha(strategy_wml_size_MOM[size_bin == 1], vw_flag = TRUE))\n",
    "alpha_size_MOM = rbind(alpha_size_MOM, data.table(size_bin = 2, portfolio = \"vw\", ff_alpha(strategy_wml_size_MOM[size_bin == 2], vw_flag = TRUE)))\n",
    "alpha_size_MOM = rbind(alpha_size_MOM, data.table(size_bin = 3, portfolio = \"vw\", ff_alpha(strategy_wml_size_MOM[size_bin == 3], vw_flag = TRUE)))\n",
    "\n",
    "for(i in 1:3){\n",
    "    alpha_size_MOM = rbind(alpha_size_MOM, data.table(size_bin = i, portfolio = \"ew\", ff_alpha(strategy_wml_size_MOM[size_bin == i], vw_flag = FALSE)))\n",
    "}"
   ]
  },
  {
   "cell_type": "code",
   "execution_count": 49,
   "metadata": {},
   "outputs": [
    {
     "data": {
      "text/html": [
       "<table>\n",
       "<caption>A data.table: 6 × 10</caption>\n",
       "<thead>\n",
       "\t<tr><th scope=col>size_bin</th><th scope=col>portfolio</th><th scope=col>capm_alpha</th><th scope=col>capm_t</th><th scope=col>ff3_alpha</th><th scope=col>ff3_t</th><th scope=col>ff4_alpha</th><th scope=col>ff4_t</th><th scope=col>ff5_alpha</th><th scope=col>ff5_t</th></tr>\n",
       "\t<tr><th scope=col>&lt;dbl&gt;</th><th scope=col>&lt;chr&gt;</th><th scope=col>&lt;dbl&gt;</th><th scope=col>&lt;dbl&gt;</th><th scope=col>&lt;dbl&gt;</th><th scope=col>&lt;dbl&gt;</th><th scope=col>&lt;dbl&gt;</th><th scope=col>&lt;dbl&gt;</th><th scope=col>&lt;dbl&gt;</th><th scope=col>&lt;dbl&gt;</th></tr>\n",
       "</thead>\n",
       "<tbody>\n",
       "\t<tr><td>1</td><td>vw</td><td>21.171352</td><td>6.322032</td><td>23.718483</td><td>6.979527</td><td> 9.1888963</td><td> 4.7434652</td><td>18.783205</td><td>5.591317</td></tr>\n",
       "\t<tr><td>2</td><td>vw</td><td>10.974428</td><td>3.701766</td><td>13.815762</td><td>4.699941</td><td> 0.5640042</td><td> 0.4222235</td><td>12.240868</td><td>4.072000</td></tr>\n",
       "\t<tr><td>3</td><td>vw</td><td> 7.032966</td><td>2.414915</td><td> 9.416532</td><td>3.269422</td><td>-3.7547928</td><td>-3.3145337</td><td> 8.159455</td><td>2.759698</td></tr>\n",
       "\t<tr><td>1</td><td>ew</td><td> 8.305441</td><td>2.584933</td><td>10.221452</td><td>3.139556</td><td>-1.6745224</td><td>-0.7660778</td><td> 5.566702</td><td>1.732021</td></tr>\n",
       "\t<tr><td>2</td><td>ew</td><td>11.493351</td><td>3.944027</td><td>14.402972</td><td>4.988524</td><td> 1.4270916</td><td> 1.0607467</td><td>13.074741</td><td>4.416750</td></tr>\n",
       "\t<tr><td>3</td><td>ew</td><td> 8.746595</td><td>3.112446</td><td>11.175333</td><td>4.061177</td><td>-1.5638663</td><td>-1.4566242</td><td>10.083274</td><td>3.566306</td></tr>\n",
       "</tbody>\n",
       "</table>\n"
      ],
      "text/latex": [
       "A data.table: 6 × 10\n",
       "\\begin{tabular}{llllllllll}\n",
       " size\\_bin & portfolio & capm\\_alpha & capm\\_t & ff3\\_alpha & ff3\\_t & ff4\\_alpha & ff4\\_t & ff5\\_alpha & ff5\\_t\\\\\n",
       " <dbl> & <chr> & <dbl> & <dbl> & <dbl> & <dbl> & <dbl> & <dbl> & <dbl> & <dbl>\\\\\n",
       "\\hline\n",
       "\t 1 & vw & 21.171352 & 6.322032 & 23.718483 & 6.979527 &  9.1888963 &  4.7434652 & 18.783205 & 5.591317\\\\\n",
       "\t 2 & vw & 10.974428 & 3.701766 & 13.815762 & 4.699941 &  0.5640042 &  0.4222235 & 12.240868 & 4.072000\\\\\n",
       "\t 3 & vw &  7.032966 & 2.414915 &  9.416532 & 3.269422 & -3.7547928 & -3.3145337 &  8.159455 & 2.759698\\\\\n",
       "\t 1 & ew &  8.305441 & 2.584933 & 10.221452 & 3.139556 & -1.6745224 & -0.7660778 &  5.566702 & 1.732021\\\\\n",
       "\t 2 & ew & 11.493351 & 3.944027 & 14.402972 & 4.988524 &  1.4270916 &  1.0607467 & 13.074741 & 4.416750\\\\\n",
       "\t 3 & ew &  8.746595 & 3.112446 & 11.175333 & 4.061177 & -1.5638663 & -1.4566242 & 10.083274 & 3.566306\\\\\n",
       "\\end{tabular}\n"
      ],
      "text/markdown": [
       "\n",
       "A data.table: 6 × 10\n",
       "\n",
       "| size_bin &lt;dbl&gt; | portfolio &lt;chr&gt; | capm_alpha &lt;dbl&gt; | capm_t &lt;dbl&gt; | ff3_alpha &lt;dbl&gt; | ff3_t &lt;dbl&gt; | ff4_alpha &lt;dbl&gt; | ff4_t &lt;dbl&gt; | ff5_alpha &lt;dbl&gt; | ff5_t &lt;dbl&gt; |\n",
       "|---|---|---|---|---|---|---|---|---|---|\n",
       "| 1 | vw | 21.171352 | 6.322032 | 23.718483 | 6.979527 |  9.1888963 |  4.7434652 | 18.783205 | 5.591317 |\n",
       "| 2 | vw | 10.974428 | 3.701766 | 13.815762 | 4.699941 |  0.5640042 |  0.4222235 | 12.240868 | 4.072000 |\n",
       "| 3 | vw |  7.032966 | 2.414915 |  9.416532 | 3.269422 | -3.7547928 | -3.3145337 |  8.159455 | 2.759698 |\n",
       "| 1 | ew |  8.305441 | 2.584933 | 10.221452 | 3.139556 | -1.6745224 | -0.7660778 |  5.566702 | 1.732021 |\n",
       "| 2 | ew | 11.493351 | 3.944027 | 14.402972 | 4.988524 |  1.4270916 |  1.0607467 | 13.074741 | 4.416750 |\n",
       "| 3 | ew |  8.746595 | 3.112446 | 11.175333 | 4.061177 | -1.5638663 | -1.4566242 | 10.083274 | 3.566306 |\n",
       "\n"
      ],
      "text/plain": [
       "  size_bin portfolio capm_alpha capm_t   ff3_alpha ff3_t    ff4_alpha \n",
       "1 1        vw        21.171352  6.322032 23.718483 6.979527  9.1888963\n",
       "2 2        vw        10.974428  3.701766 13.815762 4.699941  0.5640042\n",
       "3 3        vw         7.032966  2.414915  9.416532 3.269422 -3.7547928\n",
       "4 1        ew         8.305441  2.584933 10.221452 3.139556 -1.6745224\n",
       "5 2        ew        11.493351  3.944027 14.402972 4.988524  1.4270916\n",
       "6 3        ew         8.746595  3.112446 11.175333 4.061177 -1.5638663\n",
       "  ff4_t      ff5_alpha ff5_t   \n",
       "1  4.7434652 18.783205 5.591317\n",
       "2  0.4222235 12.240868 4.072000\n",
       "3 -3.3145337  8.159455 2.759698\n",
       "4 -0.7660778  5.566702 1.732021\n",
       "5  1.0607467 13.074741 4.416750\n",
       "6 -1.4566242 10.083274 3.566306"
      ]
     },
     "metadata": {},
     "output_type": "display_data"
    }
   ],
   "source": [
    "alpha_size_MOM"
   ]
  },
  {
   "cell_type": "markdown",
   "metadata": {},
   "source": [
    "## 4.7 IMOM Summary"
   ]
  },
  {
   "cell_type": "code",
   "execution_count": 50,
   "metadata": {},
   "outputs": [],
   "source": [
    "x = data.table(portfolio = \"vw\", dcast(mean_ret_size_MOM, size_bin ~ mom_bin, value.var = \"vw_annual\"))\n",
    "x = rbind(x,data.table(portfolio = \"ew\", dcast(mean_ret_size_MOM, size_bin ~ mom_bin, value.var = \"ew_annual\")))\n",
    "\n",
    "y = data.table(portfolio = \"vw\", dcast(mean_ret_size_MOM, size_bin ~ mom_bin, value.var = \"t_vw\"))\n",
    "y = rbind(y,data.table(portfolio = \"ew\", dcast(mean_ret_size_MOM, size_bin ~ mom_bin, value.var = \"t_ew\")))\n",
    "names(y)[3:7] = paste0(names(y)[3:7], \"_t\")\n",
    "\n",
    "z = data.table(portfolio = \"vw\", strategy_wml_size_summary_MOM[, .(size_bin, wml = vw_mean, wml_t = vw_t)])\n",
    "z = rbind(z, data.table(portfolio = \"ew\", strategy_wml_size_summary_MOM[, .(size_bin, wml = ew_mean, wml_t = ew_t)]))\n",
    "\n",
    "\n",
    "size_summary_MOM = merge(x, y, keyby = c(\"portfolio\", \"size_bin\"))\n",
    "size_summary_MOM = merge(size_summary_MOM, z, keyby = c(\"portfolio\", \"size_bin\"))\n",
    "size_summary_MOM = merge(size_summary_MOM, alpha_size_MOM, keyby = c(\"portfolio\", \"size_bin\"))\n",
    "\n",
    "rm(x)\n",
    "rm(y)\n",
    "rm(z)"
   ]
  },
  {
   "cell_type": "code",
   "execution_count": 51,
   "metadata": {},
   "outputs": [],
   "source": [
    "size_names = c(\"Micro\", \"Small\", \"Large\")\n",
    "names(size_summary_MOM)[2] = \"Size\"\n",
    "size_summary_MOM[, Size := size_names[Size]]"
   ]
  },
  {
   "cell_type": "markdown",
   "metadata": {},
   "source": [
    "### Panel C: EW - MOM"
   ]
  },
  {
   "cell_type": "code",
   "execution_count": 52,
   "metadata": {},
   "outputs": [],
   "source": [
    "summary_data = size_summary_MOM[portfolio == \"ew\", -1]\n",
    "\n",
    "size_summary_output_panel_C = data.table(t(lapply(summary_data[1, .SD, .SDcol = -grep(\"_t\", names(summary_data))], round_num)))\n",
    "for(i in 1:5){\n",
    "    if(i %% 2 == 0){\n",
    "        size_summary_output_panel_C = rbind(size_summary_output_panel_C, lapply(summary_data[i%/%2+1, .SD, .SDcol = -grep(\"_t\", names(summary_data))],round_num), use.names = FALSE)\n",
    "    } else {\n",
    "        size_summary_output_panel_C = rbind(size_summary_output_panel_C, lapply(summary_data[i%/%2+1, .(NA, .SD), .SDcol = c(grep(\"_t\", names(summary_data)))], add_bracket), use.names = FALSE)\n",
    "    }\n",
    "}\n",
    "\n",
    "rm(summary_data)"
   ]
  },
  {
   "cell_type": "markdown",
   "metadata": {},
   "source": [
    "### Panel D: VW - MOM"
   ]
  },
  {
   "cell_type": "code",
   "execution_count": 53,
   "metadata": {},
   "outputs": [],
   "source": [
    "summary_data = size_summary_MOM[portfolio == \"vw\", -1]\n",
    "\n",
    "size_summary_output_panel_D = data.table(t(lapply(summary_data[1, .SD, .SDcol = -grep(\"_t\", names(summary_data))], round_num)))\n",
    "for(i in 1:5){\n",
    "    if(i %% 2 == 0){\n",
    "        size_summary_output_panel_D = rbind(size_summary_output_panel_D, lapply(summary_data[i%/%2+1, .SD, .SDcol = -grep(\"_t\", names(summary_data))],round_num), use.names = FALSE)\n",
    "    } else {\n",
    "        size_summary_output_panel_D = rbind(size_summary_output_panel_D, lapply(summary_data[i%/%2+1, .(NA, .SD), .SDcol = c(grep(\"_t\", names(summary_data)))], add_bracket), use.names = FALSE)\n",
    "    }\n",
    "}\n",
    "\n",
    "rm(summary_data)"
   ]
  },
  {
   "cell_type": "markdown",
   "metadata": {},
   "source": [
    "## Table 3: WML Portfolios in Size Groups <a class=\"anchor\" id=\"table_3\"></a>"
   ]
  },
  {
   "cell_type": "code",
   "execution_count": 54,
   "metadata": {
    "scrolled": false
   },
   "outputs": [
    {
     "data": {
      "text/html": [
       "<table style=\"text-align:center\"><caption><strong>Panel A: EW - IMOM</strong></caption><tr><td colspan=\"11\" style=\"border-bottom: 1px solid black\"></td></tr><tr><td style=\"text-align:left\">Size</td><td>1</td><td>2</td><td>3</td><td>4</td><td>5</td><td>wml</td><td>capm_alpha</td><td>ff3_alpha</td><td>ff4_alpha</td><td>ff5_alpha</td></tr><tr><td colspan=\"11\" style=\"border-bottom: 1px solid black\"></td></tr><tr><td style=\"text-align:left\">Micro</td><td>8.28</td><td>9.7</td><td>12.98</td><td>16.64</td><td>20.98</td><td>11.81</td><td>12.79</td><td>12.42</td><td>3.86</td><td>8.76</td></tr><tr><td style=\"text-align:left\"></td><td>(1.72)</td><td>(2.67)</td><td>(3.91)</td><td>(5.07)</td><td>(5.24)</td><td>(4.8)</td><td>(5.24)</td><td>(5.01)</td><td>(2.12)</td><td>(3.57)</td></tr><tr><td style=\"text-align:left\">Small</td><td>1.19</td><td>7.88</td><td>10.15</td><td>12.81</td><td>15.38</td><td>14.04</td><td>14.85</td><td>15.61</td><td>6.24</td><td>14.81</td></tr><tr><td style=\"text-align:left\"></td><td>(0.31)</td><td>(2.53)</td><td>(3.62)</td><td>(4.37)</td><td>(4.08)</td><td>(6.07)</td><td>(6.45)</td><td>(6.74)</td><td>(4.31)</td><td>(6.2)</td></tr><tr><td style=\"text-align:left\">Large</td><td>1.72</td><td>5.97</td><td>7.49</td><td>8.45</td><td>11.71</td><td>9.83</td><td>10.53</td><td>10.61</td><td>1.52</td><td>9.76</td></tr><tr><td style=\"text-align:left\"></td><td>(0.53)</td><td>(2.32)</td><td>(3.17)</td><td>(3.5)</td><td>(3.86)</td><td>(4.4)</td><td>(4.72)</td><td>(4.77)</td><td>(1.15)</td><td>(4.27)</td></tr><tr><td colspan=\"11\" style=\"border-bottom: 1px solid black\"></td></tr></table><table style=\"text-align:center\"><caption><strong>Panel B: VW - IMOM</strong></caption><tr><td colspan=\"11\" style=\"border-bottom: 1px solid black\"></td></tr><tr><td style=\"text-align:left\">Size</td><td>1</td><td>2</td><td>3</td><td>4</td><td>5</td><td>wml</td><td>capm_alpha</td><td>ff3_alpha</td><td>ff4_alpha</td><td>ff5_alpha</td></tr><tr><td colspan=\"11\" style=\"border-bottom: 1px solid black\"></td></tr><tr><td style=\"text-align:left\">Micro</td><td>-2.41</td><td>5.82</td><td>10.44</td><td>14.38</td><td>19.38</td><td>22.29</td><td>23.36</td><td>22.97</td><td>13.07</td><td>19.32</td></tr><tr><td style=\"text-align:left\"></td><td>(-0.56)</td><td>(1.66)</td><td>(3.3)</td><td>(4.55)</td><td>(4.87)</td><td>(9.05)</td><td>(9.58)</td><td>(9.27)</td><td>(8.01)</td><td>(7.85)</td></tr><tr><td style=\"text-align:left\">Small</td><td>1.37</td><td>7.64</td><td>10.04</td><td>12.5</td><td>15.13</td><td>13.59</td><td>14.47</td><td>15.21</td><td>5.64</td><td>14.31</td></tr><tr><td style=\"text-align:left\"></td><td>(0.35)</td><td>(2.47)</td><td>(3.62)</td><td>(4.32)</td><td>(4.07)</td><td>(5.78)</td><td>(6.19)</td><td>(6.47)</td><td>(3.89)</td><td>(5.92)</td></tr><tr><td style=\"text-align:left\">Large</td><td>1.13</td><td>3.21</td><td>4.31</td><td>6.48</td><td>10.49</td><td>9.26</td><td>9.87</td><td>10.04</td><td>0.93</td><td>9.54</td></tr><tr><td style=\"text-align:left\"></td><td>(0.38)</td><td>(1.38)</td><td>(2)</td><td>(2.87)</td><td>(3.69)</td><td>(3.91)</td><td>(4.16)</td><td>(4.24)</td><td>(0.6)</td><td>(3.92)</td></tr><tr><td colspan=\"11\" style=\"border-bottom: 1px solid black\"></td></tr></table>"
      ]
     },
     "metadata": {},
     "output_type": "display_data"
    },
    {
     "data": {
      "text/html": [
       "<table style=\"text-align:center\"><caption><strong>Panel C: EW - MOM</strong></caption><tr><td colspan=\"11\" style=\"border-bottom: 1px solid black\"></td></tr><tr><td style=\"text-align:left\">Size</td><td>1</td><td>2</td><td>3</td><td>4</td><td>5</td><td>wml</td><td>capm_alpha</td><td>ff3_alpha</td><td>ff4_alpha</td><td>ff5_alpha</td></tr><tr><td colspan=\"11\" style=\"border-bottom: 1px solid black\"></td></tr><tr><td style=\"text-align:left\">Micro</td><td>11.49</td><td>9.76</td><td>12</td><td>15.78</td><td>19.35</td><td>7.12</td><td>8.31</td><td>10.22</td><td>-1.67</td><td>5.57</td></tr><tr><td style=\"text-align:left\"></td><td>(2.19)</td><td>(2.59)</td><td>(3.69)</td><td>(4.85)</td><td>(5.1)</td><td>(2.2)</td><td>(2.58)</td><td>(3.14)</td><td>(-0.77)</td><td>(1.73)</td></tr><tr><td style=\"text-align:left\">Small</td><td>2.8</td><td>8.82</td><td>9.9</td><td>11.71</td><td>13.96</td><td>10.88</td><td>11.49</td><td>14.4</td><td>1.43</td><td>13.07</td></tr><tr><td style=\"text-align:left\"></td><td>(0.7)</td><td>(2.83)</td><td>(3.49)</td><td>(3.93)</td><td>(3.64)</td><td>(3.74)</td><td>(3.94)</td><td>(4.99)</td><td>(1.06)</td><td>(4.42)</td></tr><tr><td style=\"text-align:left\">Large</td><td>3.35</td><td>5.73</td><td>6.49</td><td>7.64</td><td>12.05</td><td>8.45</td><td>8.75</td><td>11.18</td><td>-1.56</td><td>10.08</td></tr><tr><td style=\"text-align:left\"></td><td>(1.03)</td><td>(2.22)</td><td>(2.72)</td><td>(3.12)</td><td>(3.75)</td><td>(3.02)</td><td>(3.11)</td><td>(4.06)</td><td>(-1.46)</td><td>(3.57)</td></tr><tr><td colspan=\"11\" style=\"border-bottom: 1px solid black\"></td></tr></table><table style=\"text-align:center\"><caption><strong>Panel D: VW - MOM</strong></caption><tr><td colspan=\"11\" style=\"border-bottom: 1px solid black\"></td></tr><tr><td style=\"text-align:left\">Size</td><td>1</td><td>2</td><td>3</td><td>4</td><td>5</td><td>wml</td><td>capm_alpha</td><td>ff3_alpha</td><td>ff4_alpha</td><td>ff5_alpha</td></tr><tr><td colspan=\"11\" style=\"border-bottom: 1px solid black\"></td></tr><tr><td style=\"text-align:left\">Micro</td><td>-1.38</td><td>5.48</td><td>10</td><td>12.88</td><td>18.06</td><td>19.69</td><td>21.17</td><td>23.72</td><td>9.19</td><td>18.78</td></tr><tr><td style=\"text-align:left\"></td><td>(-0.29)</td><td>(1.49)</td><td>(3.11)</td><td>(4.11)</td><td>(4.72)</td><td>(5.83)</td><td>(6.32)</td><td>(6.98)</td><td>(4.74)</td><td>(5.59)</td></tr><tr><td style=\"text-align:left\">Small</td><td>3.03</td><td>8.59</td><td>9.53</td><td>11.7</td><td>13.62</td><td>10.31</td><td>10.97</td><td>13.82</td><td>0.56</td><td>12.24</td></tr><tr><td style=\"text-align:left\"></td><td>(0.76)</td><td>(2.78)</td><td>(3.39)</td><td>(3.98)</td><td>(3.6)</td><td>(3.49)</td><td>(3.7)</td><td>(4.7)</td><td>(0.42)</td><td>(4.07)</td></tr><tr><td style=\"text-align:left\">Large</td><td>2.79</td><td>3.62</td><td>3.41</td><td>6</td><td>9.74</td><td>6.78</td><td>7.03</td><td>9.42</td><td>-3.75</td><td>8.16</td></tr><tr><td style=\"text-align:left\"></td><td>(0.91)</td><td>(1.53)</td><td>(1.54)</td><td>(2.57)</td><td>(3.28)</td><td>(2.34)</td><td>(2.41)</td><td>(3.27)</td><td>(-3.31)</td><td>(2.76)</td></tr><tr><td colspan=\"11\" style=\"border-bottom: 1px solid black\"></td></tr></table>"
      ]
     },
     "metadata": {},
     "output_type": "display_data"
    }
   ],
   "source": [
    "IRdisplay::display_html(\n",
    "        paste(capture.output(\n",
    "            stargazer(size_summary_output_panel_A, size_summary_output_panel_B, type = \"html\", summary = FALSE, rownames = FALSE,\n",
    "                     title = c(\"Panel A: EW - IMOM\", \"Panel B: VW - IMOM\"))\n",
    "        ),\n",
    "        collapse='', sep='')\n",
    ")\n",
    "IRdisplay::display_html(\n",
    "        paste(capture.output(\n",
    "            stargazer(size_summary_output_panel_C, size_summary_output_panel_D, type = \"html\", summary = FALSE, rownames = FALSE,\n",
    "                     title = c(\"Panel C: EW - MOM\", \"Panel D: VW - MOM\"))\n",
    "        ),\n",
    "        collapse='', sep='')\n",
    ")"
   ]
  },
  {
   "cell_type": "code",
   "execution_count": 55,
   "metadata": {
    "scrolled": true
   },
   "outputs": [
    {
     "name": "stdout",
     "output_type": "stream",
     "text": [
      "\n",
      "% Table created by stargazer v.5.2.2 by Marek Hlavac, Harvard University. E-mail: hlavac at fas.harvard.edu\n",
      "% Date and time: Wed, May 06, 2020 - 12:06:49 AM\n",
      "\\begin{table}[!htbp] \\centering \n",
      "  \\caption{Panel A: EW - IMOM} \n",
      "  \\label{} \n",
      "\\begin{tabular}{@{\\extracolsep{5pt}} ccccccccccc} \n",
      "\\\\[-1.8ex]\\hline \n",
      "\\hline \\\\[-1.8ex] \n",
      "Size & 1 & 2 & 3 & 4 & 5 & wml & capm\\_alpha & ff3\\_alpha & ff4\\_alpha & ff5\\_alpha \\\\ \n",
      "\\hline \\\\[-1.8ex] \n",
      "Micro & 8.28 & 9.7 & 12.98 & 16.64 & 20.98 & 11.81 & 12.79 & 12.42 & 3.86 & 8.76 \\\\ \n",
      " & (1.72) & (2.67) & (3.91) & (5.07) & (5.24) & (4.8) & (5.24) & (5.01) & (2.12) & (3.57) \\\\ \n",
      "Small & 1.19 & 7.88 & 10.15 & 12.81 & 15.38 & 14.04 & 14.85 & 15.61 & 6.24 & 14.81 \\\\ \n",
      " & (0.31) & (2.53) & (3.62) & (4.37) & (4.08) & (6.07) & (6.45) & (6.74) & (4.31) & (6.2) \\\\ \n",
      "Large & 1.72 & 5.97 & 7.49 & 8.45 & 11.71 & 9.83 & 10.53 & 10.61 & 1.52 & 9.76 \\\\ \n",
      " & (0.53) & (2.32) & (3.17) & (3.5) & (3.86) & (4.4) & (4.72) & (4.77) & (1.15) & (4.27) \\\\ \n",
      "\\hline \\\\[-1.8ex] \n",
      "\\end{tabular} \n",
      "\\end{table} \n",
      "\n",
      "% Table created by stargazer v.5.2.2 by Marek Hlavac, Harvard University. E-mail: hlavac at fas.harvard.edu\n",
      "% Date and time: Wed, May 06, 2020 - 12:06:49 AM\n",
      "\\begin{table}[!htbp] \\centering \n",
      "  \\caption{Panel B: VW - IMOM} \n",
      "  \\label{} \n",
      "\\begin{tabular}{@{\\extracolsep{5pt}} ccccccccccc} \n",
      "\\\\[-1.8ex]\\hline \n",
      "\\hline \\\\[-1.8ex] \n",
      "Size & 1 & 2 & 3 & 4 & 5 & wml & capm\\_alpha & ff3\\_alpha & ff4\\_alpha & ff5\\_alpha \\\\ \n",
      "\\hline \\\\[-1.8ex] \n",
      "Micro & -2.41 & 5.82 & 10.44 & 14.38 & 19.38 & 22.29 & 23.36 & 22.97 & 13.07 & 19.32 \\\\ \n",
      " & (-0.56) & (1.66) & (3.3) & (4.55) & (4.87) & (9.05) & (9.58) & (9.27) & (8.01) & (7.85) \\\\ \n",
      "Small & 1.37 & 7.64 & 10.04 & 12.5 & 15.13 & 13.59 & 14.47 & 15.21 & 5.64 & 14.31 \\\\ \n",
      " & (0.35) & (2.47) & (3.62) & (4.32) & (4.07) & (5.78) & (6.19) & (6.47) & (3.89) & (5.92) \\\\ \n",
      "Large & 1.13 & 3.21 & 4.31 & 6.48 & 10.49 & 9.26 & 9.87 & 10.04 & 0.93 & 9.54 \\\\ \n",
      " & (0.38) & (1.38) & (2) & (2.87) & (3.69) & (3.91) & (4.16) & (4.24) & (0.6) & (3.92) \\\\ \n",
      "\\hline \\\\[-1.8ex] \n",
      "\\end{tabular} \n",
      "\\end{table} \n"
     ]
    }
   ],
   "source": [
    "stargazer(size_summary_output_panel_A, size_summary_output_panel_B, type = \"latex\", summary = FALSE, rownames = FALSE,\n",
    "                     title = c(\"Panel A: EW - IMOM\", \"Panel B: VW - IMOM\"))"
   ]
  },
  {
   "cell_type": "code",
   "execution_count": 56,
   "metadata": {
    "scrolled": true
   },
   "outputs": [
    {
     "name": "stdout",
     "output_type": "stream",
     "text": [
      "\n",
      "% Table created by stargazer v.5.2.2 by Marek Hlavac, Harvard University. E-mail: hlavac at fas.harvard.edu\n",
      "% Date and time: Wed, May 06, 2020 - 12:06:49 AM\n",
      "\\begin{table}[!htbp] \\centering \n",
      "  \\caption{Panel C: EW - MOM} \n",
      "  \\label{} \n",
      "\\begin{tabular}{@{\\extracolsep{5pt}} ccccccccccc} \n",
      "\\\\[-1.8ex]\\hline \n",
      "\\hline \\\\[-1.8ex] \n",
      "Size & 1 & 2 & 3 & 4 & 5 & wml & capm\\_alpha & ff3\\_alpha & ff4\\_alpha & ff5\\_alpha \\\\ \n",
      "\\hline \\\\[-1.8ex] \n",
      "Micro & 11.49 & 9.76 & 12 & 15.78 & 19.35 & 7.12 & 8.31 & 10.22 & -1.67 & 5.57 \\\\ \n",
      " & (2.19) & (2.59) & (3.69) & (4.85) & (5.1) & (2.2) & (2.58) & (3.14) & (-0.77) & (1.73) \\\\ \n",
      "Small & 2.8 & 8.82 & 9.9 & 11.71 & 13.96 & 10.88 & 11.49 & 14.4 & 1.43 & 13.07 \\\\ \n",
      " & (0.7) & (2.83) & (3.49) & (3.93) & (3.64) & (3.74) & (3.94) & (4.99) & (1.06) & (4.42) \\\\ \n",
      "Large & 3.35 & 5.73 & 6.49 & 7.64 & 12.05 & 8.45 & 8.75 & 11.18 & -1.56 & 10.08 \\\\ \n",
      " & (1.03) & (2.22) & (2.72) & (3.12) & (3.75) & (3.02) & (3.11) & (4.06) & (-1.46) & (3.57) \\\\ \n",
      "\\hline \\\\[-1.8ex] \n",
      "\\end{tabular} \n",
      "\\end{table} \n",
      "\n",
      "% Table created by stargazer v.5.2.2 by Marek Hlavac, Harvard University. E-mail: hlavac at fas.harvard.edu\n",
      "% Date and time: Wed, May 06, 2020 - 12:06:50 AM\n",
      "\\begin{table}[!htbp] \\centering \n",
      "  \\caption{Panel D: VW - MOM} \n",
      "  \\label{} \n",
      "\\begin{tabular}{@{\\extracolsep{5pt}} ccccccccccc} \n",
      "\\\\[-1.8ex]\\hline \n",
      "\\hline \\\\[-1.8ex] \n",
      "Size & 1 & 2 & 3 & 4 & 5 & wml & capm\\_alpha & ff3\\_alpha & ff4\\_alpha & ff5\\_alpha \\\\ \n",
      "\\hline \\\\[-1.8ex] \n",
      "Micro & -1.38 & 5.48 & 10 & 12.88 & 18.06 & 19.69 & 21.17 & 23.72 & 9.19 & 18.78 \\\\ \n",
      " & (-0.29) & (1.49) & (3.11) & (4.11) & (4.72) & (5.83) & (6.32) & (6.98) & (4.74) & (5.59) \\\\ \n",
      "Small & 3.03 & 8.59 & 9.53 & 11.7 & 13.62 & 10.31 & 10.97 & 13.82 & 0.56 & 12.24 \\\\ \n",
      " & (0.76) & (2.78) & (3.39) & (3.98) & (3.6) & (3.49) & (3.7) & (4.7) & (0.42) & (4.07) \\\\ \n",
      "Large & 2.79 & 3.62 & 3.41 & 6 & 9.74 & 6.78 & 7.03 & 9.42 & -3.75 & 8.16 \\\\ \n",
      " & (0.91) & (1.53) & (1.54) & (2.57) & (3.28) & (2.34) & (2.41) & (3.27) & (-3.31) & (2.76) \\\\ \n",
      "\\hline \\\\[-1.8ex] \n",
      "\\end{tabular} \n",
      "\\end{table} \n"
     ]
    }
   ],
   "source": [
    "stargazer(size_summary_output_panel_C, size_summary_output_panel_D, type = \"latex\", summary = FALSE, rownames = FALSE,\n",
    "                     title = c(\"Panel C: EW - MOM\", \"Panel D: VW - MOM\"))"
   ]
  },
  {
   "cell_type": "markdown",
   "metadata": {},
   "source": [
    "# 5. IUMD Factor <a class=\"anchor\" id=\"bullet_5\"></a>"
   ]
  },
  {
   "cell_type": "markdown",
   "metadata": {},
   "source": [
    "## 5.1 Build IUMD Factor"
   ]
  },
  {
   "cell_type": "code",
   "execution_count": 57,
   "metadata": {},
   "outputs": [],
   "source": [
    "signal_4 = copy(signal_filtered)"
   ]
  },
  {
   "cell_type": "code",
   "execution_count": 58,
   "metadata": {},
   "outputs": [],
   "source": [
    "signal_4[, size_bin := apply_cap_split(mcap_lag1, hexcd, c(0, 0.5, 1)), by = end_of_month]\n",
    "signal_4[, idio_bin := apply_quantiles(idio_momentum, bins = 10), by = .(end_of_month, size_bin)]\n",
    "signal_4[, IUMD_bin := ifelse(idio_bin <= 3, 1, ifelse(idio_bin >= 8, 3, 2))]\n",
    "\n",
    "idio_portfolios_IUMD = signal_4[, .(\n",
    "    ew = mean(ret_rf),\n",
    "    vw = sum(ret_rf * mcap_lag1) / sum(mcap_lag1)\n",
    "), by = .(end_of_month, IUMD_bin, size_bin)]\n",
    "\n",
    "strategy_wml_IUMD = merge(\n",
    "    idio_portfolios_IUMD[IUMD_bin==3,], idio_portfolios_IUMD[IUMD_bin==1,], \n",
    "    suffixes=c('_long','_short'), \n",
    "    by = c('end_of_month', 'size_bin')\n",
    ")\n",
    "\n",
    "strategy_wml_IUMD[, ew := (ew_long - ew_short)]\n",
    "strategy_wml_IUMD[, vw := (vw_long - vw_short)]\n",
    "\n",
    "IUMD = strategy_wml_IUMD[, .(IUMD = mean(vw)), keyby = c(\"end_of_month\")]"
   ]
  },
  {
   "cell_type": "markdown",
   "metadata": {},
   "source": [
    "## 5.2 Factor Loadings"
   ]
  },
  {
   "cell_type": "markdown",
   "metadata": {},
   "source": [
    "### Panel A: MOM Portfolios"
   ]
  },
  {
   "cell_type": "code",
   "execution_count": 59,
   "metadata": {},
   "outputs": [],
   "source": [
    "factor_loading_lm = function(inp_data){\n",
    "    fit = lm(vw ~ mom + IUMD, data = inp_data)\n",
    "    output = data.table(t(fit$coefficients))\n",
    "    return(output)\n",
    "}"
   ]
  },
  {
   "cell_type": "code",
   "execution_count": 60,
   "metadata": {},
   "outputs": [],
   "source": [
    "#MOM\n",
    "MOM_strategy_wml = merge(\n",
    "    mom_portfolios[mom_bin==5,], mom_portfolios[mom_bin==1,], \n",
    "    suffixes=c('_long','_short'), \n",
    "    by = c('end_of_month')\n",
    ")\n",
    "\n",
    "MOM_strategy_wml[, ew := (ew_long - ew_short)]\n",
    "MOM_strategy_wml[, vw := (vw_long - vw_short)]\n",
    "\n",
    "\n",
    "MOM_mean_ret = mom_portfolios[, .(\"Excess Return\" = annualize_ret(mean(vw))), keyby = mom_bin]\n",
    "MOM_strategy_wml_summary = MOM_strategy_wml[, .(\"Excess Return\" = annualize_ret(mean(vw)))]\n",
    "\n",
    "MOM_excess_ret = rbind(MOM_mean_ret, data.table(mom_bin = \"WML\", MOM_strategy_wml_summary))"
   ]
  },
  {
   "cell_type": "code",
   "execution_count": 61,
   "metadata": {},
   "outputs": [],
   "source": [
    "#Alpha\n",
    "MOM_regress = merge(mom_portfolios, ff_four, all.x = TRUE, by = c('end_of_month'))\n",
    "MOM_regress = merge(MOM_regress, IUMD, all.x = TRUE, by = c('end_of_month'))\n",
    "\n",
    "MOM_regress_wml = merge(MOM_strategy_wml, ff_four, all.x = TRUE, by = c('end_of_month'))\n",
    "MOM_regress_wml = merge(MOM_regress_wml, IUMD, all.x = TRUE, by = c('end_of_month'))\n",
    "\n",
    "\n",
    "MOM_fit = MOM_regress[, factor_loading_lm(data.table(vw, mom, IUMD)), keyby = mom_bin]\n",
    "MOM_fit_wml = MOM_regress_wml[, factor_loading_lm(data.table(vw, mom, IUMD))]"
   ]
  },
  {
   "cell_type": "code",
   "execution_count": 62,
   "metadata": {},
   "outputs": [],
   "source": [
    "#Summary\n",
    "\n",
    "MOM_factor_load_summary = rbind(MOM_fit[, c(1,3:4)], data.table(mom_bin = \"WML\", MOM_fit_wml[,2:3]))\n",
    "MOM_factor_load_summary = merge(MOM_excess_ret, MOM_factor_load_summary, by = c(\"mom_bin\"))\n",
    "MOM_factor_load_summary = dcast(melt(MOM_factor_load_summary, id.vars = \"mom_bin\"), variable ~ mom_bin)\n",
    "\n",
    "\n",
    "names(MOM_factor_load_summary)[c(2, 6, 7)] = c(\"Losers\", \"Winners\", \"WML\")\n",
    "\n",
    "MOM_factor_load_summary[, spread := Winners - Losers]\n",
    "MOM_factor_load_summary[2:3, slope := MOM_factor_load_summary[1, spread] / spread]\n",
    "\n",
    "MOM_factor_load_summary[, variable := c(\"Excess Return\", \"UMD Coefficient\", \"IUMD Coefficient\")]"
   ]
  },
  {
   "cell_type": "markdown",
   "metadata": {},
   "source": [
    "### Panel B: IMOM Portfolios"
   ]
  },
  {
   "cell_type": "code",
   "execution_count": 63,
   "metadata": {},
   "outputs": [],
   "source": [
    "#IMOM\n",
    "IMOM_regress = merge(idio_portfolios, ff_four, all.x = TRUE, by = c('end_of_month'))\n",
    "IMOM_regress = merge(IMOM_regress, IUMD, all.x = TRUE, by = c('end_of_month'))\n",
    "\n",
    "IMOM_regress_wml = merge(strategy_wml, IUMD, all.x = TRUE, by = c('end_of_month'))\n",
    "\n",
    "\n",
    "IMOM_fit = IMOM_regress[, factor_loading_lm(data.table(vw, mom, IUMD)), keyby = idio_bin]\n",
    "IMOM_fit_wml = IMOM_regress_wml[, factor_loading_lm(data.table(vw, mom, IUMD))]"
   ]
  },
  {
   "cell_type": "code",
   "execution_count": 64,
   "metadata": {},
   "outputs": [],
   "source": [
    "#Summary\n",
    "\n",
    "x = rbind(IMOM_fit[, c(1,3:4)], data.table(idio_bin = \"WML\", IMOM_fit_wml[,2:3]))\n",
    "x = dcast(melt(x, id.vars = \"idio_bin\"), variable ~ idio_bin)\n",
    "\n",
    "IMOM_factor_load_summary = data.table(variable = \"Excess Return\", \n",
    "    wml_summary[portfolio == \"vw\", .SD, .SDcol = -c(1, grep(\"_t\", names(wml_summary)))]\n",
    ")\n",
    "IMOM_factor_load_summary = rbind(IMOM_factor_load_summary, x, use.names = FALSE)\n",
    "\n",
    "rm(x)\n",
    "\n",
    "\n",
    "names(IMOM_factor_load_summary)[c(2, 6, 7)] = c(\"Losers\", \"Winners\", \"WML\")\n",
    "\n",
    "IMOM_factor_load_summary[, spread := Winners - Losers]\n",
    "IMOM_factor_load_summary[2:3, slope := IMOM_factor_load_summary[1, spread] / spread]\n",
    "\n",
    "IMOM_factor_load_summary[, variable := c(\"Excess Return\", \"UMD Coefficient\", \"IUMD Coefficient\")]"
   ]
  },
  {
   "cell_type": "markdown",
   "metadata": {},
   "source": [
    "## Table 5: Excess Returns and Factor Loadings <a class=\"anchor\" id=\"table_5\"></a>"
   ]
  },
  {
   "cell_type": "code",
   "execution_count": 65,
   "metadata": {},
   "outputs": [
    {
     "data": {
      "text/html": [
       "<table style=\"text-align:center\"><caption><strong>Panel A: MOM Portfolios</strong></caption><tr><td colspan=\"8\" style=\"border-bottom: 1px solid black\"></td></tr><tr><td style=\"text-align:left\">variable</td><td>Losers</td><td>2</td><td>3</td><td>4</td><td>Winners</td><td>WML</td><td>slope</td></tr><tr><td colspan=\"8\" style=\"border-bottom: 1px solid black\"></td></tr><tr><td style=\"text-align:left\">Excess Return</td><td>-1.588</td><td>3.128</td><td>3.816</td><td>6.558</td><td>10.445</td><td>12.210</td><td></td></tr><tr><td style=\"text-align:left\">UMD Coefficient</td><td>-0.705</td><td>-0.436</td><td>-0.047</td><td>0.268</td><td>0.440</td><td>1.145</td><td>10.514</td></tr><tr><td style=\"text-align:left\">IUMD Coefficient</td><td>-0.514</td><td>-0.362</td><td>-0.412</td><td>-0.436</td><td>-0.211</td><td>0.304</td><td>39.618</td></tr><tr><td colspan=\"8\" style=\"border-bottom: 1px solid black\"></td></tr></table><table style=\"text-align:center\"><caption><strong>Panel B: IMOM Portfolios</strong></caption><tr><td colspan=\"8\" style=\"border-bottom: 1px solid black\"></td></tr><tr><td style=\"text-align:left\">variable</td><td>Losers</td><td>2</td><td>3</td><td>4</td><td>Winners</td><td>WML</td><td>slope</td></tr><tr><td colspan=\"8\" style=\"border-bottom: 1px solid black\"></td></tr><tr><td style=\"text-align:left\">Excess Return</td><td>-2.706</td><td>3.735</td><td>4.897</td><td>6.819</td><td>11.798</td><td>14.871</td><td></td></tr><tr><td style=\"text-align:left\">UMD Coefficient</td><td>-0.087</td><td>0.012</td><td>-0.009</td><td>-0.084</td><td>-0.012</td><td>0.075</td><td>193.786</td></tr><tr><td style=\"text-align:left\">IUMD Coefficient</td><td>-1.028</td><td>-0.718</td><td>-0.341</td><td>0.034</td><td>0.326</td><td>1.353</td><td>10.717</td></tr><tr><td colspan=\"8\" style=\"border-bottom: 1px solid black\"></td></tr></table>"
      ]
     },
     "metadata": {},
     "output_type": "display_data"
    }
   ],
   "source": [
    "IRdisplay::display_html(\n",
    "        paste(capture.output(\n",
    "            stargazer(MOM_factor_load_summary[,-8], IMOM_factor_load_summary[,-8], type = \"html\", summary = FALSE, rownames = FALSE,\n",
    "                     title = c(\"Panel A: MOM Portfolios\", \"Panel B: IMOM Portfolios\"))\n",
    "        ),\n",
    "        collapse='', sep='')\n",
    ")"
   ]
  },
  {
   "cell_type": "code",
   "execution_count": 66,
   "metadata": {
    "scrolled": true
   },
   "outputs": [
    {
     "name": "stdout",
     "output_type": "stream",
     "text": [
      "\n",
      "% Table created by stargazer v.5.2.2 by Marek Hlavac, Harvard University. E-mail: hlavac at fas.harvard.edu\n",
      "% Date and time: Wed, May 06, 2020 - 12:06:54 AM\n",
      "\\begin{table}[!htbp] \\centering \n",
      "  \\caption{Panel A: MOM Portfolios} \n",
      "  \\label{} \n",
      "\\begin{tabular}{@{\\extracolsep{5pt}} cccccccc} \n",
      "\\\\[-1.8ex]\\hline \n",
      "\\hline \\\\[-1.8ex] \n",
      "variable & Losers & 2 & 3 & 4 & Winners & WML & slope \\\\ \n",
      "\\hline \\\\[-1.8ex] \n",
      "Excess Return & $$-$1.588$ & $3.128$ & $3.816$ & $6.558$ & $10.445$ & $12.210$ & $$ \\\\ \n",
      "UMD Coefficient & $$-$0.705$ & $$-$0.436$ & $$-$0.047$ & $0.268$ & $0.440$ & $1.145$ & $10.514$ \\\\ \n",
      "IUMD Coefficient & $$-$0.514$ & $$-$0.362$ & $$-$0.412$ & $$-$0.436$ & $$-$0.211$ & $0.304$ & $39.618$ \\\\ \n",
      "\\hline \\\\[-1.8ex] \n",
      "\\end{tabular} \n",
      "\\end{table} \n",
      "\n",
      "% Table created by stargazer v.5.2.2 by Marek Hlavac, Harvard University. E-mail: hlavac at fas.harvard.edu\n",
      "% Date and time: Wed, May 06, 2020 - 12:06:54 AM\n",
      "\\begin{table}[!htbp] \\centering \n",
      "  \\caption{Panel B: IMOM Portfolios} \n",
      "  \\label{} \n",
      "\\begin{tabular}{@{\\extracolsep{5pt}} cccccccc} \n",
      "\\\\[-1.8ex]\\hline \n",
      "\\hline \\\\[-1.8ex] \n",
      "variable & Losers & 2 & 3 & 4 & Winners & WML & slope \\\\ \n",
      "\\hline \\\\[-1.8ex] \n",
      "Excess Return & $$-$2.706$ & $3.735$ & $4.897$ & $6.819$ & $11.798$ & $14.871$ & $$ \\\\ \n",
      "UMD Coefficient & $$-$0.087$ & $0.012$ & $$-$0.009$ & $$-$0.084$ & $$-$0.012$ & $0.075$ & $193.786$ \\\\ \n",
      "IUMD Coefficient & $$-$1.028$ & $$-$0.718$ & $$-$0.341$ & $0.034$ & $0.326$ & $1.353$ & $10.717$ \\\\ \n",
      "\\hline \\\\[-1.8ex] \n",
      "\\end{tabular} \n",
      "\\end{table} \n"
     ]
    }
   ],
   "source": [
    "stargazer(MOM_factor_load_summary[,-8], IMOM_factor_load_summary[,-8], type = \"latex\", summary = FALSE, rownames = FALSE,\n",
    "                     title = c(\"Panel A: MOM Portfolios\", \"Panel B: IMOM Portfolios\"))\n"
   ]
  },
  {
   "cell_type": "markdown",
   "metadata": {},
   "source": [
    "## 5.3 Spanning Tests"
   ]
  },
  {
   "cell_type": "code",
   "execution_count": 67,
   "metadata": {},
   "outputs": [],
   "source": [
    "#IUMU\n",
    "span_regress = merge(IUMD, ff_four, all.x = TRUE,  by = c(\"end_of_month\"))\n",
    "span_regress = merge(span_regress, ff_five, all.x = TRUE, suffixes = c(\"\", \"_ff5\") , by = c(\"end_of_month\"))\n",
    "\n",
    "\n",
    "fit_IUMD_0 = lm(IUMD ~ 1, data = span_regress)\n",
    "fit_IUMD_1 = lm(IUMD ~ mom, data = span_regress)\n",
    "fit_IUMD_ff4 = lm(IUMD ~ mom + mkt_rf + smb + hml, data = span_regress)\n",
    "fit_IUMD_ff5 = lm(IUMD ~ mom + mkt_rf_ff5 + smb_ff5 + hml_ff5 + rmw + cma, data = span_regress)"
   ]
  },
  {
   "cell_type": "code",
   "execution_count": 68,
   "metadata": {},
   "outputs": [],
   "source": [
    "#UMD\n",
    "fit_UMD_0 = lm(mom ~ 1, data = span_regress)\n",
    "fit_UMD_1 = lm(mom ~ IUMD, data = span_regress)\n",
    "fit_UMD_ff4 = lm(mom ~ IUMD + mkt_rf + smb + hml, data = span_regress)\n",
    "fit_UMD_ff5 = lm(mom ~ IUMD + mkt_rf_ff5 + smb_ff5 + hml_ff5 + rmw + cma, data = span_regress)"
   ]
  },
  {
   "cell_type": "code",
   "execution_count": 69,
   "metadata": {},
   "outputs": [],
   "source": [
    "summerize_IUMD_factors = function(data, port){\n",
    "    output = data.frame()\n",
    "    output[1,1] = port\n",
    "    \n",
    "    summary_data = summary(data)\n",
    "    num_of_factor = nrow(summary_data[[\"coefficients\"]])\n",
    "    is_ff5 = ifelse(num_of_factor == 6, TRUE, FALSE)\n",
    "    \n",
    "    is_UMD = ifelse(port == \"IUMD\", TRUE, FALSE)\n",
    "    \n",
    "    #value\n",
    "    output[1, 2] = annualize_ret(summary_data[[\"coefficients\"]][1, \"Estimate\"])\n",
    "    \n",
    "    ff5_skip = 0\n",
    "    iumd_skip = 0\n",
    "    for (i in 2:8) {\n",
    "        if (i == 2 && is_UMD){\n",
    "            output[1, 1+i] = NA\n",
    "            iumd_skip = 1;\n",
    "        }\n",
    "        else if (i == 3 && !is_UMD){\n",
    "            output[1, 1+i] = NA\n",
    "            iumd_skip = 1;\n",
    "        }\n",
    "        else if (i == 6 && is_ff5){\n",
    "            output[1, 1+i] = NA\n",
    "            ff5_skip = 1;\n",
    "        }\n",
    "        else if (i <= num_of_factor + ff5_skip + iumd_skip){\n",
    "            output[1, 1+i] = summary_data[[\"coefficients\"]][i-ff5_skip-iumd_skip, \"Estimate\"]\n",
    "        }\n",
    "        else {\n",
    "            output[1, 1+i] = NA\n",
    "        }\n",
    "    }\n",
    "    \n",
    "    #T-stat\n",
    "    ff5_skip = 0\n",
    "    iumd_skip = 0\n",
    "    for (i in 1:8) {\n",
    "        if (i == 2 && is_UMD){\n",
    "            output[1, 9+i] = NA\n",
    "            iumd_skip = 1;\n",
    "        }\n",
    "        else if (i == 3 && !is_UMD){\n",
    "            output[1, 9+i] = NA\n",
    "            iumd_skip = 1;\n",
    "        }\n",
    "        else if (i == 6 && is_ff5){\n",
    "            output[1, 9+i] = NA\n",
    "            ff5_skip = 1;\n",
    "        }\n",
    "        else if (i <= num_of_factor + ff5_skip + iumd_skip){\n",
    "            output[1, 9+i] = summary_data[[\"coefficients\"]][i-ff5_skip-iumd_skip, \"t value\"]\n",
    "        }\n",
    "        else {\n",
    "            output[1, 9+i] = NA\n",
    "        }\n",
    "    }\n",
    "    \n",
    "    if (num_of_factor == 1){\n",
    "        output[1, 18] = NA\n",
    "    }\n",
    "    else {\n",
    "        output[1, 18] = summary_data[[\"r.squared\"]]\n",
    "    }\n",
    "    \n",
    "    return(output)\n",
    "}\n",
    "\n",
    "IUMD_factor_summary = data.table(\n",
    "    \"Dependent Variable\" = character(), \n",
    "    Alpha = numeric(), IUMD = numeric(), UMD = numeric(), MKT = numeric(), \n",
    "    SMB = numeric(), HML = numeric(), RMW = numeric(), CMA = numeric(), \n",
    "    alpha_t = numeric(), iumd_t = numeric(), umd_t = numeric(), mkt_t = numeric(), \n",
    "    smb_t = numeric(), hml_t = numeric(), rmw_t = numeric(), cma_t = numeric(), \n",
    "    R_squared = numeric()\n",
    ")\n",
    "\n",
    "IUMD_factor_summary = rbind(IUMD_factor_summary, summerize_IUMD_factors(fit_IUMD_0, \"IUMD\"), use.names = FALSE)\n",
    "IUMD_factor_summary = rbind(IUMD_factor_summary, summerize_IUMD_factors(fit_IUMD_1, \"IUMD\"), use.names = FALSE)\n",
    "IUMD_factor_summary = rbind(IUMD_factor_summary, summerize_IUMD_factors(fit_IUMD_ff4, \"IUMD\"), use.names = FALSE)\n",
    "IUMD_factor_summary = rbind(IUMD_factor_summary, summerize_IUMD_factors(fit_IUMD_ff5, \"IUMD\"), use.names = FALSE)\n",
    "IUMD_factor_summary = rbind(IUMD_factor_summary, summerize_IUMD_factors(fit_UMD_0, \"UMD\"), use.names = FALSE)\n",
    "IUMD_factor_summary = rbind(IUMD_factor_summary, summerize_IUMD_factors(fit_UMD_1, \"UMD\"), use.names = FALSE)\n",
    "IUMD_factor_summary = rbind(IUMD_factor_summary, summerize_IUMD_factors(fit_UMD_ff4, \"UMD\"), use.names = FALSE)\n",
    "IUMD_factor_summary = rbind(IUMD_factor_summary, summerize_IUMD_factors(fit_UMD_ff5, \"UMD\"), use.names = FALSE)\n"
   ]
  },
  {
   "cell_type": "code",
   "execution_count": 70,
   "metadata": {},
   "outputs": [],
   "source": [
    "summary_data = IUMD_factor_summary\n",
    "\n",
    "IUMD_factor_summary_output = data.table(t(lapply(summary_data[1, .SD, .SDcol = -grep(\"_t\", names(summary_data))], round_num)))\n",
    "for(i in 1:15){\n",
    "    if(i %% 2 == 0){\n",
    "        IUMD_factor_summary_output = rbind(IUMD_factor_summary_output, lapply(summary_data[i%/%2+1, .SD, .SDcol = -grep(\"_t\", names(summary_data))],round_num), use.names = FALSE)\n",
    "    } else {\n",
    "        IUMD_factor_summary_output = rbind(IUMD_factor_summary_output, lapply(summary_data[i%/%2+1, .(NA, .SD, NA), .SDcol = c(grep(\"_t\", names(summary_data)))], add_bracket), use.names = FALSE)\n",
    "    }\n",
    "}\n",
    "\n",
    "rm(summary_data)\n"
   ]
  },
  {
   "cell_type": "markdown",
   "metadata": {},
   "source": [
    "## Table 6: Spanning Tests <a class=\"anchor\" id=\"table_6\"></a>"
   ]
  },
  {
   "cell_type": "code",
   "execution_count": 71,
   "metadata": {},
   "outputs": [
    {
     "data": {
      "text/html": [
       "<table style=\"text-align:center\"><tr><td colspan=\"10\" style=\"border-bottom: 1px solid black\"></td></tr><tr><td style=\"text-align:left\">Dependent Variable</td><td>Alpha</td><td>IUMD</td><td>UMD</td><td>MKT</td><td>SMB</td><td>HML</td><td>RMW</td><td>CMA</td><td>R_squared</td></tr><tr><td colspan=\"10\" style=\"border-bottom: 1px solid black\"></td></tr><tr><td style=\"text-align:left\">IUMD</td><td>10.25</td><td></td><td></td><td></td><td></td><td></td><td></td><td></td><td></td></tr><tr><td style=\"text-align:left\"></td><td>(5.76)</td><td></td><td></td><td></td><td></td><td></td><td></td><td></td><td></td></tr><tr><td style=\"text-align:left\">IUMD</td><td>4.03</td><td></td><td>0.66</td><td></td><td></td><td></td><td></td><td></td><td>0.72</td></tr><tr><td style=\"text-align:left\"></td><td>(4.33)</td><td></td><td>(38.03)</td><td></td><td></td><td></td><td></td><td></td><td></td></tr><tr><td style=\"text-align:left\">IUMD</td><td>3.23</td><td></td><td>0.66</td><td>-0.04</td><td>0.1</td><td>0.14</td><td></td><td></td><td>0.74</td></tr><tr><td style=\"text-align:left\"></td><td>(3.52)</td><td></td><td>(38.58)</td><td>(-2.13)</td><td>(4.29)</td><td>(5.17)</td><td></td><td></td><td></td></tr><tr><td style=\"text-align:left\">IUMD</td><td>3.77</td><td></td><td>0.67</td><td>-0.04</td><td>0.06</td><td>0.11</td><td>-0.13</td><td>0.04</td><td>0.75</td></tr><tr><td style=\"text-align:left\"></td><td>(4.04)</td><td></td><td>(38.58)</td><td>(-2.16)</td><td>(2.39)</td><td>(3.01)</td><td>(-3.67)</td><td>(0.68)</td><td></td></tr><tr><td style=\"text-align:left\">UMD</td><td>9.24</td><td></td><td></td><td></td><td></td><td></td><td></td><td></td><td></td></tr><tr><td style=\"text-align:left\"></td><td>(4.04)</td><td></td><td></td><td></td><td></td><td></td><td></td><td></td><td></td></tr><tr><td style=\"text-align:left\">UMD</td><td>-1.84</td><td>1.09</td><td></td><td></td><td></td><td></td><td></td><td></td><td>0.72</td></tr><tr><td style=\"text-align:left\"></td><td>(-1.55)</td><td>(38.03)</td><td></td><td></td><td></td><td></td><td></td><td></td><td></td></tr><tr><td style=\"text-align:left\">UMD</td><td>-0.47</td><td>1.1</td><td></td><td>-0.02</td><td>-0.1</td><td>-0.23</td><td></td><td></td><td>0.74</td></tr><tr><td style=\"text-align:left\"></td><td>(-0.4)</td><td>(38.58)</td><td></td><td>(-0.74)</td><td>(-3.15)</td><td>(-6.69)</td><td></td><td></td><td></td></tr><tr><td style=\"text-align:left\">UMD</td><td>-1.69</td><td>1.09</td><td></td><td>0.01</td><td>-0.03</td><td>-0.25</td><td>0.22</td><td>0.08</td><td>0.75</td></tr><tr><td style=\"text-align:left\"></td><td>(-1.44)</td><td>(38.58)</td><td></td><td>(0.21)</td><td>(-1.09)</td><td>(-5.51)</td><td>(5.06)</td><td>(1.2)</td><td></td></tr><tr><td colspan=\"10\" style=\"border-bottom: 1px solid black\"></td></tr></table>"
      ]
     },
     "metadata": {},
     "output_type": "display_data"
    }
   ],
   "source": [
    "IRdisplay::display_html(\n",
    "        paste(capture.output(\n",
    "            stargazer(IUMD_factor_summary_output, type = \"html\", summary = FALSE, rownames = FALSE)\n",
    "        ),\n",
    "        collapse='', sep='')\n",
    ")"
   ]
  },
  {
   "cell_type": "code",
   "execution_count": 72,
   "metadata": {
    "scrolled": true
   },
   "outputs": [
    {
     "name": "stdout",
     "output_type": "stream",
     "text": [
      "\n",
      "% Table created by stargazer v.5.2.2 by Marek Hlavac, Harvard University. E-mail: hlavac at fas.harvard.edu\n",
      "% Date and time: Wed, May 06, 2020 - 12:06:56 AM\n",
      "\\begin{table}[!htbp] \\centering \n",
      "  \\caption{} \n",
      "  \\label{} \n",
      "\\begin{tabular}{@{\\extracolsep{5pt}} cccccccccc} \n",
      "\\\\[-1.8ex]\\hline \n",
      "\\hline \\\\[-1.8ex] \n",
      "Dependent Variable & Alpha & IUMD & UMD & MKT & SMB & HML & RMW & CMA & R\\_squared \\\\ \n",
      "\\hline \\\\[-1.8ex] \n",
      "IUMD & 10.25 &  &  &  &  &  &  &  &  \\\\ \n",
      " & (5.76) &  &  &  &  &  &  &  &  \\\\ \n",
      "IUMD & 4.03 &  & 0.66 &  &  &  &  &  & 0.72 \\\\ \n",
      " & (4.33) &  & (38.03) &  &  &  &  &  &  \\\\ \n",
      "IUMD & 3.23 &  & 0.66 & -0.04 & 0.1 & 0.14 &  &  & 0.74 \\\\ \n",
      " & (3.52) &  & (38.58) & (-2.13) & (4.29) & (5.17) &  &  &  \\\\ \n",
      "IUMD & 3.77 &  & 0.67 & -0.04 & 0.06 & 0.11 & -0.13 & 0.04 & 0.75 \\\\ \n",
      " & (4.04) &  & (38.58) & (-2.16) & (2.39) & (3.01) & (-3.67) & (0.68) &  \\\\ \n",
      "UMD & 9.24 &  &  &  &  &  &  &  &  \\\\ \n",
      " & (4.04) &  &  &  &  &  &  &  &  \\\\ \n",
      "UMD & -1.84 & 1.09 &  &  &  &  &  &  & 0.72 \\\\ \n",
      " & (-1.55) & (38.03) &  &  &  &  &  &  &  \\\\ \n",
      "UMD & -0.47 & 1.1 &  & -0.02 & -0.1 & -0.23 &  &  & 0.74 \\\\ \n",
      " & (-0.4) & (38.58) &  & (-0.74) & (-3.15) & (-6.69) &  &  &  \\\\ \n",
      "UMD & -1.69 & 1.09 &  & 0.01 & -0.03 & -0.25 & 0.22 & 0.08 & 0.75 \\\\ \n",
      " & (-1.44) & (38.58) &  & (0.21) & (-1.09) & (-5.51) & (5.06) & (1.2) &  \\\\ \n",
      "\\hline \\\\[-1.8ex] \n",
      "\\end{tabular} \n",
      "\\end{table} \n"
     ]
    }
   ],
   "source": [
    "stargazer(IUMD_factor_summary_output, type = \"latex\", summary = FALSE, rownames = FALSE)"
   ]
  },
  {
   "cell_type": "markdown",
   "metadata": {},
   "source": [
    "## 5.4 UMD Extreme Months"
   ]
  },
  {
   "cell_type": "code",
   "execution_count": 73,
   "metadata": {},
   "outputs": [],
   "source": [
    "ff_four_in_sample = ff_four[end_of_month >= SAMPLE_START_DATE & end_of_month <= SAMPLE_END_DATE]\n",
    "\n",
    "ff_four_in_sample[, mkt := mkt_rf + rf]\n",
    "ff_four_in_sample[, prev_year_mkt := (roll_prod(1 + coalesce(mkt, 0), n = 12, fill = NA, align = 'right')) - 1]\n",
    "\n",
    "umd_extreme = ff_four_in_sample[order(mom)] %>% head(10)\n",
    "umd_extreme = merge(umd_extreme, IUMD, by = \"end_of_month\")\n",
    "\n",
    "umd_extreme_summary = umd_extreme[, .(\n",
    "    year = year(end_of_month), \n",
    "    month = month(end_of_month),\n",
    "    MKT_Previous_Year = prev_year_mkt * 100, MKT = mkt * 100, \n",
    "    UMD = mom * 100, IUMD = IUMD * 100\n",
    ")]\n",
    "setkey(umd_extreme_summary, UMD)"
   ]
  },
  {
   "cell_type": "markdown",
   "metadata": {},
   "source": [
    "## Table 7: UMD Extreme Months <a class=\"anchor\" id=\"table_7\"></a>"
   ]
  },
  {
   "cell_type": "code",
   "execution_count": 74,
   "metadata": {},
   "outputs": [
    {
     "data": {
      "text/html": [
       "<table style=\"text-align:center\"><tr><td colspan=\"6\" style=\"border-bottom: 1px solid black\"></td></tr><tr><td style=\"text-align:left\">year</td><td>month</td><td>MKT_Previous_Year</td><td>MKT</td><td>UMD</td><td>IUMD</td></tr><tr><td colspan=\"6\" style=\"border-bottom: 1px solid black\"></td></tr><tr><td style=\"text-align:left\">2,009</td><td>4</td><td>-33.687</td><td>10.210</td><td>-26.971</td><td>-13.191</td></tr><tr><td style=\"text-align:left\">2,001</td><td>1</td><td>-4.272</td><td>3.907</td><td>-21.267</td><td>-21.796</td></tr><tr><td style=\"text-align:left\">2,002</td><td>11</td><td>-14.969</td><td>6.040</td><td>-15.414</td><td>-11.025</td></tr><tr><td style=\"text-align:left\">1,975</td><td>1</td><td>-17.856</td><td>13.881</td><td>-14.670</td><td>-0.175</td></tr><tr><td style=\"text-align:left\">2,009</td><td>3</td><td>-36.965</td><td>8.989</td><td>-14.278</td><td>-3.853</td></tr><tr><td style=\"text-align:left\">2,009</td><td>5</td><td>-31.626</td><td>5.212</td><td>-12.876</td><td>-8.596</td></tr><tr><td style=\"text-align:left\">1,973</td><td>7</td><td>-2.010</td><td>5.625</td><td>-11.123</td><td>-8.299</td></tr><tr><td style=\"text-align:left\">1,978</td><td>10</td><td>8.232</td><td>-11.152</td><td>-10.202</td><td>-5.274</td></tr><tr><td style=\"text-align:left\">2,008</td><td>1</td><td>-2.556</td><td>-6.130</td><td>-10.161</td><td>-8.027</td></tr><tr><td style=\"text-align:left\">1,980</td><td>3</td><td>6.411</td><td>-11.567</td><td>-10.072</td><td>-5.747</td></tr><tr><td colspan=\"6\" style=\"border-bottom: 1px solid black\"></td></tr></table>"
      ]
     },
     "metadata": {},
     "output_type": "display_data"
    }
   ],
   "source": [
    "IRdisplay::display_html(\n",
    "        paste(capture.output(\n",
    "            stargazer(umd_extreme_summary, type = \"html\", summary = FALSE, rownames = FALSE)\n",
    "        ),\n",
    "        collapse='', sep='')\n",
    ")"
   ]
  },
  {
   "cell_type": "code",
   "execution_count": 75,
   "metadata": {},
   "outputs": [
    {
     "name": "stdout",
     "output_type": "stream",
     "text": [
      "\n",
      "% Table created by stargazer v.5.2.2 by Marek Hlavac, Harvard University. E-mail: hlavac at fas.harvard.edu\n",
      "% Date and time: Wed, May 06, 2020 - 12:06:56 AM\n",
      "\\begin{table}[!htbp] \\centering \n",
      "  \\caption{} \n",
      "  \\label{} \n",
      "\\begin{tabular}{@{\\extracolsep{5pt}} cccccc} \n",
      "\\\\[-1.8ex]\\hline \n",
      "\\hline \\\\[-1.8ex] \n",
      "year & month & MKT\\_Previous\\_Year & MKT & UMD & IUMD \\\\ \n",
      "\\hline \\\\[-1.8ex] \n",
      "$2,009$ & $4$ & $$-$33.687$ & $10.210$ & $$-$26.971$ & $$-$13.191$ \\\\ \n",
      "$2,001$ & $1$ & $$-$4.272$ & $3.907$ & $$-$21.267$ & $$-$21.796$ \\\\ \n",
      "$2,002$ & $11$ & $$-$14.969$ & $6.040$ & $$-$15.414$ & $$-$11.025$ \\\\ \n",
      "$1,975$ & $1$ & $$-$17.856$ & $13.881$ & $$-$14.670$ & $$-$0.175$ \\\\ \n",
      "$2,009$ & $3$ & $$-$36.965$ & $8.989$ & $$-$14.278$ & $$-$3.853$ \\\\ \n",
      "$2,009$ & $5$ & $$-$31.626$ & $5.212$ & $$-$12.876$ & $$-$8.596$ \\\\ \n",
      "$1,973$ & $7$ & $$-$2.010$ & $5.625$ & $$-$11.123$ & $$-$8.299$ \\\\ \n",
      "$1,978$ & $10$ & $8.232$ & $$-$11.152$ & $$-$10.202$ & $$-$5.274$ \\\\ \n",
      "$2,008$ & $1$ & $$-$2.556$ & $$-$6.130$ & $$-$10.161$ & $$-$8.027$ \\\\ \n",
      "$1,980$ & $3$ & $6.411$ & $$-$11.567$ & $$-$10.072$ & $$-$5.747$ \\\\ \n",
      "\\hline \\\\[-1.8ex] \n",
      "\\end{tabular} \n",
      "\\end{table} \n"
     ]
    }
   ],
   "source": [
    "stargazer(umd_extreme_summary, type = \"latex\", summary = FALSE, rownames = FALSE)"
   ]
  },
  {
   "cell_type": "markdown",
   "metadata": {},
   "source": [
    "# 6. Performence After Formation <a class=\"anchor\" id=\"bullet_6\"></a>"
   ]
  },
  {
   "cell_type": "code",
   "execution_count": 76,
   "metadata": {},
   "outputs": [],
   "source": [
    "signal_5 = copy(signal_filtered)"
   ]
  },
  {
   "cell_type": "markdown",
   "metadata": {},
   "source": [
    "## 6.1 Average Returns"
   ]
  },
  {
   "cell_type": "code",
   "execution_count": 77,
   "metadata": {},
   "outputs": [],
   "source": [
    "signal_5[, idio_bin := apply_quantiles(idio_momentum, bins = 5), by = end_of_month]\n",
    "signal_5[, mom_bin := apply_quantiles(momentum, bins = 5), by = end_of_month]\n",
    "\n",
    "for (i in 2:12) {\n",
    "    signal_5[, paste0(\"ret_rf_\", i) := shift(ret_rf, n = i-1, fill = NA, type = 'lead'), by = list(permno)]\n",
    "}\n",
    "\n",
    "signal_5 = signal_5[, .(end_of_month, idio_bin, mom_bin, mcap_lag1, .SD), .SDcol = grep(\"ret_rf\", names(signal_5))]"
   ]
  },
  {
   "cell_type": "code",
   "execution_count": 78,
   "metadata": {},
   "outputs": [],
   "source": [
    "idio_portfolios_roll12 = signal_5[, .(\n",
    "    vw_1 = sum(.SD.ret_rf * mcap_lag1, na.rm = TRUE) / sum(mcap_lag1),\n",
    "    vw_2 = sum(.SD.ret_rf_2 * mcap_lag1, na.rm = TRUE) / sum(mcap_lag1),\n",
    "    vw_3 = sum(.SD.ret_rf_3 * mcap_lag1, na.rm = TRUE) / sum(mcap_lag1),\n",
    "    vw_4 = sum(.SD.ret_rf_4 * mcap_lag1, na.rm = TRUE) / sum(mcap_lag1),\n",
    "    vw_5 = sum(.SD.ret_rf_5 * mcap_lag1, na.rm = TRUE) / sum(mcap_lag1),\n",
    "    vw_6 = sum(.SD.ret_rf_6 * mcap_lag1, na.rm = TRUE) / sum(mcap_lag1),\n",
    "    vw_7 = sum(.SD.ret_rf_7 * mcap_lag1, na.rm = TRUE) / sum(mcap_lag1),\n",
    "    vw_8 = sum(.SD.ret_rf_8 * mcap_lag1, na.rm = TRUE) / sum(mcap_lag1),\n",
    "    vw_9 = sum(.SD.ret_rf_9 * mcap_lag1, na.rm = TRUE) / sum(mcap_lag1),\n",
    "    vw_10 = sum(.SD.ret_rf_10 * mcap_lag1, na.rm = TRUE) / sum(mcap_lag1),\n",
    "    vw_11 = sum(.SD.ret_rf_11 * mcap_lag1, na.rm = TRUE) / sum(mcap_lag1),\n",
    "    vw_12 = sum(.SD.ret_rf_12 * mcap_lag1, na.rm = TRUE) / sum(mcap_lag1)\n",
    "), by = .(end_of_month, idio_bin)]\n",
    "\n",
    "mom_portfolios_roll12 = signal_5[, .(\n",
    "    vw_1 = sum(.SD.ret_rf * mcap_lag1, na.rm = TRUE) / sum(mcap_lag1),\n",
    "    vw_2 = sum(.SD.ret_rf_2 * mcap_lag1, na.rm = TRUE) / sum(mcap_lag1),\n",
    "    vw_3 = sum(.SD.ret_rf_3 * mcap_lag1, na.rm = TRUE) / sum(mcap_lag1),\n",
    "    vw_4 = sum(.SD.ret_rf_4 * mcap_lag1, na.rm = TRUE) / sum(mcap_lag1),\n",
    "    vw_5 = sum(.SD.ret_rf_5 * mcap_lag1, na.rm = TRUE) / sum(mcap_lag1),\n",
    "    vw_6 = sum(.SD.ret_rf_6 * mcap_lag1, na.rm = TRUE) / sum(mcap_lag1),\n",
    "    vw_7 = sum(.SD.ret_rf_7 * mcap_lag1, na.rm = TRUE) / sum(mcap_lag1),\n",
    "    vw_8 = sum(.SD.ret_rf_8 * mcap_lag1, na.rm = TRUE) / sum(mcap_lag1),\n",
    "    vw_9 = sum(.SD.ret_rf_9 * mcap_lag1, na.rm = TRUE) / sum(mcap_lag1),\n",
    "    vw_10 = sum(.SD.ret_rf_10 * mcap_lag1, na.rm = TRUE) / sum(mcap_lag1),\n",
    "    vw_11 = sum(.SD.ret_rf_11 * mcap_lag1, na.rm = TRUE) / sum(mcap_lag1),\n",
    "    vw_12 = sum(.SD.ret_rf_12 * mcap_lag1, na.rm = TRUE) / sum(mcap_lag1)\n",
    "), by = .(end_of_month, mom_bin)]"
   ]
  },
  {
   "cell_type": "code",
   "execution_count": 79,
   "metadata": {},
   "outputs": [],
   "source": [
    "#WML\n",
    "idio_strategy_wml_roll12 = merge(\n",
    "    idio_portfolios_roll12[idio_bin==5,], idio_portfolios_roll12[idio_bin==1,], \n",
    "    suffixes=c('_long','_short'), \n",
    "    by = c('end_of_month')\n",
    ")\n",
    "\n",
    "mom_strategy_wml_roll12 = merge(\n",
    "    mom_portfolios_roll12[mom_bin==5,], mom_portfolios_roll12[mom_bin==1,], \n",
    "    suffixes=c('_long','_short'), \n",
    "    by = c('end_of_month')\n",
    ")\n",
    "\n",
    "for (i in 1:12) {\n",
    "    idio_strategy_wml_roll12[, paste0(\"wml_vw_\", i) := (get(paste0(\"vw_\", i, \"_long\")) - get(paste0(\"vw_\", i, \"_short\")))]\n",
    "    mom_strategy_wml_roll12[, paste0(\"wml_vw_\", i) := (get(paste0(\"vw_\", i, \"_long\")) - get(paste0(\"vw_\", i, \"_short\")))]\n",
    "}"
   ]
  },
  {
   "cell_type": "code",
   "execution_count": 80,
   "metadata": {},
   "outputs": [],
   "source": [
    "#Remove Last year without lag values\n",
    "minus_1_year = as.POSIXlt(as.Date(SAMPLE_END_DATE))\n",
    "minus_1_year$year = minus_1_year$year - 1\n",
    "minus_1_year = as.Date(minus_1_year)\n",
    "\n",
    "idio_strategy_wml_roll12 = idio_strategy_wml_roll12[end_of_month <= minus_1_year, ]\n",
    "mom_strategy_wml_roll12 = mom_strategy_wml_roll12[end_of_month <= minus_1_year, ]"
   ]
  },
  {
   "cell_type": "code",
   "execution_count": 81,
   "metadata": {},
   "outputs": [],
   "source": [
    "#Average Returns\n",
    "idio_avg_ret_roll12 = idio_strategy_wml_roll12[, .(\n",
    "    month = 1, \n",
    "    wml_vw = annualize_ret(mean(wml_vw_1)), \n",
    "    wml_vw_t = mean(wml_vw_1) / sd(wml_vw_1) * sqrt(.N)\n",
    ")]\n",
    "\n",
    "for (i in 2:12) {\n",
    "    idio_avg_ret_roll12 = rbind(idio_avg_ret_roll12, idio_strategy_wml_roll12[, .(\n",
    "            month = i, \n",
    "            wml_vw = annualize_ret(mean(get(paste0(\"wml_vw_\", i)))), \n",
    "            wml_vw_t = mean(get(paste0(\"wml_vw_\", i))) / sd(get(paste0(\"wml_vw_\", i))) * sqrt(.N)\n",
    "        )]\n",
    "    )\n",
    "}\n",
    "\n",
    "mom_avg_ret_roll12 = mom_strategy_wml_roll12[, .(\n",
    "    month = 1, \n",
    "    wml_vw = annualize_ret(mean(wml_vw_1)), \n",
    "    wml_vw_t = mean(wml_vw_1) / sd(wml_vw_1) * sqrt(.N)\n",
    ")]\n",
    "\n",
    "for (i in 2:12) {\n",
    "    mom_avg_ret_roll12 = rbind(mom_avg_ret_roll12, mom_strategy_wml_roll12[, .(\n",
    "        month = i, \n",
    "        wml_vw = annualize_ret(mean(get(paste0(\"wml_vw_\", i)))), \n",
    "        wml_vw_t = mean(get(paste0(\"wml_vw_\", i))) / sd(get(paste0(\"wml_vw_\", i))) * sqrt(.N)\n",
    "    )]\n",
    "    )\n",
    "}"
   ]
  },
  {
   "cell_type": "code",
   "execution_count": 82,
   "metadata": {},
   "outputs": [],
   "source": [
    "#Summary\n",
    "roll_12_avg_summary = merge(idio_avg_ret_roll12, mom_avg_ret_roll12, \n",
    "                            suffixes = c(\"_IMOM\", \"_MOM\"), by = c(\"month\"))"
   ]
  },
  {
   "cell_type": "code",
   "execution_count": 83,
   "metadata": {},
   "outputs": [],
   "source": [
    "#plot\n",
    "figure_data_2 = roll_12_avg_summary\n",
    "names(figure_data_2)[2:5] = c(\"IMOM\", \"t(IMOM)\", \"MOM\", \"t(MOM)\")\n",
    "\n",
    "figure_data_2 = melt(figure_data_2, \"month\")\n",
    "figure_data_2[, type := rep(c(rep(\"ret\", 12), rep(\"t stat\", 12)), 2)]"
   ]
  },
  {
   "cell_type": "markdown",
   "metadata": {},
   "source": [
    "## Figure 1: Average returns <a class=\"anchor\" id=\"figure_1\"></a>\n",
    "Average returns (annualized, percent) and t-stats for the value-weighted long–short portfolio (WML) formed on idiosyncratic momentum (IMOM) and traditional momentum (MOM) up to 12 months after formation"
   ]
  },
  {
   "cell_type": "code",
   "execution_count": 84,
   "metadata": {},
   "outputs": [
    {
     "data": {
      "image/png": "[encoded data removed]",
      "text/plain": [
       "plot without title"
      ]
     },
     "metadata": {
      "image/png": {
       "height": 600,
       "width": 900
      },
      "text/plain": {
       "height": 600,
       "width": 900
      }
     },
     "output_type": "display_data"
    }
   ],
   "source": [
    "ggplot(data = figure_data_2, aes(x = month, y = value)) +\n",
    "    geom_bar(aes(fill = variable), data = figure_data_2[type == \"ret\"], stat = \"identity\", \n",
    "             position = \"dodge\", width = 0.5) +\n",
    "    \n",
    "    geom_line(aes(y = value * 2.5, color = variable, linetype = variable), \n",
    "              data = figure_data_2[type == \"t stat\"], size = 1) +\n",
    "    \n",
    "    scale_y_continuous(sec.axis = sec_axis(~./2.5, name = \"t-statistic\",\n",
    "                                           breaks = seq(-2, 8, 2)),\n",
    "                       limits = c(-6, 16), breaks = seq(-5, 25, 5)) +\n",
    "    scale_x_continuous(n.breaks = 12) +\n",
    "    labs(\n",
    "        x = \"Months After Formation\",\n",
    "        y = \"Annualized return (%)\",\n",
    "        colour = \"\",\n",
    "        linetype = \"\",\n",
    "        fill = \"\"\n",
    "    ) +\n",
    "    ggtitle(\"Average Returns (Bars) and t-stats (Lines)\") +\n",
    "    ggthemes::theme_hc(25)"
   ]
  },
  {
   "cell_type": "markdown",
   "metadata": {},
   "source": [
    "## 6.2 alphas"
   ]
  },
  {
   "cell_type": "code",
   "execution_count": 85,
   "metadata": {},
   "outputs": [],
   "source": [
    "idio_strategy_wml_roll12 = merge(idio_strategy_wml_roll12, ff_four, by = c(\"end_of_month\"))\n",
    "idio_strategy_wml_roll12 = merge(idio_strategy_wml_roll12, ff_five, all.x = TRUE, suffixes = c(\"\", \"_ff5\"), by = c('end_of_month'))\n",
    "\n",
    "mom_strategy_wml_roll12 = merge(mom_strategy_wml_roll12, ff_four, by = c(\"end_of_month\"))\n",
    "mom_strategy_wml_roll12 = merge(mom_strategy_wml_roll12, ff_five, all.x = TRUE, suffixes = c(\"\", \"_ff5\"), by = c('end_of_month'))"
   ]
  },
  {
   "cell_type": "code",
   "execution_count": 86,
   "metadata": {},
   "outputs": [],
   "source": [
    "ff_alpha_roll12 = function(inp_data, month) {\n",
    "    \n",
    "    lm_fit_4f = lm(get(paste0(\"wml_vw_\", month)) ~ mkt_rf + smb + hml + mom, data = inp_data)\n",
    "    lm_fit_5f = lm(get(paste0(\"wml_vw_\", month)) ~ mkt_rf_ff5 + smb_ff5 + hml_ff5 + rmw + cma, data = inp_data)\n",
    "    \n",
    "    output = data.table(\n",
    "        ff4_alpha = annualize_ret(lm_fit_4f$coefficients[1]),\n",
    "        ff4_t = summary(lm_fit_4f)[[\"coefficients\"]][1, \"t value\"],\n",
    "        ff5_alpha = annualize_ret(lm_fit_5f$coefficients[1]),\n",
    "        ff5_t = summary(lm_fit_5f)[[\"coefficients\"]][1, \"t value\"]\n",
    "    )\n",
    "    \n",
    "    return(output)\n",
    "}"
   ]
  },
  {
   "cell_type": "code",
   "execution_count": 87,
   "metadata": {},
   "outputs": [],
   "source": [
    "idio_ff_roll12 = data.table(month = 1, ff_alpha_roll12(idio_strategy_wml_roll12, 1))\n",
    "for (i in 2:12) {\n",
    "    idio_ff_roll12 = rbind(idio_ff_roll12, data.table(month = i, ff_alpha_roll12(idio_strategy_wml_roll12, i)))\n",
    "}\n",
    "\n",
    "\n",
    "mom_ff_roll12 = data.table(month = 1, ff_alpha_roll12(mom_strategy_wml_roll12, 1))\n",
    "for (i in 2:12) {\n",
    "    mom_ff_roll12 = rbind(mom_ff_roll12, data.table(month = i, ff_alpha_roll12(mom_strategy_wml_roll12, i)))\n",
    "}"
   ]
  },
  {
   "cell_type": "code",
   "execution_count": 88,
   "metadata": {},
   "outputs": [],
   "source": [
    "#Summary\n",
    "roll_12_ff_summary = merge(idio_ff_roll12, mom_ff_roll12, \n",
    "                            suffixes = c(\"_IMOM\", \"_MOM\"), by = c(\"month\"))"
   ]
  },
  {
   "cell_type": "code",
   "execution_count": 89,
   "metadata": {},
   "outputs": [],
   "source": [
    "figure_data_3 = roll_12_ff_summary[,c(1, 2:3, 6:7)]\n",
    "names(figure_data_3)[2:5] = c(\"IMOM\", \"t(IMOM)\", \"MOM\", \"t(MOM)\")\n",
    "\n",
    "figure_data_3 = melt(figure_data_3, \"month\")\n",
    "figure_data_3[, type := rep(c(rep(\"ret\", 12), rep(\"t stat\", 12)), 2)]"
   ]
  },
  {
   "cell_type": "markdown",
   "metadata": {},
   "source": [
    "## Figure 2: Four factor alphas <a class=\"anchor\" id=\"figure_2\"></a>\n",
    "Four-factor alphas (annualized, percent) and t-stats for the value-weighted long–short portfolio (WML) formed on\n",
    "idiosyncratic momentum (IMOM) and traditional momentum (MOM) up to 12 months after formation"
   ]
  },
  {
   "cell_type": "code",
   "execution_count": 90,
   "metadata": {},
   "outputs": [
    {
     "data": {
      "image/png": "[encoded data removed]",
      "text/plain": [
       "plot without title"
      ]
     },
     "metadata": {
      "image/png": {
       "height": 600,
       "width": 900
      },
      "text/plain": {
       "height": 600,
       "width": 900
      }
     },
     "output_type": "display_data"
    }
   ],
   "source": [
    "ggplot(data = figure_data_3, aes(x = month, y = value)) +\n",
    "    geom_bar(aes(fill = variable), data = figure_data_3[type == \"ret\"], stat = \"identity\", \n",
    "             position = \"dodge\", width = 0.5) +\n",
    "    \n",
    "    geom_line(aes(y = value * 2.5, color = variable, linetype = variable), \n",
    "              data = figure_data_3[type == \"t stat\"], size = 1) +\n",
    "    \n",
    "    scale_y_continuous(sec.axis = sec_axis(~./2.5, name = \"t-statistic\",\n",
    "                                           breaks = seq(-2, 8, 2)),\n",
    "                       limits = c(-6, 16), breaks = seq(-5, 25, 5)) +\n",
    "    scale_x_continuous(n.breaks = 12) +\n",
    "    labs(\n",
    "        x = \"Months After Formation\",\n",
    "        y = \"Annualized alpha (%)\",\n",
    "        colour = \"\",\n",
    "        linetype = \"\",\n",
    "        fill = \"\"\n",
    "    ) +\n",
    "    ggtitle(\"4-Factor Alphas (Bars) and t-stats (Lines)\") +\n",
    "    ggthemes::theme_hc(25)"
   ]
  },
  {
   "cell_type": "markdown",
   "metadata": {},
   "source": [
    "## Figure 2.1: Five-factor alphas <a class=\"anchor\" id=\"figure_2.1\"></a>\n",
    "Extend to 5-factor benchmarking"
   ]
  },
  {
   "cell_type": "code",
   "execution_count": 91,
   "metadata": {},
   "outputs": [],
   "source": [
    "figure_data_4 = roll_12_ff_summary[,c(1, 4:5, 8:9)]\n",
    "names(figure_data_4)[2:5] = c(\"IMOM\", \"t(IMOM)\", \"MOM\", \"t(MOM)\")\n",
    "\n",
    "figure_data_4 = melt(figure_data_4, \"month\")\n",
    "figure_data_4[, type := rep(c(rep(\"ret\", 12), rep(\"t stat\", 12)), 2)]"
   ]
  },
  {
   "cell_type": "code",
   "execution_count": 92,
   "metadata": {
    "scrolled": false
   },
   "outputs": [
    {
     "data": {
      "image/png": "[encoded data removed]",
      "text/plain": [
       "plot without title"
      ]
     },
     "metadata": {
      "image/png": {
       "height": 600,
       "width": 900
      },
      "text/plain": {
       "height": 600,
       "width": 900
      }
     },
     "output_type": "display_data"
    }
   ],
   "source": [
    "ggplot(data = figure_data_4, aes(x = month, y = value)) +\n",
    "    geom_bar(aes(fill = variable), data = figure_data_4[type == \"ret\"], stat = \"identity\", \n",
    "             position = \"dodge\", width = 0.5) +\n",
    "    \n",
    "    geom_line(aes(y = value * 2.5, color = variable, linetype = variable), \n",
    "              data = figure_data_4[type == \"t stat\"], size = 1) +\n",
    "    \n",
    "    scale_y_continuous(sec.axis = sec_axis(~./2.5, name = \"t-statistic\",\n",
    "                                           breaks = seq(-2, 8, 2)),\n",
    "                       limits = c(-6, 16), breaks = seq(-5, 25, 5)) +\n",
    "    scale_x_continuous(n.breaks = 12) +\n",
    "    labs(\n",
    "        x = \"Months After Formation\",\n",
    "        y = \"Annualized alpha (%)\",\n",
    "        colour = \"\",\n",
    "        linetype = \"\",\n",
    "        fill = \"\"\n",
    "    ) +\n",
    "    ggtitle(\"5-Factor Alphas (Bars) and t-stats (Lines)\") +\n",
    "    ggthemes::theme_hc(25)"
   ]
  },
  {
   "cell_type": "markdown",
   "metadata": {},
   "source": [
    "# 7.  5 Factor Idiosyncratic Momentum <a class=\"anchor\" id=\"bullet_7\"></a>\n",
    "This part extend the strategy to 5-factor excess returns\n"
   ]
  },
  {
   "cell_type": "markdown",
   "metadata": {},
   "source": [
    "## 7.1 Build Signal"
   ]
  },
  {
   "cell_type": "code",
   "execution_count": 93,
   "metadata": {},
   "outputs": [],
   "source": [
    "#Merge data\n",
    "signal_5f = merge(msf, ff_four, all.x = TRUE, by = 'end_of_month')\n",
    "signal_5f = merge(signal_5f, ff_five, all.x = TRUE, suffix = c(\"\", \"_5f\"), by = c(\"end_of_month\"))"
   ]
  },
  {
   "cell_type": "code",
   "execution_count": 94,
   "metadata": {},
   "outputs": [],
   "source": [
    "#Calculate\n",
    "signal_5f[, ret_rf := ret - rf_5f]\n",
    "signal_5f[, mcap := abs(prc*shrout)]"
   ]
  },
  {
   "cell_type": "code",
   "execution_count": 95,
   "metadata": {},
   "outputs": [],
   "source": [
    "idiosyncratic_return_5Factor = function(ret_rf, mkt_rf, smb, hml, rmw, cma){\n",
    "    roll_width = 36  #12 for 1-year, 36 for 3-year\n",
    "    \n",
    "    if(length(ret_rf) < roll_width){\n",
    "        return(NA)\n",
    "    }\n",
    "    \n",
    "    ret_rf = ifelse(is.na(ret_rf), 0, ret_rf)\n",
    "    \n",
    "    fit_lm = roll_regres(ret_rf ~ mkt_rf + smb + hml + rmw + cma, width = roll_width)\n",
    "    \n",
    "    idio_ret = ret_rf - fit_lm$coefs[,1] \n",
    "        - fit_lm$coefs[,2] * mkt_rf\n",
    "        - fit_lm$coefs[,3] * smb\n",
    "        - fit_lm$coefs[,4] * hml\n",
    "        - fit_lm$coefs[,5] * rmw\n",
    "        - fit_lm$coefs[,5] * cma\n",
    "    \n",
    "    idio_ret = ifelse(idio_ret < -0.99, -0.99, idio_ret)\n",
    "    \n",
    "    return(idio_ret)\n",
    "}"
   ]
  },
  {
   "cell_type": "code",
   "execution_count": 96,
   "metadata": {},
   "outputs": [],
   "source": [
    "signal_5f = na.omit(signal_5f, cols = \"ret_rf\")\n",
    "\n",
    "signal_5f[, idio_5f_ret := -1, by = permno]\n",
    "signal_5f[, idio_5f_ret := idiosyncratic_return_5Factor(ret_rf, mkt_rf_5f, smb_5f, hml_5f, rmw, cma), by = permno]"
   ]
  },
  {
   "cell_type": "code",
   "execution_count": 97,
   "metadata": {},
   "outputs": [],
   "source": [
    "#Create lag variables\n",
    "setkey(signal_5f, permno, end_of_month)\n",
    "\n",
    "#Misc\n",
    "signal_5f[, prc_lag1 := shift(prc, n = 1, fill = NA, type = 'lag'), by = list(permno)]\n",
    "signal_5f[, mcap_lag1 := shift(mcap, n = 1, fill = NA, type = 'lag'), by = list(permno)]\n",
    "signal_5f[, ret_lag1 := shift(ret, n = 1, fill = NA, type = 'lag'), by = list(permno)]\n",
    "\n",
    "#Rolling Sum\n",
    "signal_5f[, roll_idio_5f_ret_11 := (roll_prod(1 + coalesce(idio_5f_ret, 0), n = 11, fill = NA, align = 'right')) - 1,\n",
    "       by=list(permno)]\n",
    "\n",
    "#Valid Observation\n",
    "signal_5f[, rollvalidobs := (roll_sum( !is.na(idio_5f_ret), n = 12, fill = NA, align = 'right')), by = list(permno)]\n",
    "signal_5f[, rollvalidret := (roll_sum( !is.na(ret_rf), n = 48, fill = NA, align = 'right')), by = list(permno)] \n",
    "\n",
    "signal_5f[, rollvalidobs_lag1 := shift(rollvalidobs, n = 1, fill = NA, type = 'lag'), by = list(permno)]\n",
    "signal_5f[, rollvalidret_lag1 := shift(rollvalidret, n = 1, fill = NA, type = 'lag'), by = list(permno)]\n",
    "\n",
    "#Signal\n",
    "signal_5f[, IMOM_5F := shift(roll_idio_5f_ret_11, n = 2, fill = NA, type = 'lag'), by = list(permno)]"
   ]
  },
  {
   "cell_type": "markdown",
   "metadata": {},
   "source": [
    "## 7.2 Build Portfolio"
   ]
  },
  {
   "cell_type": "code",
   "execution_count": 98,
   "metadata": {
    "scrolled": true
   },
   "outputs": [],
   "source": [
    "signal_5f_2 = copy(signal_5f) %>% \n",
    "    subset( !is.na(IMOM_5F) & \n",
    "            !is.na(ret_rf) &               # has return this month\n",
    "            !is.na(mcap_lag1) &            # non missing market cap\n",
    "            !is.na(prc_lag1)  &            # non missing price \n",
    "            rollvalidobs_lag1 >= 12 &      # full year of data\n",
    "            #rollvalidret_lag1 >= 48 &      # full set of data for regression\n",
    "            end_of_month >= SAMPLE_START_DATE &    \n",
    "            end_of_month <= SAMPLE_END_DATE\n",
    "    )"
   ]
  },
  {
   "cell_type": "code",
   "execution_count": 99,
   "metadata": {},
   "outputs": [],
   "source": [
    "#Apply bins\n",
    "signal_5f_2[, bin := apply_quantiles(IMOM_5F, bins = 5), by = end_of_month]\n",
    "\n",
    "#Create profolio\n",
    "IMOM_5f_portfolios = signal_5f_2[, .(\n",
    "    ew = mean(ret_rf),\n",
    "    vw = sum(ret_rf * mcap_lag1) / sum(mcap_lag1)\n",
    "), by = .(end_of_month, bin)]"
   ]
  },
  {
   "cell_type": "markdown",
   "metadata": {},
   "source": [
    "## 7.3 Summary"
   ]
  },
  {
   "cell_type": "code",
   "execution_count": 100,
   "metadata": {},
   "outputs": [],
   "source": [
    "n = nrow(IMOM_5f_portfolios[, .N, by = end_of_month])\n",
    "\n",
    "mean_ret_5f = IMOM_5f_portfolios[, \n",
    "    list(ew = mean(ew), \n",
    "        vw = mean(vw),\n",
    "        ew_annual = annualize_ret(mean(ew)),\n",
    "        vw_annual = annualize_ret(mean(vw)),\n",
    "        sharpe_ew = mean(ew)/sd(ew) * sqrt(12),\n",
    "        sharpe_vw = mean(vw)/sd(vw) * sqrt(12),\n",
    "        ew_t = mean(ew)/sd(ew) * sqrt(n),\n",
    "        vw_t = mean(vw)/sd(vw) * sqrt(n)\n",
    "    ), \n",
    "    by = bin]\n",
    "\n",
    "setkey(mean_ret_5f, bin)\n",
    "\n",
    "strategy_wml_5f = merge(\n",
    "    IMOM_5f_portfolios[bin==5,], IMOM_5f_portfolios[bin==1,], \n",
    "    suffixes=c('_long','_short'), \n",
    "    by = c('end_of_month')\n",
    ")\n",
    "\n",
    "strategy_wml_5f[, ew := (ew_long - ew_short)]\n",
    "strategy_wml_5f[, vw := (vw_long - vw_short)]\n",
    "\n",
    "strategy_wml_5f_summary = data.table(\n",
    "    ew_mean = annualize_ret(mean(strategy_wml_5f$ew)),\n",
    "    ew_sharpe = sharpe(strategy_wml_5f$ew) * sqrt(12),\n",
    "    vw_mean = annualize_ret(mean(strategy_wml_5f$vw)),\n",
    "    vw_sharpe = sharpe(strategy_wml_5f$vw) * sqrt(12),\n",
    "    ew_t = sharpe(strategy_wml_5f$ew) * sqrt(n),\n",
    "    vw_t = sharpe(strategy_wml_5f$vw) * sqrt(n)\n",
    ")"
   ]
  },
  {
   "cell_type": "code",
   "execution_count": 101,
   "metadata": {},
   "outputs": [],
   "source": [
    "x = data.table(portfolio = \"vw\", dcast(mean_ret_5f, 1 ~ bin, value.var = \"ew_annual\"))\n",
    "x = rbind(x,data.table(portfolio = \"ew\", dcast(mean_ret_5f, 1 ~ bin, value.var = \"vw_annual\")))\n",
    "\n",
    "y = data.table(portfolio = \"vw\", dcast(mean_ret_5f, 1 ~ bin, value.var = \"ew_t\"))\n",
    "y = rbind(y,data.table(portfolio = \"ew\", dcast(mean_ret_5f, 1 ~ bin, value.var = \"vw_t\")))\n",
    "names(y)[3:7] = paste0(names(y)[3:7], \"_t\")\n",
    "\n",
    "z = data.table(portfolio = \"ew\", strategy_wml_5f_summary[, .(wml = ew_mean, wml_t = ew_t)])\n",
    "z = rbind(z, data.table(portfolio = \"vw\", strategy_wml_5f_summary[, .(wml = vw_mean, wml_t = vw_t)]))\n",
    "\n",
    "wml_summary_5f = merge(x[,-2], y[,-2], keyby = c(\"portfolio\"))\n",
    "wml_summary_5f = merge(wml_summary_5f, z, keyby = c(\"portfolio\"))\n",
    "\n",
    "wml_summary_5f_output = data.table(t(lapply(wml_summary_5f[1, .SD, .SDcol = -grep(\"_t\", names(wml_summary))], round_num)))\n",
    "for(i in 1:3){\n",
    "    if(i %% 2 == 0){\n",
    "        wml_summary_5f_output = rbind(wml_summary_5f_output, lapply(wml_summary_5f[i%/%2+1, .SD, .SDcol = -grep(\"_t\", names(wml_summary))],round_num), use.names = FALSE)\n",
    "    } else {\n",
    "        wml_summary_5f_output = rbind(wml_summary_5f_output, lapply(wml_summary_5f[i%/%2+1, .(NA, .SD), .SDcol = c(grep(\"_t\", names(wml_summary)))], add_bracket), use.names = FALSE)\n",
    "    }\n",
    "}"
   ]
  },
  {
   "cell_type": "markdown",
   "metadata": {},
   "source": [
    "## Table 8.1: Five-factor IMOM Summary <a class=\"anchor\" id=\"table_8.1\"></a>"
   ]
  },
  {
   "cell_type": "code",
   "execution_count": 102,
   "metadata": {},
   "outputs": [
    {
     "data": {
      "text/html": [
       "<table style=\"text-align:center\"><tr><td colspan=\"7\" style=\"border-bottom: 1px solid black\"></td></tr><tr><td style=\"text-align:left\">portfolio</td><td>1</td><td>2</td><td>3</td><td>4</td><td>5</td><td>wml</td></tr><tr><td colspan=\"7\" style=\"border-bottom: 1px solid black\"></td></tr><tr><td style=\"text-align:left\">ew</td><td>-1.86</td><td>4.13</td><td>5.21</td><td>7.23</td><td>10.77</td><td>10.19</td></tr><tr><td style=\"text-align:left\"></td><td>(-0.49)</td><td>(1.46)</td><td>(2.13)</td><td>(2.94)</td><td>(3.64)</td><td>(3.58)</td></tr><tr><td style=\"text-align:left\">vw</td><td>5.87</td><td>7.59</td><td>10.18</td><td>12.05</td><td>16.6</td><td>12.85</td></tr><tr><td style=\"text-align:left\"></td><td>(1.32)</td><td>(2.39)</td><td>(3.63)</td><td>(4.27)</td><td>(4.68)</td><td>(3.98)</td></tr><tr><td colspan=\"7\" style=\"border-bottom: 1px solid black\"></td></tr></table>"
      ]
     },
     "metadata": {},
     "output_type": "display_data"
    }
   ],
   "source": [
    "IRdisplay::display_html(\n",
    "        paste(capture.output(\n",
    "            stargazer(wml_summary_5f_output, type = \"html\", summary = FALSE, rownames = FALSE)\n",
    "        ),\n",
    "        collapse='', sep='')\n",
    ")\n"
   ]
  },
  {
   "cell_type": "code",
   "execution_count": 103,
   "metadata": {
    "scrolled": true
   },
   "outputs": [
    {
     "name": "stdout",
     "output_type": "stream",
     "text": [
      "\n",
      "% Table created by stargazer v.5.2.2 by Marek Hlavac, Harvard University. E-mail: hlavac at fas.harvard.edu\n",
      "% Date and time: Wed, May 06, 2020 - 12:07:31 AM\n",
      "\\begin{table}[!htbp] \\centering \n",
      "  \\caption{} \n",
      "  \\label{} \n",
      "\\begin{tabular}{@{\\extracolsep{5pt}} ccccccc} \n",
      "\\\\[-1.8ex]\\hline \n",
      "\\hline \\\\[-1.8ex] \n",
      "portfolio & 1 & 2 & 3 & 4 & 5 & wml \\\\ \n",
      "\\hline \\\\[-1.8ex] \n",
      "ew & -1.86 & 4.13 & 5.21 & 7.23 & 10.77 & 10.19 \\\\ \n",
      " & (-0.49) & (1.46) & (2.13) & (2.94) & (3.64) & (3.58) \\\\ \n",
      "vw & 5.87 & 7.59 & 10.18 & 12.05 & 16.6 & 12.85 \\\\ \n",
      " & (1.32) & (2.39) & (3.63) & (4.27) & (4.68) & (3.98) \\\\ \n",
      "\\hline \\\\[-1.8ex] \n",
      "\\end{tabular} \n",
      "\\end{table} \n"
     ]
    }
   ],
   "source": [
    "stargazer(wml_summary_5f_output, type = \"latex\", summary = FALSE, rownames = FALSE)"
   ]
  },
  {
   "cell_type": "markdown",
   "metadata": {},
   "source": [
    "## 7.4 Alpha, Fema French benchmarking"
   ]
  },
  {
   "cell_type": "code",
   "execution_count": 104,
   "metadata": {},
   "outputs": [
    {
     "data": {
      "text/plain": [
       "\n",
       "Call:\n",
       "lm(formula = ew ~ mkt_rf, data = strategy_wml_5f)\n",
       "\n",
       "Residuals:\n",
       "     Min       1Q   Median       3Q      Max \n",
       "-0.51841 -0.01547  0.00315  0.02278  0.16261 \n",
       "\n",
       "Coefficients:\n",
       "             Estimate Std. Error t value Pr(>|t|)    \n",
       "(Intercept)  0.009063   0.002231   4.062 5.60e-05 ***\n",
       "mkt_rf      -0.233015   0.048095  -4.845 1.67e-06 ***\n",
       "---\n",
       "Signif. codes:  0 '***' 0.001 '**' 0.01 '*' 0.05 '.' 0.1 ' ' 1\n",
       "\n",
       "Residual standard error: 0.05126 on 530 degrees of freedom\n",
       "Multiple R-squared:  0.04241,\tAdjusted R-squared:  0.0406 \n",
       "F-statistic: 23.47 on 1 and 530 DF,  p-value: 1.666e-06\n"
      ]
     },
     "metadata": {},
     "output_type": "display_data"
    },
    {
     "data": {
      "text/plain": [
       "\n",
       "Call:\n",
       "lm(formula = ew ~ mkt_rf + smb + hml, data = strategy_wml_5f)\n",
       "\n",
       "Residuals:\n",
       "     Min       1Q   Median       3Q      Max \n",
       "-0.51279 -0.01483  0.00343  0.02146  0.17594 \n",
       "\n",
       "Coefficients:\n",
       "             Estimate Std. Error t value Pr(>|t|)    \n",
       "(Intercept)  0.009068   0.002268   3.999 7.28e-05 ***\n",
       "mkt_rf      -0.211060   0.052203  -4.043 6.06e-05 ***\n",
       "smb         -0.094738   0.073639  -1.287    0.199    \n",
       "hml          0.008524   0.079814   0.107    0.915    \n",
       "---\n",
       "Signif. codes:  0 '***' 0.001 '**' 0.01 '*' 0.05 '.' 0.1 ' ' 1\n",
       "\n",
       "Residual standard error: 0.05128 on 528 degrees of freedom\n",
       "Multiple R-squared:  0.04556,\tAdjusted R-squared:  0.04014 \n",
       "F-statistic: 8.402 on 3 and 528 DF,  p-value: 1.831e-05\n"
      ]
     },
     "metadata": {},
     "output_type": "display_data"
    },
    {
     "data": {
      "text/plain": [
       "\n",
       "Call:\n",
       "lm(formula = ew ~ mkt_rf + smb + hml + mom, data = strategy_wml_5f)\n",
       "\n",
       "Residuals:\n",
       "      Min        1Q    Median        3Q       Max \n",
       "-0.283242 -0.012569  0.002232  0.016222  0.098361 \n",
       "\n",
       "Coefficients:\n",
       "              Estimate Std. Error t value Pr(>|t|)    \n",
       "(Intercept) -0.0001737  0.0013071  -0.133  0.89435    \n",
       "mkt_rf       0.0057105  0.0301147   0.190  0.84968    \n",
       "smb         -0.1224881  0.0415082  -2.951  0.00331 ** \n",
       "hml          0.2912743  0.0457560   6.366 4.23e-10 ***\n",
       "mom          0.9950830  0.0295304  33.697  < 2e-16 ***\n",
       "---\n",
       "Signif. codes:  0 '***' 0.001 '**' 0.01 '*' 0.05 '.' 0.1 ' ' 1\n",
       "\n",
       "Residual standard error: 0.0289 on 527 degrees of freedom\n",
       "Multiple R-squared:  0.6974,\tAdjusted R-squared:  0.6952 \n",
       "F-statistic: 303.7 on 4 and 527 DF,  p-value: < 2.2e-16\n"
      ]
     },
     "metadata": {},
     "output_type": "display_data"
    },
    {
     "data": {
      "text/plain": [
       "\n",
       "Call:\n",
       "lm(formula = vw ~ mkt_rf, data = strategy_wml_5f)\n",
       "\n",
       "Residuals:\n",
       "     Min       1Q   Median       3Q      Max \n",
       "-0.33150 -0.02459  0.00332  0.03174  0.17862 \n",
       "\n",
       "Coefficients:\n",
       "             Estimate Std. Error t value Pr(>|t|)    \n",
       "(Intercept)  0.011535   0.002457   4.695 3.40e-06 ***\n",
       "mkt_rf      -0.348652   0.052963  -6.583 1.11e-10 ***\n",
       "---\n",
       "Signif. codes:  0 '***' 0.001 '**' 0.01 '*' 0.05 '.' 0.1 ' ' 1\n",
       "\n",
       "Residual standard error: 0.05645 on 530 degrees of freedom\n",
       "Multiple R-squared:  0.07558,\tAdjusted R-squared:  0.07384 \n",
       "F-statistic: 43.34 on 1 and 530 DF,  p-value: 1.111e-10\n"
      ]
     },
     "metadata": {},
     "output_type": "display_data"
    },
    {
     "data": {
      "text/plain": [
       "\n",
       "Call:\n",
       "lm(formula = vw ~ mkt_rf + smb + hml, data = strategy_wml_5f)\n",
       "\n",
       "Residuals:\n",
       "     Min       1Q   Median       3Q      Max \n",
       "-0.32688 -0.02463  0.00362  0.03165  0.16704 \n",
       "\n",
       "Coefficients:\n",
       "             Estimate Std. Error t value Pr(>|t|)    \n",
       "(Intercept)  0.010688   0.002493   4.288 2.14e-05 ***\n",
       "mkt_rf      -0.330608   0.057377  -5.762 1.41e-08 ***\n",
       "smb          0.062155   0.080938   0.768   0.4429    \n",
       "hml          0.164492   0.087725   1.875   0.0613 .  \n",
       "---\n",
       "Signif. codes:  0 '***' 0.001 '**' 0.01 '*' 0.05 '.' 0.1 ' ' 1\n",
       "\n",
       "Residual standard error: 0.05636 on 528 degrees of freedom\n",
       "Multiple R-squared:  0.08213,\tAdjusted R-squared:  0.07691 \n",
       "F-statistic: 15.75 on 3 and 528 DF,  p-value: 8.025e-10\n"
      ]
     },
     "metadata": {},
     "output_type": "display_data"
    },
    {
     "data": {
      "text/plain": [
       "\n",
       "Call:\n",
       "lm(formula = vw ~ mkt_rf + smb + hml + mom, data = strategy_wml_5f)\n",
       "\n",
       "Residuals:\n",
       "      Min        1Q    Median        3Q       Max \n",
       "-0.146109 -0.015075  0.000946  0.014972  0.095371 \n",
       "\n",
       "Coefficients:\n",
       "              Estimate Std. Error t value Pr(>|t|)    \n",
       "(Intercept) -5.046e-05  1.241e-03  -0.041  0.96759    \n",
       "mkt_rf      -7.873e-02  2.860e-02  -2.753  0.00611 ** \n",
       "smb          2.991e-02  3.942e-02   0.759  0.44830    \n",
       "hml          4.930e-01  4.345e-02  11.347  < 2e-16 ***\n",
       "mom          1.156e+00  2.804e-02  41.230  < 2e-16 ***\n",
       "---\n",
       "Signif. codes:  0 '***' 0.001 '**' 0.01 '*' 0.05 '.' 0.1 ' ' 1\n",
       "\n",
       "Residual standard error: 0.02744 on 527 degrees of freedom\n",
       "Multiple R-squared:  0.7828,\tAdjusted R-squared:  0.7811 \n",
       "F-statistic: 474.8 on 4 and 527 DF,  p-value: < 2.2e-16\n"
      ]
     },
     "metadata": {},
     "output_type": "display_data"
    },
    {
     "data": {
      "text/plain": [
       "\n",
       "Call:\n",
       "lm(formula = ew ~ mkt_rf_ff5 + smb_ff5 + hml_ff5 + rmw + cma, \n",
       "    data = strategy_wml_5f)\n",
       "\n",
       "Residuals:\n",
       "     Min       1Q   Median       3Q      Max \n",
       "-0.46417 -0.01616  0.00187  0.02211  0.18704 \n",
       "\n",
       "Coefficients:\n",
       "             Estimate Std. Error t value Pr(>|t|)    \n",
       "(Intercept)  0.005526   0.002276   2.428  0.01551 *  \n",
       "mkt_rf_ff5  -0.097019   0.054442  -1.782  0.07532 .  \n",
       "smb_ff5     -0.011846   0.075015  -0.158  0.87458    \n",
       "hml_ff5     -0.286114   0.104937  -2.727  0.00661 ** \n",
       "rmw          0.495039   0.102847   4.813 1.94e-06 ***\n",
       "cma          0.661693   0.155394   4.258 2.44e-05 ***\n",
       "---\n",
       "Signif. codes:  0 '***' 0.001 '**' 0.01 '*' 0.05 '.' 0.1 ' ' 1\n",
       "\n",
       "Residual standard error: 0.0497 on 526 degrees of freedom\n",
       "Multiple R-squared:  0.1067,\tAdjusted R-squared:  0.09818 \n",
       "F-statistic: 12.56 on 5 and 526 DF,  p-value: 1.539e-11\n"
      ]
     },
     "metadata": {},
     "output_type": "display_data"
    },
    {
     "data": {
      "text/plain": [
       "\n",
       "Call:\n",
       "lm(formula = vw ~ mkt_rf_ff5 + smb_ff5 + hml_ff5 + rmw + cma, \n",
       "    data = strategy_wml_5f)\n",
       "\n",
       "Residuals:\n",
       "      Min        1Q    Median        3Q       Max \n",
       "-0.314811 -0.024950  0.005194  0.029929  0.198675 \n",
       "\n",
       "Coefficients:\n",
       "             Estimate Std. Error t value Pr(>|t|)    \n",
       "(Intercept)  0.007223   0.002519   2.868  0.00430 ** \n",
       "mkt_rf_ff5  -0.223493   0.060256  -3.709  0.00023 ***\n",
       "smb_ff5      0.165409   0.083026   1.992  0.04686 *  \n",
       "hml_ff5     -0.151949   0.116144  -1.308  0.19135    \n",
       "rmw          0.478626   0.113831   4.205 3.07e-05 ***\n",
       "cma          0.662930   0.171990   3.854  0.00013 ***\n",
       "---\n",
       "Signif. codes:  0 '***' 0.001 '**' 0.01 '*' 0.05 '.' 0.1 ' ' 1\n",
       "\n",
       "Residual standard error: 0.05501 on 526 degrees of freedom\n",
       "Multiple R-squared:  0.1288,\tAdjusted R-squared:  0.1206 \n",
       "F-statistic: 15.56 on 5 and 526 DF,  p-value: 2.735e-14\n"
      ]
     },
     "metadata": {},
     "output_type": "display_data"
    }
   ],
   "source": [
    "strategy_wml_5f = merge(strategy_wml_5f, ff_four, all.x = TRUE, by = c('end_of_month'))\n",
    "\n",
    "ew_lm_fit_capm = lm(ew ~ mkt_rf, data = strategy_wml_5f)\n",
    "ew_lm_fit_3f = lm(ew ~ mkt_rf + smb + hml, data = strategy_wml_5f)\n",
    "ew_lm_fit_4f = lm(ew ~ mkt_rf + smb + hml + mom, data = strategy_wml_5f)\n",
    "\n",
    "summary(ew_lm_fit_capm)\n",
    "summary(ew_lm_fit_3f)\n",
    "summary(ew_lm_fit_4f)\n",
    "\n",
    "\n",
    "vw_lm_fit_capm = lm(vw ~ mkt_rf, data = strategy_wml_5f)\n",
    "vw_lm_fit_3f = lm(vw ~ mkt_rf + smb + hml, data = strategy_wml_5f)\n",
    "vw_lm_fit_4f = lm(vw ~ mkt_rf + smb + hml + mom, data = strategy_wml_5f)\n",
    "\n",
    "summary(vw_lm_fit_capm)\n",
    "summary(vw_lm_fit_3f)\n",
    "summary(vw_lm_fit_4f)\n",
    "\n",
    "\n",
    "#Five factor benchmarking\n",
    "strategy_wml_5f = merge(strategy_wml_5f, ff_five, all.x = TRUE, suffixes = c(\"\", \"_ff5\"), by = c('end_of_month'))\n",
    "\n",
    "ew_lm_fit_5f = lm(ew ~ mkt_rf_ff5 + smb_ff5 + hml_ff5 + rmw + cma, data = strategy_wml_5f)\n",
    "vw_lm_fit_5f = lm(vw ~ mkt_rf_ff5 + smb_ff5 + hml_ff5 + rmw + cma, data = strategy_wml_5f)\n",
    "\n",
    "summary(ew_lm_fit_5f)\n",
    "summary(vw_lm_fit_5f)"
   ]
  },
  {
   "cell_type": "code",
   "execution_count": 105,
   "metadata": {},
   "outputs": [],
   "source": [
    "wml_5f_factor_summary = data.table(\n",
    "    portfolio = character(), \n",
    "    alpha = numeric(), mkt = numeric(), smb = numeric(), hml = numeric(), \n",
    "    umd = numeric(), rmw = numeric(), cma = numeric(), \n",
    "    alpha_t = numeric(), mkt_t = numeric(), smb_t = numeric(), hml_t = numeric(), \n",
    "    umd_t = numeric(), rmw_t = numeric(), cma_t = numeric(), \n",
    "    r_squared = numeric()\n",
    ")\n",
    "\n",
    "wml_5f_factor_summary = rbind(wml_5f_factor_summary, summerize_wml_factors(ew_lm_fit_capm, \"ew\"), use.names = FALSE)\n",
    "wml_5f_factor_summary = rbind(wml_5f_factor_summary, summerize_wml_factors(ew_lm_fit_3f, \"ew\"), use.names = FALSE)\n",
    "wml_5f_factor_summary = rbind(wml_5f_factor_summary, summerize_wml_factors(ew_lm_fit_4f, \"ew\"), use.names = FALSE)\n",
    "wml_5f_factor_summary = rbind(wml_5f_factor_summary, summerize_wml_factors(ew_lm_fit_5f, \"ew\"), use.names = FALSE)\n",
    "wml_5f_factor_summary = rbind(wml_5f_factor_summary, summerize_wml_factors(vw_lm_fit_capm, \"vw\"), use.names = FALSE)\n",
    "wml_5f_factor_summary = rbind(wml_5f_factor_summary, summerize_wml_factors(vw_lm_fit_3f, \"vw\"), use.names = FALSE)\n",
    "wml_5f_factor_summary = rbind(wml_5f_factor_summary, summerize_wml_factors(vw_lm_fit_4f, \"vw\"), use.names = FALSE)\n",
    "wml_5f_factor_summary = rbind(wml_5f_factor_summary, summerize_wml_factors(vw_lm_fit_5f, \"vw\"), use.names = FALSE)"
   ]
  },
  {
   "cell_type": "code",
   "execution_count": 106,
   "metadata": {},
   "outputs": [],
   "source": [
    "wml_5f_factor_summary_output = data.table(t(lapply(wml_5f_factor_summary[1, .SD, .SDcol = -grep(\"_t\", names(wml_5f_factor_summary))], round_num)))\n",
    "for(i in 1:15){\n",
    "    if(i %% 2 == 0){\n",
    "        wml_5f_factor_summary_output = rbind(wml_5f_factor_summary_output, lapply(wml_5f_factor_summary[i%/%2+1, .SD, .SDcol = -grep(\"_t\", names(wml_5f_factor_summary))],round_num), use.names = FALSE)\n",
    "    } else {\n",
    "        wml_5f_factor_summary_output = rbind(wml_5f_factor_summary_output, lapply(wml_5f_factor_summary[i%/%2+1, .(NA, .SD, NA), .SDcol = c(grep(\"_t\", names(wml_5f_factor_summary)))], add_bracket), use.names = FALSE)\n",
    "    }\n",
    "}"
   ]
  },
  {
   "cell_type": "markdown",
   "metadata": {},
   "source": [
    "## Table 8.2: Five-factor IMOM Factor Regresssion <a class=\"anchor\" id=\"table_8.2\"></a>"
   ]
  },
  {
   "cell_type": "code",
   "execution_count": 107,
   "metadata": {},
   "outputs": [
    {
     "data": {
      "text/html": [
       "<table style=\"text-align:center\"><tr><td colspan=\"9\" style=\"border-bottom: 1px solid black\"></td></tr><tr><td style=\"text-align:left\">portfolio</td><td>alpha</td><td>mkt</td><td>smb</td><td>hml</td><td>umd</td><td>rmw</td><td>cma</td><td>r_squared</td></tr><tr><td colspan=\"9\" style=\"border-bottom: 1px solid black\"></td></tr><tr><td style=\"text-align:left\">ew</td><td>11.43</td><td>-0.23</td><td></td><td></td><td></td><td></td><td></td><td>0.04</td></tr><tr><td style=\"text-align:left\"></td><td>(4.06)</td><td>(-4.84)</td><td></td><td></td><td></td><td></td><td></td><td></td></tr><tr><td style=\"text-align:left\">ew</td><td>11.44</td><td>-0.21</td><td>-0.09</td><td>0.01</td><td></td><td></td><td></td><td>0.05</td></tr><tr><td style=\"text-align:left\"></td><td>(4)</td><td>(-4.04)</td><td>(-1.29)</td><td>(0.11)</td><td></td><td></td><td></td><td></td></tr><tr><td style=\"text-align:left\">ew</td><td>-0.21</td><td>0.01</td><td>-0.12</td><td>0.29</td><td>1</td><td></td><td></td><td>0.7</td></tr><tr><td style=\"text-align:left\"></td><td>(-0.13)</td><td>(0.19)</td><td>(-2.95)</td><td>(6.37)</td><td>(33.7)</td><td></td><td></td><td></td></tr><tr><td style=\"text-align:left\">ew</td><td>6.84</td><td>-0.1</td><td>-0.01</td><td>-0.29</td><td></td><td>0.5</td><td>0.66</td><td>0.11</td></tr><tr><td style=\"text-align:left\"></td><td>(2.43)</td><td>(-1.78)</td><td>(-0.16)</td><td>(-2.73)</td><td></td><td>(4.81)</td><td>(4.26)</td><td></td></tr><tr><td style=\"text-align:left\">vw</td><td>14.76</td><td>-0.35</td><td></td><td></td><td></td><td></td><td></td><td>0.08</td></tr><tr><td style=\"text-align:left\"></td><td>(4.7)</td><td>(-6.58)</td><td></td><td></td><td></td><td></td><td></td><td></td></tr><tr><td style=\"text-align:left\">vw</td><td>13.61</td><td>-0.33</td><td>0.06</td><td>0.16</td><td></td><td></td><td></td><td>0.08</td></tr><tr><td style=\"text-align:left\"></td><td>(4.29)</td><td>(-5.76)</td><td>(0.77)</td><td>(1.88)</td><td></td><td></td><td></td><td></td></tr><tr><td style=\"text-align:left\">vw</td><td>-0.06</td><td>-0.08</td><td>0.03</td><td>0.49</td><td>1.16</td><td></td><td></td><td>0.78</td></tr><tr><td style=\"text-align:left\"></td><td>(-0.04)</td><td>(-2.75)</td><td>(0.76)</td><td>(11.35)</td><td>(41.23)</td><td></td><td></td><td></td></tr><tr><td style=\"text-align:left\">vw</td><td>9.02</td><td>-0.22</td><td>0.17</td><td>-0.15</td><td></td><td>0.48</td><td>0.66</td><td>0.13</td></tr><tr><td style=\"text-align:left\"></td><td>(2.87)</td><td>(-3.71)</td><td>(1.99)</td><td>(-1.31)</td><td></td><td>(4.2)</td><td>(3.85)</td><td></td></tr><tr><td colspan=\"9\" style=\"border-bottom: 1px solid black\"></td></tr></table>"
      ]
     },
     "metadata": {},
     "output_type": "display_data"
    }
   ],
   "source": [
    "IRdisplay::display_html(\n",
    "        paste(capture.output(\n",
    "            stargazer(wml_5f_factor_summary_output, type = \"html\", summary = FALSE, rownames = FALSE)\n",
    "        ),\n",
    "        collapse='', sep='')\n",
    ")\n"
   ]
  },
  {
   "cell_type": "code",
   "execution_count": 108,
   "metadata": {
    "scrolled": true
   },
   "outputs": [
    {
     "name": "stdout",
     "output_type": "stream",
     "text": [
      "\n",
      "% Table created by stargazer v.5.2.2 by Marek Hlavac, Harvard University. E-mail: hlavac at fas.harvard.edu\n",
      "% Date and time: Wed, May 06, 2020 - 12:07:33 AM\n",
      "\\begin{table}[!htbp] \\centering \n",
      "  \\caption{} \n",
      "  \\label{} \n",
      "\\begin{tabular}{@{\\extracolsep{5pt}} ccccccccc} \n",
      "\\\\[-1.8ex]\\hline \n",
      "\\hline \\\\[-1.8ex] \n",
      "portfolio & alpha & mkt & smb & hml & umd & rmw & cma & r\\_squared \\\\ \n",
      "\\hline \\\\[-1.8ex] \n",
      "ew & 11.43 & -0.23 &  &  &  &  &  & 0.04 \\\\ \n",
      " & (4.06) & (-4.84) &  &  &  &  &  &  \\\\ \n",
      "ew & 11.44 & -0.21 & -0.09 & 0.01 &  &  &  & 0.05 \\\\ \n",
      " & (4) & (-4.04) & (-1.29) & (0.11) &  &  &  &  \\\\ \n",
      "ew & -0.21 & 0.01 & -0.12 & 0.29 & 1 &  &  & 0.7 \\\\ \n",
      " & (-0.13) & (0.19) & (-2.95) & (6.37) & (33.7) &  &  &  \\\\ \n",
      "ew & 6.84 & -0.1 & -0.01 & -0.29 &  & 0.5 & 0.66 & 0.11 \\\\ \n",
      " & (2.43) & (-1.78) & (-0.16) & (-2.73) &  & (4.81) & (4.26) &  \\\\ \n",
      "vw & 14.76 & -0.35 &  &  &  &  &  & 0.08 \\\\ \n",
      " & (4.7) & (-6.58) &  &  &  &  &  &  \\\\ \n",
      "vw & 13.61 & -0.33 & 0.06 & 0.16 &  &  &  & 0.08 \\\\ \n",
      " & (4.29) & (-5.76) & (0.77) & (1.88) &  &  &  &  \\\\ \n",
      "vw & -0.06 & -0.08 & 0.03 & 0.49 & 1.16 &  &  & 0.78 \\\\ \n",
      " & (-0.04) & (-2.75) & (0.76) & (11.35) & (41.23) &  &  &  \\\\ \n",
      "vw & 9.02 & -0.22 & 0.17 & -0.15 &  & 0.48 & 0.66 & 0.13 \\\\ \n",
      " & (2.87) & (-3.71) & (1.99) & (-1.31) &  & (4.2) & (3.85) &  \\\\ \n",
      "\\hline \\\\[-1.8ex] \n",
      "\\end{tabular} \n",
      "\\end{table} \n"
     ]
    }
   ],
   "source": [
    "stargazer(wml_5f_factor_summary_output, type = \"latex\", summary = FALSE, rownames = FALSE)"
   ]
  },
  {
   "cell_type": "markdown",
   "metadata": {},
   "source": [
    "## 7.5 P/L Curve"
   ]
  },
  {
   "cell_type": "code",
   "execution_count": 109,
   "metadata": {},
   "outputs": [],
   "source": [
    "#P&L curve\n",
    "strategy_wml_5f[, cum_ew := cumprod(1 + ew + rf) - 1]\n",
    "strategy_wml_5f[, cum_vw := cumprod(1 + vw + rf) - 1]\n",
    "strategy_wml_5f[, cum_mkt := cumprod(1 + mkt_rf + rf) - 1]\n",
    "\n",
    "figure_data_5 = strategy_wml_5f[,.(end_of_month, cum_ew, cum_vw)]\n",
    "names(figure_data_5)[2:3] = c(\"Equal Weighted\", \"Value Weighted\")\n",
    "\n",
    "figure_data_5 = melt(figure_data_5, id.vars = c(\"end_of_month\"))\n",
    "figure_data_5[, value := (value + 1)]"
   ]
  },
  {
   "cell_type": "markdown",
   "metadata": {},
   "source": [
    "## Figure 4.1: Five-factor IMOM P/L Curve <a class=\"anchor\" id=\"figure_4.1\"></a>"
   ]
  },
  {
   "cell_type": "code",
   "execution_count": 110,
   "metadata": {},
   "outputs": [
    {
     "data": {
      "image/png": "[encoded data removed]",
      "text/plain": [
       "plot without title"
      ]
     },
     "metadata": {
      "image/png": {
       "height": 600,
       "width": 900
      },
      "text/plain": {
       "height": 600,
       "width": 900
      }
     },
     "output_type": "display_data"
    }
   ],
   "source": [
    "ggplot(data = figure_data_5, aes(x = as.Date(end_of_month), y = value, color = variable, linetype = variable)) +\n",
    "    geom_line(size = 1) +\n",
    "    labs(\n",
    "        x = \"Year\",\n",
    "        y = \"Cummulative return\",\n",
    "        colour = \"\",\n",
    "        linetype = \"\"\n",
    "    ) +\n",
    "    scale_y_log10(limit = c(1e-1, 1e04), n.breaks = 6) + ggtitle(\"5 Factor IMOM P/L curve\") +\n",
    "    ggthemes::theme_hc(25)"
   ]
  },
  {
   "cell_type": "code",
   "execution_count": 111,
   "metadata": {},
   "outputs": [],
   "source": [
    "strategy_wml_5f[, cum_ew_long := cumprod(1 + ew_long + rf) - 1]\n",
    "strategy_wml_5f[, cum_vw_long := cumprod(1 + vw_long + rf) - 1]\n",
    "strategy_wml_5f[, cum_ew_short := cumprod(1 + ew_short + rf) - 1]\n",
    "strategy_wml_5f[, cum_vw_short := cumprod(1 + vw_short + rf) - 1]\n",
    "strategy_wml_5f[, cum_mkt := cumprod(1 + mkt_rf + rf) - 1]"
   ]
  },
  {
   "cell_type": "code",
   "execution_count": 112,
   "metadata": {},
   "outputs": [],
   "source": [
    "figure_data_6 = merge(\n",
    "    strategy_wml_5f , strategy_wml,\n",
    "    suffixes=c('_IMOM_5f','_IMOM'),\n",
    "    by = c('end_of_month')\n",
    ")\n",
    "setDT(figure_data_6)\n",
    "\n",
    "figure_data_6[, cum_vw_long_IMOM_2 := cumprod(1 + vw_long_IMOM + rf_IMOM) - 1]\n",
    "figure_data_6[, cum_vw_short_IMOM_2 := cumprod(1 + vw_short_IMOM + rf_IMOM) - 1]"
   ]
  },
  {
   "cell_type": "code",
   "execution_count": 113,
   "metadata": {},
   "outputs": [],
   "source": [
    "figure_data_6 = figure_data_6[,c(\n",
    "    \"end_of_month\",\n",
    "    \"cum_vw_long_IMOM_5f\",\n",
    "    \"cum_vw_short_IMOM_5f\",\n",
    "    \"cum_vw_long_IMOM_2\",\n",
    "    \"cum_vw_short_IMOM_2\",\n",
    "    \"cum_mkt_IMOM_5f\"\n",
    "    )]\n",
    "\n",
    "names(figure_data_6)[2:6] = c(\"5 Factor IMOM (Long)\", \"5 Factor IMOM (Short)\", \"IMOM (Long)\", \"IMOM (Short)\", \"Market\")\n",
    "\n",
    "figure_data_6 = melt(figure_data_6, id.vars = c(\"end_of_month\"))\n",
    "figure_data_6[, value := (value + 1)]"
   ]
  },
  {
   "cell_type": "markdown",
   "metadata": {},
   "source": [
    "## Figure 4.2: Five-factor IMOM Cummulative Performance <a class=\"anchor\" id=\"figure_4.2\"></a>"
   ]
  },
  {
   "cell_type": "code",
   "execution_count": 114,
   "metadata": {},
   "outputs": [
    {
     "data": {
      "image/png": "[encoded data removed]",
      "text/plain": [
       "plot without title"
      ]
     },
     "metadata": {
      "image/png": {
       "height": 600,
       "width": 900
      },
      "text/plain": {
       "height": 600,
       "width": 900
      }
     },
     "output_type": "display_data"
    }
   ],
   "source": [
    "ggplot(data = figure_data_6, aes(x = as.Date(end_of_month), y = value, color = variable, linetype = variable)) +\n",
    "    geom_line(size = 1) +\n",
    "    labs(\n",
    "        x = \"Year\",\n",
    "        y = \"Cummulative return\",\n",
    "        colour = \"\",\n",
    "        linetype = \"\"\n",
    "    ) +\n",
    "    scale_y_log10(limit = c(1e-1, 1e04), n.breaks = 6) + ggtitle(\"5 Factor IMOM Cumulative Performance\") +\n",
    "    ggthemes::theme_hc(25)"
   ]
  },
  {
   "cell_type": "code",
   "execution_count": null,
   "metadata": {},
   "outputs": [],
   "source": []
  }
 ],
 "metadata": {
  "kernelspec": {
   "display_name": "R",
   "language": "R",
   "name": "ir"
  },
  "language_info": {
   "codemirror_mode": "r",
   "file_extension": ".r",
   "mimetype": "text/x-r-source",
   "name": "R",
   "pygments_lexer": "r",
   "version": "3.6.1"
  }
 },
 "nbformat": 4,
 "nbformat_minor": 2
}
